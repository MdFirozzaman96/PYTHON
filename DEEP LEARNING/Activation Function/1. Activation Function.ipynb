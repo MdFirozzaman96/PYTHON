{
 "cells": [
  {
   "cell_type": "code",
   "execution_count": 11,
   "id": "a112aae9",
   "metadata": {},
   "outputs": [],
   "source": [
    "import math"
   ]
  },
  {
   "cell_type": "markdown",
   "id": "b867f437",
   "metadata": {},
   "source": [
    "# 1. sigmoid Function :"
   ]
  },
  {
   "cell_type": "code",
   "execution_count": 12,
   "id": "21aa45af",
   "metadata": {},
   "outputs": [],
   "source": [
    "def Sigmoid(x):\n",
    "    return 1/(1+math.exp(-x))"
   ]
  },
  {
   "cell_type": "code",
   "execution_count": 13,
   "id": "0e95c066",
   "metadata": {
    "scrolled": true
   },
   "outputs": [
    {
     "data": {
      "text/plain": [
       "1.0"
      ]
     },
     "execution_count": 13,
     "metadata": {},
     "output_type": "execute_result"
    }
   ],
   "source": [
    "Sigmoid(100)"
   ]
  },
  {
   "cell_type": "code",
   "execution_count": 14,
   "id": "3a51fecc",
   "metadata": {},
   "outputs": [
    {
     "data": {
      "text/plain": [
       "0.01798620996209156"
      ]
     },
     "execution_count": 14,
     "metadata": {},
     "output_type": "execute_result"
    }
   ],
   "source": [
    "Sigmoid(-4)"
   ]
  },
  {
   "cell_type": "code",
   "execution_count": 15,
   "id": "597c8b38",
   "metadata": {},
   "outputs": [
    {
     "data": {
      "text/plain": [
       "8.75651076269652e-27"
      ]
     },
     "execution_count": 15,
     "metadata": {},
     "output_type": "execute_result"
    }
   ],
   "source": [
    "Sigmoid(-60)"
   ]
  },
  {
   "cell_type": "code",
   "execution_count": 16,
   "id": "412d523a",
   "metadata": {},
   "outputs": [
    {
     "data": {
      "text/plain": [
       "0.9999999999999065"
      ]
     },
     "execution_count": 16,
     "metadata": {},
     "output_type": "execute_result"
    }
   ],
   "source": [
    "Sigmoid(30)"
   ]
  },
  {
   "cell_type": "code",
   "execution_count": 17,
   "id": "7d133e4c",
   "metadata": {},
   "outputs": [
    {
     "data": {
      "text/plain": [
       "0.7310585786300049"
      ]
     },
     "execution_count": 17,
     "metadata": {},
     "output_type": "execute_result"
    }
   ],
   "source": [
    "Sigmoid(1)"
   ]
  },
  {
   "cell_type": "markdown",
   "id": "9132b3b6",
   "metadata": {},
   "source": [
    "# 2. tanh Function : "
   ]
  },
  {
   "cell_type": "code",
   "execution_count": 19,
   "id": "072a9b65",
   "metadata": {},
   "outputs": [],
   "source": [
    "def tanh(x):\n",
    "    return (math.exp(x)-math.exp(-x))/(math.exp(x)+math.exp(-x))"
   ]
  },
  {
   "cell_type": "code",
   "execution_count": 20,
   "id": "a5feaa05",
   "metadata": {},
   "outputs": [
    {
     "data": {
      "text/plain": [
       "-1.0"
      ]
     },
     "execution_count": 20,
     "metadata": {},
     "output_type": "execute_result"
    }
   ],
   "source": [
    "tanh(-56)"
   ]
  },
  {
   "cell_type": "code",
   "execution_count": 21,
   "id": "4a5c6914",
   "metadata": {},
   "outputs": [
    {
     "data": {
      "text/plain": [
       "1.0"
      ]
     },
     "execution_count": 21,
     "metadata": {},
     "output_type": "execute_result"
    }
   ],
   "source": [
    "tanh(50)"
   ]
  },
  {
   "cell_type": "code",
   "execution_count": 22,
   "id": "08c5ba90",
   "metadata": {},
   "outputs": [
    {
     "data": {
      "text/plain": [
       "0.7615941559557649"
      ]
     },
     "execution_count": 22,
     "metadata": {},
     "output_type": "execute_result"
    }
   ],
   "source": [
    "tanh(1)"
   ]
  },
  {
   "cell_type": "code",
   "execution_count": 23,
   "id": "a852672c",
   "metadata": {},
   "outputs": [
    {
     "data": {
      "text/plain": [
       "-0.7615941559557649"
      ]
     },
     "execution_count": 23,
     "metadata": {},
     "output_type": "execute_result"
    }
   ],
   "source": [
    "tanh(-1)"
   ]
  },
  {
   "cell_type": "markdown",
   "id": "4c88c0ee",
   "metadata": {},
   "source": [
    "# 3. ReLU : "
   ]
  },
  {
   "cell_type": "code",
   "execution_count": 24,
   "id": "3529dd62",
   "metadata": {},
   "outputs": [],
   "source": [
    "def ReLU(x):\n",
    "    return max(0,x)"
   ]
  },
  {
   "cell_type": "code",
   "execution_count": 25,
   "id": "4fa6e0fa",
   "metadata": {},
   "outputs": [
    {
     "data": {
      "text/plain": [
       "0"
      ]
     },
     "execution_count": 25,
     "metadata": {},
     "output_type": "execute_result"
    }
   ],
   "source": [
    "ReLU(-4)"
   ]
  },
  {
   "cell_type": "code",
   "execution_count": 26,
   "id": "85ffbdac",
   "metadata": {},
   "outputs": [
    {
     "data": {
      "text/plain": [
       "5"
      ]
     },
     "execution_count": 26,
     "metadata": {},
     "output_type": "execute_result"
    }
   ],
   "source": [
    "ReLU(5)"
   ]
  },
  {
   "cell_type": "code",
   "execution_count": 27,
   "id": "38263472",
   "metadata": {},
   "outputs": [
    {
     "data": {
      "text/plain": [
       "0.4"
      ]
     },
     "execution_count": 27,
     "metadata": {},
     "output_type": "execute_result"
    }
   ],
   "source": [
    "ReLU(0.4)"
   ]
  },
  {
   "cell_type": "code",
   "execution_count": 28,
   "id": "ce40e864",
   "metadata": {},
   "outputs": [
    {
     "data": {
      "text/plain": [
       "0"
      ]
     },
     "execution_count": 28,
     "metadata": {},
     "output_type": "execute_result"
    }
   ],
   "source": [
    "ReLU(0)"
   ]
  },
  {
   "cell_type": "code",
   "execution_count": 29,
   "id": "4586f1f3",
   "metadata": {},
   "outputs": [
    {
     "data": {
      "text/plain": [
       "0"
      ]
     },
     "execution_count": 29,
     "metadata": {},
     "output_type": "execute_result"
    }
   ],
   "source": [
    "ReLU(-1000)"
   ]
  },
  {
   "cell_type": "markdown",
   "id": "e11bb36a",
   "metadata": {},
   "source": [
    "# 4. Leaky ReLU : "
   ]
  },
  {
   "cell_type": "code",
   "execution_count": 30,
   "id": "56c1e0d8",
   "metadata": {},
   "outputs": [],
   "source": [
    "def Leaky_ReLU(x):\n",
    "    return max((0.1)*x,x)"
   ]
  },
  {
   "cell_type": "code",
   "execution_count": 31,
   "id": "2a04c31d",
   "metadata": {},
   "outputs": [
    {
     "data": {
      "text/plain": [
       "10"
      ]
     },
     "execution_count": 31,
     "metadata": {},
     "output_type": "execute_result"
    }
   ],
   "source": [
    "Leaky_ReLU(10)"
   ]
  },
  {
   "cell_type": "code",
   "execution_count": 32,
   "id": "0684b0b8",
   "metadata": {},
   "outputs": [
    {
     "data": {
      "text/plain": [
       "-0.1"
      ]
     },
     "execution_count": 32,
     "metadata": {},
     "output_type": "execute_result"
    }
   ],
   "source": [
    "Leaky_ReLU(-1)"
   ]
  },
  {
   "cell_type": "code",
   "execution_count": 33,
   "id": "6d6be792",
   "metadata": {},
   "outputs": [
    {
     "data": {
      "text/plain": [
       "100"
      ]
     },
     "execution_count": 33,
     "metadata": {},
     "output_type": "execute_result"
    }
   ],
   "source": [
    "Leaky_ReLU(100)"
   ]
  },
  {
   "cell_type": "code",
   "execution_count": 34,
   "id": "37af61bd",
   "metadata": {},
   "outputs": [
    {
     "data": {
      "text/plain": [
       "-10.0"
      ]
     },
     "execution_count": 34,
     "metadata": {},
     "output_type": "execute_result"
    }
   ],
   "source": [
    "Leaky_ReLU(-100)"
   ]
  },
  {
   "cell_type": "code",
   "execution_count": null,
   "id": "c9b0ab26",
   "metadata": {},
   "outputs": [],
   "source": []
  }
 ],
 "metadata": {
  "kernelspec": {
   "display_name": "Python 3 (ipykernel)",
   "language": "python",
   "name": "python3"
  },
  "language_info": {
   "codemirror_mode": {
    "name": "ipython",
    "version": 3
   },
   "file_extension": ".py",
   "mimetype": "text/x-python",
   "name": "python",
   "nbconvert_exporter": "python",
   "pygments_lexer": "ipython3",
   "version": "3.9.7"
  }
 },
 "nbformat": 4,
 "nbformat_minor": 5
}
