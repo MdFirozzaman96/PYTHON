{
 "cells": [
  {
   "cell_type": "code",
   "execution_count": 2,
   "id": "9918a8b6",
   "metadata": {},
   "outputs": [],
   "source": [
    "import tensorflow as tf\n",
    "from tensorflow import keras\n",
    "from tensorflow.keras import datasets,layers,models\n",
    "import matplotlib.pyplot as plt\n",
    "import numpy as np"
   ]
  },
  {
   "cell_type": "code",
   "execution_count": 5,
   "id": "0c634f5d",
   "metadata": {},
   "outputs": [
    {
     "name": "stdout",
     "output_type": "stream",
     "text": [
      "2.11.0\n"
     ]
    }
   ],
   "source": [
    "print(tf. __version__) "
   ]
  },
  {
   "cell_type": "code",
   "execution_count": null,
   "id": "b3062435",
   "metadata": {},
   "outputs": [],
   "source": [
    "(X_train,y_train),(X_test,y_test)=datasets.cifar10.load_data()"
   ]
  },
  {
   "cell_type": "code",
   "execution_count": null,
   "id": "1ef4c833",
   "metadata": {},
   "outputs": [],
   "source": [
    "print(\"Shape of X_train : \",X_train.shape)"
   ]
  },
  {
   "cell_type": "code",
   "execution_count": null,
   "id": "dc5b67b9",
   "metadata": {},
   "outputs": [],
   "source": [
    "print(\"Shape of X_test : \",X_test.shape)"
   ]
  },
  {
   "cell_type": "code",
   "execution_count": null,
   "id": "092e7b56",
   "metadata": {},
   "outputs": [],
   "source": [
    "X_train"
   ]
  },
  {
   "cell_type": "code",
   "execution_count": null,
   "id": "f9946937",
   "metadata": {},
   "outputs": [],
   "source": [
    "plt.imshow(X_train[4])\n",
    "## plt.imshow(y_train[0]) ## raise TypeError(\"Invalid shape {} for image data\""
   ]
  },
  {
   "cell_type": "code",
   "execution_count": null,
   "id": "57bc2171",
   "metadata": {},
   "outputs": [],
   "source": [
    "y_train[0:5]"
   ]
  },
  {
   "cell_type": "code",
   "execution_count": null,
   "id": "89f2e554",
   "metadata": {},
   "outputs": [],
   "source": [
    "y_train=y_train.reshape(-1,)\n",
    "y_train[:5]"
   ]
  },
  {
   "cell_type": "code",
   "execution_count": null,
   "id": "fc00709d",
   "metadata": {},
   "outputs": [],
   "source": [
    "classes=[\"airplane\",\"automobile\",\"bird\",\"cat\",\"deer\",\"dog\",\"frog\",\"horse\",\"ship\",\"truck\"]"
   ]
  },
  {
   "cell_type": "code",
   "execution_count": null,
   "id": "1bc30896",
   "metadata": {},
   "outputs": [],
   "source": [
    "plt.imshow(X_train[1])"
   ]
  },
  {
   "cell_type": "code",
   "execution_count": null,
   "id": "450ccb05",
   "metadata": {},
   "outputs": [],
   "source": [
    "##plt.figure(figsize=(15,2))\n",
    "plt.imshow(X_train[1])"
   ]
  },
  {
   "cell_type": "code",
   "execution_count": null,
   "id": "df966612",
   "metadata": {},
   "outputs": [],
   "source": [
    "def plot_sample(X,y,index):\n",
    "    plt.figure(figsize=(15,2))\n",
    "    plt.imshow(X[index])\n",
    "    plt.xlabel(classes[y[index]])"
   ]
  },
  {
   "cell_type": "code",
   "execution_count": null,
   "id": "c4e12cc5",
   "metadata": {},
   "outputs": [],
   "source": [
    "plot_sample(X_train,y_train,0)"
   ]
  },
  {
   "cell_type": "code",
   "execution_count": null,
   "id": "2d3663ea",
   "metadata": {},
   "outputs": [],
   "source": [
    "plot_sample(X_train,y_train,2)"
   ]
  },
  {
   "cell_type": "code",
   "execution_count": null,
   "id": "b78d5582",
   "metadata": {},
   "outputs": [],
   "source": [
    "plot_sample(X_train,y_train,3)"
   ]
  },
  {
   "cell_type": "code",
   "execution_count": null,
   "id": "140bfec8",
   "metadata": {},
   "outputs": [],
   "source": [
    "X_train[0]"
   ]
  },
  {
   "cell_type": "markdown",
   "id": "99c7ec5f",
   "metadata": {},
   "source": [
    "# Normalization : "
   ]
  },
  {
   "cell_type": "code",
   "execution_count": null,
   "id": "4492753c",
   "metadata": {},
   "outputs": [],
   "source": [
    "X_train=X_train/255\n",
    "X_test=X_test/255"
   ]
  },
  {
   "cell_type": "code",
   "execution_count": null,
   "id": "f82d01cf",
   "metadata": {},
   "outputs": [],
   "source": [
    "X_train[0]"
   ]
  },
  {
   "cell_type": "code",
   "execution_count": null,
   "id": "e9ae8b22",
   "metadata": {},
   "outputs": [],
   "source": [
    "X_train[0].shape"
   ]
  },
  {
   "cell_type": "code",
   "execution_count": null,
   "id": "fc41dbb7",
   "metadata": {},
   "outputs": [],
   "source": [
    "ann=keras.Sequential([\n",
    "    keras.layers.Flatten(input_shape=(32,32,3)),\n",
    "    keras.layers.Dense(20,activation='relu'),\n",
    "    keras.layers.Dense(10,activation='sigmoid')\n",
    "])\n",
    "ann.compile(optimizer='sgd',\n",
    "             loss='sparse_categorical_crossentropy',\n",
    "             metrics=['accuracy'])\n",
    "ann.fit(X_train,y_train,epochs=2)"
   ]
  },
  {
   "cell_type": "code",
   "execution_count": null,
   "id": "75d76fd8",
   "metadata": {},
   "outputs": [],
   "source": [
    "ann.evaluate(X_test,y_test)"
   ]
  },
  {
   "cell_type": "code",
   "execution_count": null,
   "id": "32c6786a",
   "metadata": {},
   "outputs": [],
   "source": [
    "ann.predict(X_test)"
   ]
  },
  {
   "cell_type": "code",
   "execution_count": null,
   "id": "86146c10",
   "metadata": {},
   "outputs": [],
   "source": [
    "from sklearn.metrics import confusion_matrix, classification_report\n",
    "import numpy as np\n",
    "y_pred=ann.predict(X_test)\n",
    "y_pred_class=[np.argmax(i) for i in y_pred]\n",
    "print(\"Classificaton Report : \\n\",classification_report(y_test,y_pred_class))"
   ]
  },
  {
   "cell_type": "markdown",
   "id": "3ec32c70",
   "metadata": {},
   "source": [
    "# CNN Model : "
   ]
  },
  {
   "cell_type": "code",
   "execution_count": null,
   "id": "d48372f9",
   "metadata": {},
   "outputs": [],
   "source": [
    "cnn=models.Sequential([\n",
    "    ## cnn\n",
    "    layers.Conv2D(filters=20,kernel_size=(3,3),input_shape=(32,32,3),activation='relu'),\n",
    "    layers.MaxPooling2D(2,2),\n",
    "    \n",
    "    layers.Conv2D(filters=10,kernel_size=(3,3),activation='relu'),\n",
    "    layers.MaxPooling2D(2,2),\n",
    "    \n",
    "    ## Dense\n",
    "    layers.Flatten(),\n",
    "    layers.Dense(10,activation='relu'),\n",
    "    layers.Dense(10,activation='softmax')\n",
    "])"
   ]
  },
  {
   "cell_type": "code",
   "execution_count": null,
   "id": "ae66f406",
   "metadata": {},
   "outputs": [],
   "source": [
    "cnn.compile(optimizer='adam',\n",
    "             loss='sparse_categorical_crossentropy',\n",
    "             metrics=['accuracy'])"
   ]
  },
  {
   "cell_type": "code",
   "execution_count": null,
   "id": "ddbb2e76",
   "metadata": {},
   "outputs": [],
   "source": [
    "cnn.fit(X_train,y_train,epochs=2)"
   ]
  },
  {
   "cell_type": "code",
   "execution_count": null,
   "id": "efad364b",
   "metadata": {},
   "outputs": [],
   "source": [
    "cnn.evaluate(X_test,y_test)"
   ]
  },
  {
   "cell_type": "markdown",
   "id": "87637bde",
   "metadata": {},
   "source": [
    "### Reshape y_test : "
   ]
  },
  {
   "cell_type": "code",
   "execution_count": null,
   "id": "506c915e",
   "metadata": {},
   "outputs": [],
   "source": [
    "y_test[:5]"
   ]
  },
  {
   "cell_type": "code",
   "execution_count": null,
   "id": "2c483516",
   "metadata": {},
   "outputs": [],
   "source": [
    "y_test=y_test.reshape(-1,)\n",
    "y_test[:5]"
   ]
  },
  {
   "cell_type": "code",
   "execution_count": null,
   "id": "ac379b3c",
   "metadata": {},
   "outputs": [],
   "source": [
    "plot_sample(X_test,y_test,1)"
   ]
  },
  {
   "cell_type": "code",
   "execution_count": null,
   "id": "d80798d9",
   "metadata": {},
   "outputs": [],
   "source": [
    "y_test[1]"
   ]
  },
  {
   "cell_type": "code",
   "execution_count": null,
   "id": "37508210",
   "metadata": {},
   "outputs": [],
   "source": [
    "plt.imshow(X_test[8])\n",
    "plt.xlabel(classes[y_test[1]],size=20,color='red')"
   ]
  },
  {
   "cell_type": "code",
   "execution_count": null,
   "id": "145b72ec",
   "metadata": {},
   "outputs": [],
   "source": [
    "y_pred=cnn.predict(X_test)\n",
    "y_pred[0:5]"
   ]
  },
  {
   "cell_type": "code",
   "execution_count": null,
   "id": "395b412c",
   "metadata": {},
   "outputs": [],
   "source": [
    "y_pred_class=[np.argmax(i) for i in y_pred]"
   ]
  },
  {
   "cell_type": "markdown",
   "id": "599a837a",
   "metadata": {},
   "source": [
    "### Compare : "
   ]
  },
  {
   "cell_type": "code",
   "execution_count": null,
   "id": "77143ca3",
   "metadata": {},
   "outputs": [],
   "source": [
    "print(\"Original Output : \",y_test[:5])"
   ]
  },
  {
   "cell_type": "code",
   "execution_count": null,
   "id": "204b7dc5",
   "metadata": {},
   "outputs": [],
   "source": [
    "print(\"Predicted Output : \",y_pred_class[:5])"
   ]
  },
  {
   "cell_type": "markdown",
   "id": "2445ca0b",
   "metadata": {},
   "source": [
    "### Actual :"
   ]
  },
  {
   "cell_type": "code",
   "execution_count": null,
   "id": "a192011e",
   "metadata": {},
   "outputs": [],
   "source": [
    "plot_sample(X_test,y_test,10)"
   ]
  },
  {
   "cell_type": "markdown",
   "id": "480ed637",
   "metadata": {},
   "source": [
    "### Predicted : "
   ]
  },
  {
   "cell_type": "code",
   "execution_count": null,
   "id": "62b04526",
   "metadata": {},
   "outputs": [],
   "source": [
    "classes[y_pred_class[10]]"
   ]
  },
  {
   "cell_type": "markdown",
   "id": "b0d5fcc4",
   "metadata": {},
   "source": [
    "## Classification Report : "
   ]
  },
  {
   "cell_type": "code",
   "execution_count": null,
   "id": "624396d8",
   "metadata": {},
   "outputs": [],
   "source": [
    "print(\"Classifiction Report of this CNN MOdel : \\n\",classification_report(y_test,y_pred_class))"
   ]
  },
  {
   "cell_type": "code",
   "execution_count": null,
   "id": "f5f63c2b",
   "metadata": {},
   "outputs": [],
   "source": []
  }
 ],
 "metadata": {
  "kernelspec": {
   "display_name": "Python 3 (ipykernel)",
   "language": "python",
   "name": "python3"
  },
  "language_info": {
   "codemirror_mode": {
    "name": "ipython",
    "version": 3
   },
   "file_extension": ".py",
   "mimetype": "text/x-python",
   "name": "python",
   "nbconvert_exporter": "python",
   "pygments_lexer": "ipython3",
   "version": "3.9.7"
  }
 },
 "nbformat": 4,
 "nbformat_minor": 5
}
