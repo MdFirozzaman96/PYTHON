{
 "cells": [
  {
   "cell_type": "markdown",
   "id": "28ccf1d2",
   "metadata": {},
   "source": [
    "$a=b+c$"
   ]
  },
  {
   "cell_type": "code",
   "execution_count": 1,
   "id": "54a04714",
   "metadata": {},
   "outputs": [
    {
     "name": "stdout",
     "output_type": "stream",
     "text": [
      "Variable   Type    Data/Info\n",
      "----------------------------\n",
      "a          int     130\n"
     ]
    }
   ],
   "source": [
    "a=130\n",
    "%whos"
   ]
  },
  {
   "cell_type": "code",
   "execution_count": 5,
   "id": "4619f7d9",
   "metadata": {},
   "outputs": [
    {
     "name": "stdout",
     "output_type": "stream",
     "text": [
      "<class 'int'>\n"
     ]
    }
   ],
   "source": [
    "print(type(a))"
   ]
  },
  {
   "cell_type": "code",
   "execution_count": 9,
   "id": "21dbb616",
   "metadata": {},
   "outputs": [
    {
     "name": "stdout",
     "output_type": "stream",
     "text": [
      "Variable   Type     Data/Info\n",
      "-----------------------------\n",
      "a          float    4.2\n",
      "b          float    4.2\n",
      "<class 'float'>\n"
     ]
    }
   ],
   "source": [
    "a=4.2\n",
    "%whos\n",
    "print(type(a))"
   ]
  },
  {
   "cell_type": "code",
   "execution_count": 13,
   "id": "ca36de13",
   "metadata": {
    "scrolled": true
   },
   "outputs": [
    {
     "name": "stdout",
     "output_type": "stream",
     "text": [
      "Variable   Type     Data/Info\n",
      "-----------------------------\n",
      "b          float    4.2\n",
      "m          int      1\n",
      "n          float    1.34\n",
      "o          int      -2\n",
      "p          int      345\n",
      "q          float    130.3\n"
     ]
    }
   ],
   "source": [
    "m,n,o,p,q=1,1.34,-2,345,130.30\n",
    "%whos"
   ]
  },
  {
   "cell_type": "code",
   "execution_count": 15,
   "id": "093d5434",
   "metadata": {},
   "outputs": [
    {
     "name": "stdout",
     "output_type": "stream",
     "text": [
      "<class 'complex'>\n"
     ]
    }
   ],
   "source": [
    "c=2+2j\n",
    "print(type(c))"
   ]
  },
  {
   "cell_type": "code",
   "execution_count": 16,
   "id": "857dc331",
   "metadata": {},
   "outputs": [
    {
     "name": "stdout",
     "output_type": "stream",
     "text": [
      "<class 'str'>\n"
     ]
    }
   ],
   "source": [
    "s=\"Md.Firozzaman Sarkar\"\n",
    "print(type(s))"
   ]
  },
  {
   "cell_type": "code",
   "execution_count": 17,
   "id": "84a3e8e5",
   "metadata": {},
   "outputs": [
    {
     "name": "stdout",
     "output_type": "stream",
     "text": [
      "16\n"
     ]
    }
   ],
   "source": [
    "print((2**4))"
   ]
  },
  {
   "cell_type": "code",
   "execution_count": 19,
   "id": "90491087",
   "metadata": {},
   "outputs": [
    {
     "name": "stdout",
     "output_type": "stream",
     "text": [
      "64\n"
     ]
    }
   ],
   "source": [
    "print(4**3)"
   ]
  },
  {
   "cell_type": "code",
   "execution_count": 20,
   "id": "f645a7e2",
   "metadata": {},
   "outputs": [
    {
     "name": "stdout",
     "output_type": "stream",
     "text": [
      "4.5\n"
     ]
    }
   ],
   "source": [
    "print(9/2)"
   ]
  },
  {
   "cell_type": "code",
   "execution_count": 21,
   "id": "b85ddae8",
   "metadata": {},
   "outputs": [
    {
     "name": "stdout",
     "output_type": "stream",
     "text": [
      "4\n"
     ]
    }
   ],
   "source": [
    "print(9//2)"
   ]
  },
  {
   "cell_type": "code",
   "execution_count": 22,
   "id": "aae5ff0e",
   "metadata": {},
   "outputs": [
    {
     "name": "stdout",
     "output_type": "stream",
     "text": [
      "Md.Firozzaman Sarkar\n"
     ]
    }
   ],
   "source": [
    "s1=\"Md.Firozzaman \"\n",
    "s2=\"Sarkar\"\n",
    "print(s1+s2)"
   ]
  },
  {
   "cell_type": "code",
   "execution_count": 23,
   "id": "3a2d67d6",
   "metadata": {},
   "outputs": [
    {
     "data": {
      "text/plain": [
       "str"
      ]
     },
     "execution_count": 23,
     "metadata": {},
     "output_type": "execute_result"
    }
   ],
   "source": [
    "type(s1)"
   ]
  },
  {
   "cell_type": "code",
   "execution_count": 26,
   "id": "d892c1cd",
   "metadata": {},
   "outputs": [
    {
     "name": "stdout",
     "output_type": "stream",
     "text": [
      "260.11\n"
     ]
    },
    {
     "data": {
      "text/plain": [
       "float"
      ]
     },
     "execution_count": 26,
     "metadata": {},
     "output_type": "execute_result"
    }
   ],
   "source": [
    "y=130\n",
    "z=130.11\n",
    "p=y+z\n",
    "print(p)\n",
    "type(p)"
   ]
  },
  {
   "cell_type": "code",
   "execution_count": 28,
   "id": "67cc51b7",
   "metadata": {},
   "outputs": [
    {
     "name": "stdout",
     "output_type": "stream",
     "text": [
      "Variable   Type       Data/Info\n",
      "-------------------------------\n",
      "b          float      4.2\n",
      "c          complex    (2+2j)\n",
      "f          bool       True\n",
      "k          bool       False\n",
      "l          bool       True\n",
      "m          int        1\n",
      "n          float      1.34\n",
      "o          int        -2\n",
      "p          float      260.11\n",
      "q          float      130.3\n",
      "s          str        Md.Firozzaman Sarkar\n",
      "s1         str        Md.Firozzaman \n",
      "s2         str        Sarkar\n",
      "y          int        130\n",
      "z          float      130.11\n"
     ]
    }
   ],
   "source": [
    "l=True\n",
    "k=False\n",
    "f=True\n",
    "%whos\n"
   ]
  },
  {
   "cell_type": "code",
   "execution_count": 29,
   "id": "78300665",
   "metadata": {},
   "outputs": [
    {
     "name": "stdout",
     "output_type": "stream",
     "text": [
      "True\n",
      "False\n",
      "False\n"
     ]
    }
   ],
   "source": [
    "print(l and f)\n",
    "print(l and k)\n",
    "print(k and k)"
   ]
  },
  {
   "cell_type": "code",
   "execution_count": 30,
   "id": "ff4987f3",
   "metadata": {},
   "outputs": [
    {
     "name": "stdout",
     "output_type": "stream",
     "text": [
      "True\n",
      "True\n",
      "False\n"
     ]
    }
   ],
   "source": [
    "print(l or l)\n",
    "print(l or k)\n",
    "print(k or k)"
   ]
  },
  {
   "cell_type": "code",
   "execution_count": 33,
   "id": "1afdb481",
   "metadata": {},
   "outputs": [
    {
     "name": "stdout",
     "output_type": "stream",
     "text": [
      "False\n",
      "False\n",
      "True\n"
     ]
    }
   ],
   "source": [
    "print(not(l))\n",
    "print(not(f))\n",
    "print(not(k))"
   ]
  },
  {
   "cell_type": "code",
   "execution_count": 34,
   "id": "a9e5e581",
   "metadata": {},
   "outputs": [
    {
     "name": "stdout",
     "output_type": "stream",
     "text": [
      "True\n"
     ]
    }
   ],
   "source": [
    "print(4>2)"
   ]
  },
  {
   "cell_type": "code",
   "execution_count": 35,
   "id": "0c204286",
   "metadata": {},
   "outputs": [
    {
     "name": "stdout",
     "output_type": "stream",
     "text": [
      "False\n",
      "<class 'bool'>\n"
     ]
    }
   ],
   "source": [
    "c=130>140\n",
    "print(c)\n",
    "print(type(c))"
   ]
  },
  {
   "cell_type": "code",
   "execution_count": 1,
   "id": "cb05f3a9",
   "metadata": {},
   "outputs": [
    {
     "data": {
      "text/plain": [
       "False"
      ]
     },
     "execution_count": 1,
     "metadata": {},
     "output_type": "execute_result"
    }
   ],
   "source": [
    "x=6\n",
    "y=3.4\n",
    "z=10\n",
    "r=-30\n",
    "((x>y) and (x>z) or (x==r))or (x>z)"
   ]
  },
  {
   "cell_type": "code",
   "execution_count": 2,
   "id": "328c5b33",
   "metadata": {},
   "outputs": [
    {
     "data": {
      "text/plain": [
       "True"
      ]
     },
     "execution_count": 2,
     "metadata": {},
     "output_type": "execute_result"
    }
   ],
   "source": [
    "((x>y) and (x>z) or (x==r))or (x<z)"
   ]
  },
  {
   "cell_type": "code",
   "execution_count": 3,
   "id": "7725c32e",
   "metadata": {},
   "outputs": [
    {
     "data": {
      "text/plain": [
       "True"
      ]
     },
     "execution_count": 3,
     "metadata": {},
     "output_type": "execute_result"
    }
   ],
   "source": [
    "True or False and True"
   ]
  },
  {
   "cell_type": "code",
   "execution_count": 4,
   "id": "6e5a6bd6",
   "metadata": {},
   "outputs": [
    {
     "data": {
      "text/plain": [
       "False"
      ]
     },
     "execution_count": 4,
     "metadata": {},
     "output_type": "execute_result"
    }
   ],
   "source": [
    "True and False and False"
   ]
  },
  {
   "cell_type": "code",
   "execution_count": 5,
   "id": "3b68d31a",
   "metadata": {},
   "outputs": [
    {
     "name": "stdout",
     "output_type": "stream",
     "text": [
      "False\n"
     ]
    }
   ],
   "source": [
    "print((not(2!=3) and True) or (False and True))"
   ]
  },
  {
   "cell_type": "code",
   "execution_count": 6,
   "id": "662249fa",
   "metadata": {},
   "outputs": [
    {
     "name": "stdout",
     "output_type": "stream",
     "text": [
      "4\n",
      "5\n",
      "4\n"
     ]
    }
   ],
   "source": [
    "print(round(4.5))\n",
    "print(round(4.6))\n",
    "print(round(4.3))"
   ]
  },
  {
   "cell_type": "code",
   "execution_count": 7,
   "id": "a5e7ab12",
   "metadata": {},
   "outputs": [
    {
     "name": "stdout",
     "output_type": "stream",
     "text": [
      "4.558\n"
     ]
    }
   ],
   "source": [
    "print(round(4.55842,3))"
   ]
  },
  {
   "cell_type": "code",
   "execution_count": 8,
   "id": "504a31a8",
   "metadata": {},
   "outputs": [
    {
     "name": "stdout",
     "output_type": "stream",
     "text": [
      "3.56\n"
     ]
    }
   ],
   "source": [
    "print(round(3.55944596,2))"
   ]
  },
  {
   "cell_type": "code",
   "execution_count": 9,
   "id": "0055962a",
   "metadata": {},
   "outputs": [
    {
     "name": "stdout",
     "output_type": "stream",
     "text": [
      "4.0\n"
     ]
    }
   ],
   "source": [
    "print(round(3.55944596,0))"
   ]
  },
  {
   "cell_type": "code",
   "execution_count": 10,
   "id": "9b8a44f8",
   "metadata": {},
   "outputs": [
    {
     "name": "stdout",
     "output_type": "stream",
     "text": [
      "3.6\n"
     ]
    }
   ],
   "source": [
    "print(round(3.55944596,1))"
   ]
  },
  {
   "cell_type": "code",
   "execution_count": 11,
   "id": "a33b9e82",
   "metadata": {},
   "outputs": [
    {
     "name": "stdout",
     "output_type": "stream",
     "text": [
      "3.5\n"
     ]
    }
   ],
   "source": [
    "print(round(3.50044596,1))"
   ]
  },
  {
   "cell_type": "code",
   "execution_count": 12,
   "id": "19e17219",
   "metadata": {},
   "outputs": [
    {
     "name": "stdout",
     "output_type": "stream",
     "text": [
      "3.5\n"
     ]
    }
   ],
   "source": [
    "print(round(3.50144596,1))"
   ]
  },
  {
   "cell_type": "code",
   "execution_count": 13,
   "id": "d756595d",
   "metadata": {},
   "outputs": [
    {
     "name": "stdout",
     "output_type": "stream",
     "text": [
      "3.6\n"
     ]
    }
   ],
   "source": [
    "print(round(3.55144596,1))"
   ]
  },
  {
   "cell_type": "code",
   "execution_count": 14,
   "id": "f8ecf03d",
   "metadata": {},
   "outputs": [
    {
     "name": "stdout",
     "output_type": "stream",
     "text": [
      "3.6\n"
     ]
    }
   ],
   "source": [
    "print(round(3.55044596,1))"
   ]
  },
  {
   "cell_type": "code",
   "execution_count": 15,
   "id": "69a8ea45",
   "metadata": {},
   "outputs": [
    {
     "data": {
      "text/plain": [
       "(43, 1)"
      ]
     },
     "execution_count": 15,
     "metadata": {},
     "output_type": "execute_result"
    }
   ],
   "source": [
    "divmod(130,3)"
   ]
  },
  {
   "cell_type": "code",
   "execution_count": 16,
   "id": "19c1211d",
   "metadata": {},
   "outputs": [
    {
     "data": {
      "text/plain": [
       "(5, 2)"
      ]
     },
     "execution_count": 16,
     "metadata": {},
     "output_type": "execute_result"
    }
   ],
   "source": [
    "divmod(27,5)"
   ]
  },
  {
   "cell_type": "code",
   "execution_count": 21,
   "id": "bda02df9",
   "metadata": {},
   "outputs": [
    {
     "data": {
      "text/plain": [
       "tuple"
      ]
     },
     "execution_count": 21,
     "metadata": {},
     "output_type": "execute_result"
    }
   ],
   "source": [
    "G=divmod(34,9)\n",
    "type(G)"
   ]
  },
  {
   "cell_type": "code",
   "execution_count": 22,
   "id": "6d324fbd",
   "metadata": {},
   "outputs": [
    {
     "name": "stdout",
     "output_type": "stream",
     "text": [
      "(3, 7)\n"
     ]
    }
   ],
   "source": [
    "print(G)"
   ]
  },
  {
   "cell_type": "code",
   "execution_count": 24,
   "id": "a34edd76",
   "metadata": {},
   "outputs": [
    {
     "data": {
      "text/plain": [
       "3"
      ]
     },
     "execution_count": 24,
     "metadata": {},
     "output_type": "execute_result"
    }
   ],
   "source": [
    "G[0]"
   ]
  },
  {
   "cell_type": "code",
   "execution_count": 25,
   "id": "06e59520",
   "metadata": {},
   "outputs": [
    {
     "data": {
      "text/plain": [
       "7"
      ]
     },
     "execution_count": 25,
     "metadata": {},
     "output_type": "execute_result"
    }
   ],
   "source": [
    "G[1]"
   ]
  },
  {
   "cell_type": "code",
   "execution_count": 30,
   "id": "c850452e",
   "metadata": {},
   "outputs": [
    {
     "data": {
      "text/plain": [
       "False"
      ]
     },
     "execution_count": 30,
     "metadata": {},
     "output_type": "execute_result"
    }
   ],
   "source": [
    "isinstance(4.5,int)"
   ]
  },
  {
   "cell_type": "code",
   "execution_count": 32,
   "id": "f779efad",
   "metadata": {},
   "outputs": [
    {
     "data": {
      "text/plain": [
       "True"
      ]
     },
     "execution_count": 32,
     "metadata": {},
     "output_type": "execute_result"
    }
   ],
   "source": [
    "isinstance(3.4,(float,int))"
   ]
  },
  {
   "cell_type": "code",
   "execution_count": 33,
   "id": "42ed9fa9",
   "metadata": {},
   "outputs": [
    {
     "data": {
      "text/plain": [
       "False"
      ]
     },
     "execution_count": 33,
     "metadata": {},
     "output_type": "execute_result"
    }
   ],
   "source": [
    "isinstance(4+2j,float)"
   ]
  },
  {
   "cell_type": "code",
   "execution_count": 35,
   "id": "6e9a9988",
   "metadata": {},
   "outputs": [
    {
     "data": {
      "text/plain": [
       "True"
      ]
     },
     "execution_count": 35,
     "metadata": {},
     "output_type": "execute_result"
    }
   ],
   "source": [
    "isinstance(4+2j,(float,int,complex))"
   ]
  },
  {
   "cell_type": "code",
   "execution_count": 36,
   "id": "5f21b70b",
   "metadata": {},
   "outputs": [
    {
     "data": {
      "text/plain": [
       "16"
      ]
     },
     "execution_count": 36,
     "metadata": {},
     "output_type": "execute_result"
    }
   ],
   "source": [
    "pow(2,4)"
   ]
  },
  {
   "cell_type": "code",
   "execution_count": 37,
   "id": "5a3f22fa",
   "metadata": {},
   "outputs": [
    {
     "data": {
      "text/plain": [
       "16"
      ]
     },
     "execution_count": 37,
     "metadata": {},
     "output_type": "execute_result"
    }
   ],
   "source": [
    "2**4"
   ]
  },
  {
   "cell_type": "code",
   "execution_count": 38,
   "id": "3ac6f668",
   "metadata": {},
   "outputs": [
    {
     "data": {
      "text/plain": [
       "0"
      ]
     },
     "execution_count": 38,
     "metadata": {},
     "output_type": "execute_result"
    }
   ],
   "source": [
    "pow(2,4,2)"
   ]
  },
  {
   "cell_type": "code",
   "execution_count": 39,
   "id": "ee1fc987",
   "metadata": {},
   "outputs": [
    {
     "data": {
      "text/plain": [
       "4"
      ]
     },
     "execution_count": 39,
     "metadata": {},
     "output_type": "execute_result"
    }
   ],
   "source": [
    "pow(2,4,6)"
   ]
  },
  {
   "cell_type": "code",
   "execution_count": 40,
   "id": "a66de6df",
   "metadata": {},
   "outputs": [
    {
     "name": "stdout",
     "output_type": "stream",
     "text": [
      "Enter a number : 34\n"
     ]
    }
   ],
   "source": [
    "x=input(\"Enter a number : \")"
   ]
  },
  {
   "cell_type": "code",
   "execution_count": 41,
   "id": "699a4e1a",
   "metadata": {},
   "outputs": [
    {
     "data": {
      "text/plain": [
       "str"
      ]
     },
     "execution_count": 41,
     "metadata": {},
     "output_type": "execute_result"
    }
   ],
   "source": [
    "type(x)"
   ]
  },
  {
   "cell_type": "code",
   "execution_count": 42,
   "id": "3810def7",
   "metadata": {},
   "outputs": [
    {
     "ename": "TypeError",
     "evalue": "unsupported operand type(s) for -: 'str' and 'int'",
     "output_type": "error",
     "traceback": [
      "\u001b[1;31m---------------------------------------------------------------------------\u001b[0m",
      "\u001b[1;31mTypeError\u001b[0m                                 Traceback (most recent call last)",
      "\u001b[1;32m~\\AppData\\Local\\Temp/ipykernel_11224/2305969506.py\u001b[0m in \u001b[0;36m<module>\u001b[1;34m\u001b[0m\n\u001b[1;32m----> 1\u001b[1;33m \u001b[0mprint\u001b[0m\u001b[1;33m(\u001b[0m\u001b[0mx\u001b[0m\u001b[1;33m-\u001b[0m\u001b[1;36m10\u001b[0m\u001b[1;33m)\u001b[0m\u001b[1;33m\u001b[0m\u001b[1;33m\u001b[0m\u001b[0m\n\u001b[0m",
      "\u001b[1;31mTypeError\u001b[0m: unsupported operand type(s) for -: 'str' and 'int'"
     ]
    }
   ],
   "source": [
    "print(x-10)"
   ]
  },
  {
   "cell_type": "code",
   "execution_count": 45,
   "id": "2ecbd409",
   "metadata": {},
   "outputs": [
    {
     "data": {
      "text/plain": [
       "int"
      ]
     },
     "execution_count": 45,
     "metadata": {},
     "output_type": "execute_result"
    }
   ],
   "source": [
    "x=int(x)\n",
    "type(x)"
   ]
  },
  {
   "cell_type": "code",
   "execution_count": 46,
   "id": "415c9100",
   "metadata": {},
   "outputs": [
    {
     "name": "stdout",
     "output_type": "stream",
     "text": [
      "24\n"
     ]
    }
   ],
   "source": [
    "print(x-10)"
   ]
  },
  {
   "cell_type": "code",
   "execution_count": 47,
   "id": "936b517a",
   "metadata": {},
   "outputs": [
    {
     "name": "stdout",
     "output_type": "stream",
     "text": [
      "Enter a floating number : 4.55\n"
     ]
    }
   ],
   "source": [
    "a=float(input(\"Enter a floating number : \"))"
   ]
  },
  {
   "cell_type": "code",
   "execution_count": 48,
   "id": "f49f7903",
   "metadata": {},
   "outputs": [
    {
     "data": {
      "text/plain": [
       "float"
      ]
     },
     "execution_count": 48,
     "metadata": {},
     "output_type": "execute_result"
    }
   ],
   "source": [
    "type(a)"
   ]
  },
  {
   "cell_type": "code",
   "execution_count": 49,
   "id": "a9745962",
   "metadata": {},
   "outputs": [
    {
     "name": "stdout",
     "output_type": "stream",
     "text": [
      "2.55\n"
     ]
    }
   ],
   "source": [
    "print(a-2)"
   ]
  },
  {
   "cell_type": "code",
   "execution_count": 50,
   "id": "31255ee8",
   "metadata": {},
   "outputs": [
    {
     "name": "stdout",
     "output_type": "stream",
     "text": [
      "Enter a floating number : abc\n"
     ]
    },
    {
     "ename": "ValueError",
     "evalue": "could not convert string to float: 'abc'",
     "output_type": "error",
     "traceback": [
      "\u001b[1;31m---------------------------------------------------------------------------\u001b[0m",
      "\u001b[1;31mValueError\u001b[0m                                Traceback (most recent call last)",
      "\u001b[1;32m~\\AppData\\Local\\Temp/ipykernel_11224/2518852349.py\u001b[0m in \u001b[0;36m<module>\u001b[1;34m\u001b[0m\n\u001b[1;32m----> 1\u001b[1;33m \u001b[0mb\u001b[0m\u001b[1;33m=\u001b[0m\u001b[0mfloat\u001b[0m\u001b[1;33m(\u001b[0m\u001b[0minput\u001b[0m\u001b[1;33m(\u001b[0m\u001b[1;34m\"Enter a floating number : \"\u001b[0m\u001b[1;33m)\u001b[0m\u001b[1;33m)\u001b[0m\u001b[1;33m\u001b[0m\u001b[1;33m\u001b[0m\u001b[0m\n\u001b[0m",
      "\u001b[1;31mValueError\u001b[0m: could not convert string to float: 'abc'"
     ]
    }
   ],
   "source": [
    "b=float(input(\"Enter a floating number : \"))"
   ]
  },
  {
   "cell_type": "code",
   "execution_count": 55,
   "id": "32cbe43a",
   "metadata": {},
   "outputs": [],
   "source": [
    "pow?"
   ]
  },
  {
   "cell_type": "code",
   "execution_count": 54,
   "id": "960d213b",
   "metadata": {},
   "outputs": [],
   "source": [
    "isinstance?"
   ]
  },
  {
   "cell_type": "code",
   "execution_count": 56,
   "id": "7a4beb4c",
   "metadata": {},
   "outputs": [
    {
     "name": "stdout",
     "output_type": "stream",
     "text": [
      "Help on built-in function pow in module builtins:\n",
      "\n",
      "pow(base, exp, mod=None)\n",
      "    Equivalent to base**exp with 2 arguments or base**exp % mod with 3 arguments\n",
      "    \n",
      "    Some types, such as ints, are able to use a more efficient algorithm when\n",
      "    invoked using the three argument form.\n",
      "\n"
     ]
    }
   ],
   "source": [
    "help(pow)"
   ]
  },
  {
   "cell_type": "code",
   "execution_count": 1,
   "id": "5bc3a799",
   "metadata": {},
   "outputs": [
    {
     "name": "stdout",
     "output_type": "stream",
     "text": [
      "Help on built-in function isinstance in module builtins:\n",
      "\n",
      "isinstance(obj, class_or_tuple, /)\n",
      "    Return whether an object is an instance of a class or of a subclass thereof.\n",
      "    \n",
      "    A tuple, as in ``isinstance(x, (A, B, ...))``, may be given as the target to\n",
      "    check against. This is equivalent to ``isinstance(x, A) or isinstance(x, B)\n",
      "    or ...`` etc.\n",
      "\n"
     ]
    }
   ],
   "source": [
    "help(isinstance)"
   ]
  },
  {
   "cell_type": "code",
   "execution_count": 8,
   "id": "0c76b286",
   "metadata": {},
   "outputs": [
    {
     "name": "stdout",
     "output_type": "stream",
     "text": [
      "Enter two integer number : \n",
      "10\n",
      "4\n",
      "10\n",
      "a is greater than b\n",
      "b is greater than a\n"
     ]
    }
   ],
   "source": [
    "print(\"Enter two integer number : \")\n",
    "a=int(input())\n",
    "b=int(input())\n",
    "if a>b:\n",
    "    print(a)\n",
    "    print(\"a is greater than b\")\n",
    "print(\"b is greater than a\")"
   ]
  },
  {
   "cell_type": "code",
   "execution_count": 11,
   "id": "2c1b9435",
   "metadata": {},
   "outputs": [
    {
     "name": "stdout",
     "output_type": "stream",
     "text": [
      "Enter two integer number : \n",
      "20\n",
      "4\n",
      "20\n",
      "a is greater than b\n"
     ]
    }
   ],
   "source": [
    "print(\"Enter two integer number : \")\n",
    "a=int(input())\n",
    "b=int(input())\n",
    "if a>b:\n",
    "    print(a)\n",
    "    print(\"a is greater than b\")\n",
    "if(b>a):\n",
    "    print(b)\n",
    "    print(\"b is greater than a\")"
   ]
  },
  {
   "cell_type": "code",
   "execution_count": 12,
   "id": "237b81a1",
   "metadata": {},
   "outputs": [
    {
     "name": "stdout",
     "output_type": "stream",
     "text": [
      "Enter an integer number : \n",
      "10\n",
      "Enter an integer number : \n",
      "130\n",
      "b is greater thab a\n"
     ]
    }
   ],
   "source": [
    "print(\"Enter an integer number : \")\n",
    "a=int(input())\n",
    "print(\"Enter an integer number : \")\n",
    "b=int(input())\n",
    "if a>b :\n",
    "    print(\"a is greater than b\")\n",
    "else :\n",
    "    print(\"b is greater than a\")"
   ]
  },
  {
   "cell_type": "code",
   "execution_count": 16,
   "id": "c90066e1",
   "metadata": {},
   "outputs": [
    {
     "name": "stdout",
     "output_type": "stream",
     "text": [
      "Enter an integer number : \n",
      "20\n",
      "Enter an integer number : \n",
      "20\n",
      "a is equal to b\n"
     ]
    }
   ],
   "source": [
    "print(\"Enter an integer number : \")\n",
    "a=int(input())\n",
    "print(\"Enter an integer number : \")\n",
    "b=int(input())\n",
    "if a>b:\n",
    "    print(\"a is greater than b\")\n",
    "elif a==b:\n",
    "    print(\"a is equal to b\")\n",
    "else:\n",
    "    print(\"b is greater than a\")"
   ]
  },
  {
   "cell_type": "code",
   "execution_count": null,
   "id": "9db8a679",
   "metadata": {},
   "outputs": [],
   "source": [
    "a=int(input(\"Enter the marks : \"))\n",
    "if a>=80:\n",
    "    print(\"A+\")\n",
    "elif (a>=70) and (a<80):\n",
    "    print(\"A\")\n",
    "elif (a>=60) and (a<70):\n",
    "    print(\"A-\")\n",
    "elif (a>=50) and (a<60):\n",
    "    print(\"B-\")\n",
    "elif (a>=40) and (a<50):\n",
    "    print(\"C\")\n",
    "elif (a>=33) and (a<40):\n",
    "    print(\"D\")\n",
    "else:\n",
    "    print(\"F\")\n"
   ]
  },
  {
   "cell_type": "code",
   "execution_count": 26,
   "id": "6a6c7ba2",
   "metadata": {},
   "outputs": [
    {
     "name": "stdout",
     "output_type": "stream",
     "text": [
      "Enter an integer number : 240\n",
      ">200\n"
     ]
    }
   ],
   "source": [
    "a=int(input(\"Enter an integer number : \"))\n",
    "if a>200:\n",
    "    print(\">200\")\n",
    "elif not(a>200):\n",
    "    print(\"Else Part\")"
   ]
  },
  {
   "cell_type": "markdown",
   "id": "5e5a9671",
   "metadata": {},
   "source": [
    "# Nested if"
   ]
  },
  {
   "cell_type": "code",
   "execution_count": 34,
   "id": "8b274dbc",
   "metadata": {},
   "outputs": [
    {
     "name": "stdout",
     "output_type": "stream",
     "text": [
      "Enter an integer number : 42\n",
      "a is equal or above 20\n",
      "a is larger than 40\n"
     ]
    }
   ],
   "source": [
    "a=int(input(\"Enter an integer number : \"))\n",
    "if(a>10):\n",
    "    if(a>=20):\n",
    "        print(\"a is equal or above 20\")\n",
    "        if(a>40):\n",
    "            print(\"a is larger than 40\")\n",
    "    else:\n",
    "        print(\"a is under 20\")\n",
    "else:\n",
    "    print(\"a is less than or equal 10\")\n",
    "\n",
    "    \n",
    "    "
   ]
  },
  {
   "cell_type": "code",
   "execution_count": 37,
   "id": "b703e1e7",
   "metadata": {},
   "outputs": [
    {
     "name": "stdout",
     "output_type": "stream",
     "text": [
      "Enter a real number : 284.455\n",
      "284.455\n",
      "284\n",
      "x is even number.\n"
     ]
    }
   ],
   "source": [
    "# Single Line Comment\n",
    "\"\"\"\n",
    "User will enter a floating point number let say 238.915.Your task is to find\n",
    "out the intger portion before the point (in this case 283) and then check\n",
    "if that integer portion is an even number or not ?\n",
    "\n",
    "\"\"\"\n",
    "x=float(input(\"Enter a real number : \"))\n",
    "print(x)\n",
    "x=int(x)\n",
    "print(x)\n",
    "if(x%2==0):\n",
    "    print(\"x is even number.\")\n",
    "else:\n",
    "    print(\"x is odd nubmer.\")\n"
   ]
  },
  {
   "cell_type": "code",
   "execution_count": 69,
   "id": "7c650578",
   "metadata": {},
   "outputs": [
    {
     "name": "stdout",
     "output_type": "stream",
     "text": [
      "Enter a real number : 5.55\n",
      "6\n",
      "Inside Positive Block.\n",
      "Inside the if condition.\n",
      "x is odd.\n"
     ]
    }
   ],
   "source": [
    "x=float(input(\"Enter a real number : \"))\n",
    "y=round(x);\n",
    "print(y);\n",
    "if(y>0):\n",
    "    print(\"Inside Positive Block.\")\n",
    "    if(y>x):\n",
    "        print(\"Inside the if condition.\")\n",
    "        y-=1;\n",
    "        #print(y)\n",
    "        if(y%2==0):\n",
    "            print(\"x is even.\")\n",
    "        else:\n",
    "            print(\"x is odd.\")\n",
    "    else:\n",
    "        print(\"Inside the else condition.\")\n",
    "        if(y%2==0):\n",
    "            print(\"x is even.\")\n",
    "        else:\n",
    "            print(\"x is odd.\")\n",
    "else:\n",
    "    print(\"Insdek Nagetive Block.\")\n",
    "    x*=-1;\n",
    "    y*=-1;\n",
    "    print(\"x : \",x)\n",
    "    print(\"y : \",y)\n",
    "    if(y>x):\n",
    "        print(\"Inside the if condition.\")\n",
    "        y-=1;\n",
    "        #print(y)\n",
    "        if(y%2==0):\n",
    "            print(\"x is even.\")\n",
    "        else:\n",
    "            print(\"x is odd.\")\n",
    "    else:\n",
    "        print(\"Inside the else condition.\")\n",
    "        if(y%2==0):\n",
    "            print(\"x is even.\")\n",
    "        else:\n",
    "            print(\"x is odd.\")\n",
    "\n",
    "    "
   ]
  },
  {
   "cell_type": "code",
   "execution_count": 70,
   "id": "f618f52e",
   "metadata": {},
   "outputs": [
    {
     "name": "stdout",
     "output_type": "stream",
     "text": [
      "4\n",
      "-4\n"
     ]
    }
   ],
   "source": [
    "p=3.90\n",
    "print(round(p))\n",
    "n=-3.90\n",
    "print(round(n))"
   ]
  },
  {
   "cell_type": "code",
   "execution_count": 3,
   "id": "786ebf16",
   "metadata": {},
   "outputs": [
    {
     "name": "stdout",
     "output_type": "stream",
     "text": [
      "<class 'bool'>\n"
     ]
    }
   ],
   "source": [
    "a=20;\n",
    "b=30;\n",
    "print(type(a>b))"
   ]
  },
  {
   "cell_type": "code",
   "execution_count": 4,
   "id": "00a653b8",
   "metadata": {},
   "outputs": [
    {
     "name": "stdout",
     "output_type": "stream",
     "text": [
      "Input an integer number : 5\n",
      "5 * 1  =  5\n",
      "5 * 2  =  10\n",
      "5 * 3  =  15\n",
      "5 * 4  =  20\n",
      "5 * 5  =  25\n",
      "End While Loop\n"
     ]
    }
   ],
   "source": [
    "# Control Flow(While Loops) : \n",
    "\n",
    "n=int(input(\"Input an integer number : \"))\n",
    "i=0;\n",
    "while(i<n):\n",
    "    print(n,\"*\",(i+1),\" = \",(i+1)*n)\n",
    "    i+=1;\n",
    "print(\"End While Loop\")"
   ]
  },
  {
   "cell_type": "code",
   "execution_count": null,
   "id": "81e6a5e6",
   "metadata": {},
   "outputs": [],
   "source": [
    "n=int(input(\"Max iteration : \"))\n",
    "i=1;\n",
    "while(i<=n):\n",
    "    if(i%2==0):\n",
    "        print(i)\n",
    "    else:\n",
    "        pass\n",
    "    i+=1;\n",
    "print(\"Outside the while loop.\")"
   ]
  },
  {
   "cell_type": "code",
   "execution_count": null,
   "id": "5bc2d07a",
   "metadata": {},
   "outputs": [],
   "source": [
    "n=int(input(\"Max iteration : \"))\n",
    "i=1;\n",
    "while(i<=n):\n",
    "    if(i%2==0):\n",
    "        print(i)\n",
    "    i+=1;\n",
    "print(\"Outside the while loop.\")"
   ]
  },
  {
   "cell_type": "markdown",
   "id": "b77880b1",
   "metadata": {},
   "source": [
    "# Control Flow (Loops : break,continue) :"
   ]
  },
  {
   "cell_type": "code",
   "execution_count": null,
   "id": "6ebbd558",
   "metadata": {},
   "outputs": [],
   "source": [
    "n=int(input(\"Enter an integer number : \"))\n",
    "i=1;\n",
    "while(i<=n):\n",
    "    if(i%17==0):\n",
    "        break\n",
    "    else:\n",
    "        print(i)\n",
    "        continue\n",
    "    print(\"I am inside the loop.\")\n",
    "    i+=1;\n",
    "print(\"I am outside the loop.\")"
   ]
  },
  {
   "cell_type": "code",
   "execution_count": 3,
   "id": "d221a880",
   "metadata": {},
   "outputs": [
    {
     "name": "stdout",
     "output_type": "stream",
     "text": [
      "Enter an integer number : 3\n",
      "1\n",
      "2\n",
      "3\n",
      "I am outside the loop.\n"
     ]
    }
   ],
   "source": [
    "n=int(input(\"Enter an integer number : \"))\n",
    "i=1;\n",
    "while(i<=n):\n",
    "    if(i%17==0):\n",
    "        break\n",
    "    else:\n",
    "        print(i)\n",
    "        i+=1;\n",
    "        continue\n",
    "        print(\"I am in else condition.\")\n",
    "    print(\"I am inside the loop.\")\n",
    "print(\"I am outside the loop.\")"
   ]
  },
  {
   "cell_type": "markdown",
   "id": "d0769e80",
   "metadata": {},
   "source": [
    "# True Condition : \n"
   ]
  },
  {
   "cell_type": "code",
   "execution_count": 4,
   "id": "e5fd8693",
   "metadata": {},
   "outputs": [
    {
     "name": "stdout",
     "output_type": "stream",
     "text": [
      "1\n",
      "2\n",
      "3\n",
      "4\n",
      "5\n",
      "6\n",
      "7\n",
      "8\n",
      "9\n",
      "10\n",
      "11\n",
      "12\n",
      "13\n",
      "14\n",
      "15\n",
      "16\n",
      "I am outside the loop.\n"
     ]
    }
   ],
   "source": [
    "i=1;\n",
    "while True : \n",
    "    if(i%17==0):\n",
    "        break\n",
    "    else:\n",
    "        print(i)\n",
    "        i+=1;\n",
    "        continue\n",
    "        print(\"I am in else condition.\")\n",
    "    print(\"I am inside the loop.\")\n",
    "print(\"I am outside the loop.\")"
   ]
  },
  {
   "cell_type": "code",
   "execution_count": 6,
   "id": "d0dd0b11",
   "metadata": {},
   "outputs": [
    {
     "name": "stdout",
     "output_type": "stream",
     "text": [
      "i =  1 ,  Inside the if condition.\n",
      "i =  2 ,  Inside the if condition.\n",
      "i =  3 ,  Inside the if condition.\n",
      "i =  4 ,  Inside the if condition.\n",
      "i =  5 ,  Inside the if condition.\n",
      "i =  6 ,  Inside the if condition.\n",
      "i =  7 ,  Inside the if condition.\n",
      "i =  8 ,  Inside the if condition.\n",
      "i =  9 ,  Inside the if condition.\n",
      "Outside the if condition.\n",
      "Outside the while loop.\n"
     ]
    }
   ],
   "source": [
    "i=1\n",
    "while True:\n",
    "    if(i%10!=0):\n",
    "        print(\"i = \",i,\",  Inside the if condition.\")\n",
    "        i+=1\n",
    "        continue\n",
    "    print(\"Outside the if condition.\")\n",
    "    break\n",
    "print(\"Outside the while loop.\")"
   ]
  },
  {
   "cell_type": "markdown",
   "id": "c45f61ce",
   "metadata": {},
   "source": [
    "# For Loop & List : "
   ]
  },
  {
   "cell_type": "code",
   "execution_count": 23,
   "id": "83146945",
   "metadata": {},
   "outputs": [
    {
     "name": "stdout",
     "output_type": "stream",
     "text": [
      "0\n",
      "1\n",
      "2\n",
      "3\n",
      "4\n",
      "5\n",
      "6\n",
      "7\n",
      "8\n",
      "9\n",
      "[0, 1, 4, 9, 16, 25, 36, 49, 64, 81]\n"
     ]
    }
   ],
   "source": [
    "L=[]\n",
    "for i in range(0,10):\n",
    "    print(i)\n",
    "    L.append(i**2)\n",
    "print(L)"
   ]
  },
  {
   "cell_type": "code",
   "execution_count": 10,
   "id": "70b1db33",
   "metadata": {},
   "outputs": [
    {
     "name": "stdout",
     "output_type": "stream",
     "text": [
      "Md.Firozzaman\n",
      "130\n",
      "2.63\n",
      "s is completes it's iteration.\n",
      "Outside the loop\n"
     ]
    }
   ],
   "source": [
    "s={\"Md.Firozzaman\",130,2.63}\n",
    "for x in s:\n",
    "    print(x)\n",
    "else:\n",
    "    print(\"Loop terminate with success.\")\n",
    "print(\"Outside the loop\")"
   ]
  },
  {
   "cell_type": "code",
   "execution_count": 16,
   "id": "a06a7cf6",
   "metadata": {},
   "outputs": [
    {
     "name": "stdout",
     "output_type": "stream",
     "text": [
      "Md.Firozzaman\n",
      "130\n",
      "Outside the loop\n"
     ]
    }
   ],
   "source": [
    "s={\"Md.Firozzaman\",130,2.63}\n",
    "i=1;\n",
    "for x in s:\n",
    "    print(x)\n",
    "    i+=1;\n",
    "    if i==3:\n",
    "        break\n",
    "    else:\n",
    "        pass\n",
    "else:\n",
    "    print(\"Loop terminates with success\")\n",
    "print(\"Outside the loop\")"
   ]
  },
  {
   "cell_type": "markdown",
   "id": "7a62621d",
   "metadata": {},
   "source": [
    "# Dictionary : "
   ]
  },
  {
   "cell_type": "code",
   "execution_count": 4,
   "id": "c25a2a2a",
   "metadata": {},
   "outputs": [
    {
     "name": "stdout",
     "output_type": "stream",
     "text": [
      "Key :  Name ,Key Value :  Md.Firozzaman\n",
      "Key :  Id ,Key Value :  130\n",
      "Key :  CGPA ,Key Value :  2.66\n"
     ]
    }
   ],
   "source": [
    "D={\"Name\":\"Md.Firozzaman\",\"Id\":130,\"CGPA\":2.66}\n",
    "for x in D:\n",
    "    print(\"Key : \",x,\",Key Value : \",D[x])"
   ]
  },
  {
   "cell_type": "markdown",
   "id": "1675aeed",
   "metadata": {},
   "source": [
    "# 8-Puzzle :"
   ]
  },
  {
   "cell_type": "code",
   "execution_count": 3,
   "id": "b64fc940",
   "metadata": {},
   "outputs": [
    {
     "name": "stdout",
     "output_type": "stream",
     "text": [
      "1  2  3  \n",
      "5  6  -1  \n",
      "7  8  4  \n",
      "\n",
      "1  2  3  \n",
      "5  -1  6  \n",
      "7  8  4  \n",
      "\n",
      "1  2  3  \n",
      "5  8  6  \n",
      "7  -1  4  \n",
      "\n",
      "1  2  3  \n",
      "5  8  6  \n",
      "-1  7  4  \n",
      "\n"
     ]
    }
   ],
   "source": [
    "import copy\n",
    " \n",
    "\n",
    "from heapq import heappush, heappop\n",
    " \n",
    "# bottom, left, top, right\n",
    "row = [ 1, 0, -1, 0 ]\n",
    "col = [ 0, -1, 0, 1 ]\n",
    " \n",
    "class priorityQueue:\n",
    "     \n",
    "\n",
    "    def __init__(self):#Constructor to initialize a pr queue.\n",
    "        self.heap = []\n",
    " \n",
    "    def push(self, k):\n",
    "        heappush(self.heap, k)\n",
    " \n",
    "    \n",
    "    def pop(self): # Method to remove minimum element from Priority Queue\n",
    "        return heappop(self.heap)\n",
    " \n",
    "    def empty(self):\n",
    "        if not self.heap:\n",
    "            return True\n",
    "        else:\n",
    "            return False\n",
    " \n",
    "# Node structure\n",
    "class node:\n",
    "     \n",
    "    def __init__(self, parent, mat, empty_tile_pos,\n",
    "                 cost, level):\n",
    "                      \n",
    "        self.parent = parent # Stores the parent node of the current node helps in tracing path when the answer is found\n",
    " \n",
    "        self.mat = mat\n",
    " \n",
    "        \n",
    "        self.empty_tile_pos = empty_tile_pos # the position at which the empty space tile exists in the matrix\n",
    " \n",
    "        self.cost = cost # the number of misplaced tiles\n",
    " \n",
    "        self.level = level # Stores the number of moves so far f(n)\n",
    " \n",
    "    def __lt__(self, nxt): # the priority queue consist of low cost variable by this method.\n",
    "        return self.cost < nxt.cost\n",
    " \n",
    "\n",
    "def calculateCost(mat, final) -> int: # Function to calculate the number of misplaced tiles.\n",
    "     \n",
    "    count = 0\n",
    "    for i in range(n):\n",
    "        for j in range(n):\n",
    "            if ((mat[i][j]) and\n",
    "                (mat[i][j] != final[i][j])):\n",
    "                count += 1\n",
    "                 \n",
    "    return count\n",
    " \n",
    "def newNode(mat, empty_tile_pos, new_empty_tile_pos,\n",
    "            level, parent, final) -> node:\n",
    "                 \n",
    "    new_mat = copy.deepcopy(mat) # Copy data from parent matrix to current matrix\n",
    " \n",
    "    # Move tile by 1 position\n",
    "    x1 = empty_tile_pos[0]\n",
    "    y1 = empty_tile_pos[1]\n",
    "    x2 = new_empty_tile_pos[0]\n",
    "    y2 = new_empty_tile_pos[1]\n",
    "    new_mat[x1][y1], new_mat[x2][y2] = new_mat[x2][y2], new_mat[x1][y1]\n",
    " \n",
    "    # Set number of misplaced tiles\n",
    "    cost = calculateCost(new_mat, final)\n",
    " \n",
    "    new_node = node(parent, new_mat, new_empty_tile_pos,\n",
    "                    cost, level)\n",
    "    return new_node\n",
    " \n",
    "def printMatrix(mat):\n",
    "     \n",
    "    for i in range(n):\n",
    "        for j in range(n):\n",
    "            print(\"%d \" % (mat[i][j]), end = \" \")\n",
    "             \n",
    "        print()\n",
    " \n",
    "# Function to check if (x, y) is a valid matrix coordinate\n",
    "def isSafe(x, y):\n",
    "     \n",
    "    return x >= 0 and x < n and y >= 0 and y < n\n",
    " \n",
    "# Print path from root node to destination node\n",
    "def printPath(root):\n",
    "     \n",
    "    if root == None:\n",
    "        return\n",
    "     \n",
    "    printPath(root.parent)\n",
    "    printMatrix(root.mat)\n",
    "    print()\n",
    " \n",
    "# Function to solve N*N - 1 puzzle algorithm\n",
    "# using Branch and Bound. empty_tile_pos is\n",
    "# the blank tile position in the initial state.\n",
    "def solve(initial, empty_tile_pos, final):\n",
    "     \n",
    "    # Create a priority queue to store live nodes of search tree\n",
    "    pq = priorityQueue()\n",
    " \n",
    "    # Create the root node\n",
    "    cost = calculateCost(initial, final)\n",
    "    root = node(None, initial,\n",
    "                empty_tile_pos, cost, 0)\n",
    " \n",
    "    # Add root to list of live nodes\n",
    "    pq.push(root)\n",
    " \n",
    "    # Finds a live node with least cost,add its children to list of live nodes and finally deletes it from the list.\n",
    "    while not pq.empty():\n",
    " \n",
    "        # Find a live node with least estimated\n",
    "        # cost and delete it form the list of\n",
    "        # live nodes\n",
    "        minimum = pq.pop()\n",
    " \n",
    "        # If minimum is the answer node\n",
    "        if minimum.cost == 0:\n",
    "             \n",
    "            # Print the path from root to\n",
    "            # destination;\n",
    "            printPath(minimum)\n",
    "            return\n",
    " \n",
    "        # Generate all possible children\n",
    "        for i in range(n):\n",
    "            new_tile_pos = [\n",
    "                minimum.empty_tile_pos[0] + row[i],\n",
    "                minimum.empty_tile_pos[1] + col[i], ]\n",
    "                 \n",
    "            if isSafe(new_tile_pos[0], new_tile_pos[1]):\n",
    "                 \n",
    "                # Create a child node\n",
    "                child = newNode(minimum.mat,\n",
    "                                minimum.empty_tile_pos,\n",
    "                                new_tile_pos,\n",
    "                                minimum.level + 1,\n",
    "                                minimum, final,)\n",
    " \n",
    "                # Add child to list of live nodes\n",
    "                pq.push(child)\n",
    " \n",
    "# Driver Code\n",
    " \n",
    "# Initial configuration\n",
    "# Value 0 is used for empty space\n",
    "initial = [ [ 1, 2, 3 ],\n",
    "            [ 5, 6, -1 ],\n",
    "            [ 7, 8, 4 ] ]\n",
    " \n",
    "# Solvable Final configuration\n",
    "# Value 0 is used for empty space\n",
    "final = [ [ 1, 2, 3 ],\n",
    "          [ 5, 8, 6 ],\n",
    "          [ -1, 7, 4 ] ]\n",
    " \n",
    "# Blank tile coordinates in\n",
    "# initial configuration\n",
    "empty_tile_pos = [ 1, 2 ]\n",
    " \n",
    "# Function call to solve the puzzle\n",
    "solve(initial, empty_tile_pos, final)\n",
    " "
   ]
  },
  {
   "cell_type": "code",
   "execution_count": 6,
   "id": "b81cb6c1",
   "metadata": {},
   "outputs": [
    {
     "name": "stdout",
     "output_type": "stream",
     "text": [
      "1\n",
      "2\n",
      "3\n",
      "4\n",
      "5\n",
      "6\n",
      "7\n",
      "8\n",
      "9\n",
      "10\n",
      "11\n",
      "12\n",
      "13\n",
      "14\n",
      "15\n",
      "16\n",
      "17\n",
      "18\n",
      "19\n",
      "20\n",
      "21\n",
      "22\n",
      "23\n",
      "24\n",
      "25\n",
      "26\n",
      "27\n",
      "28\n",
      "29\n",
      "30\n",
      "31\n",
      "32\n",
      "33\n",
      "34\n",
      "35\n",
      "36\n",
      "37\n",
      "38\n",
      "39\n",
      "40\n",
      "41\n",
      "42\n",
      "43\n",
      "44\n",
      "45\n",
      "46\n",
      "47\n",
      "48\n",
      "49\n",
      "50\n",
      "sum :  1225\n"
     ]
    }
   ],
   "source": [
    "\n",
    "sum=0\n",
    "for i in range (1,100):\n",
    "    print(i)\n",
    "    if(i>=50):\n",
    "        break\n",
    "    sum+=i;\n",
    "print(\"sum : \",sum)"
   ]
  },
  {
   "cell_type": "code",
   "execution_count": 7,
   "id": "8df23f0c",
   "metadata": {},
   "outputs": [
    {
     "name": "stdout",
     "output_type": "stream",
     "text": [
      "0\n",
      "1\n",
      "2\n",
      "3\n",
      "4\n",
      "5\n",
      "6\n",
      "7\n",
      "8\n",
      "9\n",
      "10\n",
      "11\n",
      "12\n",
      "13\n",
      "14\n",
      "15\n",
      "16\n",
      "17\n",
      "18\n",
      "19\n",
      "20\n",
      "21\n",
      "22\n",
      "23\n",
      "24\n",
      "25\n"
     ]
    }
   ],
   "source": [
    "i=0\n",
    "while(i<=50):\n",
    "    print(i)\n",
    "    if(i>=25):\n",
    "        break\n",
    "    i+=1"
   ]
  },
  {
   "cell_type": "code",
   "execution_count": null,
   "id": "134c48fc",
   "metadata": {},
   "outputs": [],
   "source": []
  }
 ],
 "metadata": {
  "kernelspec": {
   "display_name": "Python 3 (ipykernel)",
   "language": "python",
   "name": "python3"
  },
  "language_info": {
   "codemirror_mode": {
    "name": "ipython",
    "version": 3
   },
   "file_extension": ".py",
   "mimetype": "text/x-python",
   "name": "python",
   "nbconvert_exporter": "python",
   "pygments_lexer": "ipython3",
   "version": "3.9.7"
  }
 },
 "nbformat": 4,
 "nbformat_minor": 5
}
