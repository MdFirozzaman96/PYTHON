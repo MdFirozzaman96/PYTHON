{
 "cells": [
  {
   "cell_type": "code",
   "execution_count": 6,
   "id": "1bc805d8",
   "metadata": {},
   "outputs": [
    {
     "name": "stdout",
     "output_type": "stream",
     "text": [
      "2 3 4 5 \n"
     ]
    }
   ],
   "source": [
    "import array as a\n",
    "arr=a.array('i',[1,2,3,4,5])\n",
    "for i in range(1,5):\n",
    "    print(arr[i],end=\" \")\n",
    "print()"
   ]
  },
  {
   "cell_type": "markdown",
   "id": "b0edac03",
   "metadata": {},
   "source": [
    "# For Loop"
   ]
  },
  {
   "cell_type": "code",
   "execution_count": 21,
   "id": "bb7c550e",
   "metadata": {},
   "outputs": [
    {
     "name": "stdout",
     "output_type": "stream",
     "text": [
      "Before adding an element :  1 3 4 6 7 After adding an element : \n",
      "After insert an element :  1 3 130 4 6 7 \n"
     ]
    }
   ],
   "source": [
    "import array as arr\n",
    "x=arr.array('i',[1,3,4,6,7])\n",
    "print(\"Before adding an element : \",end=\" \")\n",
    "for i in (x):\n",
    "    print(i,end=\" \")\n",
    "print(\"After adding an element : \")\n",
    "x.insert(2,130)\n",
    "print(\"After insert an element : \",end=\" \")\n",
    "for i in range(0,6):\n",
    "    print(x[i],end=\" \")\n",
    "print()\n"
   ]
  },
  {
   "cell_type": "code",
   "execution_count": null,
   "id": "66f1b03d",
   "metadata": {},
   "outputs": [],
   "source": []
  }
 ],
 "metadata": {
  "kernelspec": {
   "display_name": "Python 3 (ipykernel)",
   "language": "python",
   "name": "python3"
  },
  "language_info": {
   "codemirror_mode": {
    "name": "ipython",
    "version": 3
   },
   "file_extension": ".py",
   "mimetype": "text/x-python",
   "name": "python",
   "nbconvert_exporter": "python",
   "pygments_lexer": "ipython3",
   "version": "3.9.7"
  }
 },
 "nbformat": 4,
 "nbformat_minor": 5
}
