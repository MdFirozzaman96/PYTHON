{
 "cells": [
  {
   "cell_type": "code",
   "execution_count": 2,
   "id": "c4fcde99",
   "metadata": {},
   "outputs": [
    {
     "name": "stdout",
     "output_type": "stream",
     "text": [
      "Md.Firozzaman\n"
     ]
    }
   ],
   "source": [
    "def fun():\n",
    "    print(\"Md.Firozzaman\")\n",
    "fun()"
   ]
  },
  {
   "cell_type": "code",
   "execution_count": 9,
   "id": "2d281d52",
   "metadata": {},
   "outputs": [
    {
     "name": "stdout",
     "output_type": "stream",
     "text": [
      "Enter an integer number : 6\n",
      "Even\n"
     ]
    }
   ],
   "source": [
    "def EvenOdd(x):\n",
    "    if(x%2==0):\n",
    "        print(\"Even\")\n",
    "    else:\n",
    "        print(\"Odd\")\n",
    "x=int(input(\"Enter an integer number : \"))\n",
    "EvenOdd(x)"
   ]
  },
  {
   "cell_type": "markdown",
   "id": "61f9d171",
   "metadata": {},
   "source": [
    "# Default Argumet of a Function"
   ]
  },
  {
   "cell_type": "code",
   "execution_count": 14,
   "id": "8d64993a",
   "metadata": {},
   "outputs": [
    {
     "name": "stdout",
     "output_type": "stream",
     "text": [
      "Enter a floating point number : 5\n",
      "x =  5.0\n",
      "y =  130\n"
     ]
    }
   ],
   "source": [
    "def DefautlArgument(x,y=130):\n",
    "    print(\"x = \",x)\n",
    "    print(\"y = \",y)\n",
    "x=float(input(\"Enter a floating point number : \"))\n",
    "DefautlArgument(x)"
   ]
  },
  {
   "cell_type": "markdown",
   "id": "418796ea",
   "metadata": {},
   "source": [
    "# Caller does not need to remember the order of parameters."
   ]
  },
  {
   "cell_type": "code",
   "execution_count": 16,
   "id": "1b3a2aa0",
   "metadata": {},
   "outputs": [
    {
     "name": "stdout",
     "output_type": "stream",
     "text": [
      "Md.Firozzaman Sarakr\n",
      "Md.Firozzaman Sarkar\n"
     ]
    }
   ],
   "source": [
    "def student(firstname,lastname):\n",
    "    print(firstname,lastname)\n",
    "student(firstname=\"Md.Firozzaman\",lastname=\"Sarakr\")\n",
    "student(lastname=\"Sarkar\",firstname=\"Md.Firozzaman\")\n",
    "    "
   ]
  },
  {
   "cell_type": "code",
   "execution_count": 5,
   "id": "ce6051de",
   "metadata": {},
   "outputs": [
    {
     "name": "stdout",
     "output_type": "stream",
     "text": [
      "Enter two integer number :\n",
      "5\n",
      "3\n",
      "x is bigger than y\n"
     ]
    }
   ],
   "source": [
    "def Big(x,y):\n",
    "    if x>y:\n",
    "        print(\"x is bigger than y\")\n",
    "    else :\n",
    "        print(\"y is bigger than x\")\n",
    "print(\"Enter two integer number :\")\n",
    "x=int(input())\n",
    "y=int(input())\n",
    "Big(x,y)"
   ]
  },
  {
   "cell_type": "code",
   "execution_count": null,
   "id": "4ee8e3d5",
   "metadata": {},
   "outputs": [],
   "source": []
  }
 ],
 "metadata": {
  "kernelspec": {
   "display_name": "Python 3 (ipykernel)",
   "language": "python",
   "name": "python3"
  },
  "language_info": {
   "codemirror_mode": {
    "name": "ipython",
    "version": 3
   },
   "file_extension": ".py",
   "mimetype": "text/x-python",
   "name": "python",
   "nbconvert_exporter": "python",
   "pygments_lexer": "ipython3",
   "version": "3.9.7"
  }
 },
 "nbformat": 4,
 "nbformat_minor": 5
}
