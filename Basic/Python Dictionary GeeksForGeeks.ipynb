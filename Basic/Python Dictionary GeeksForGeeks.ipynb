{
 "cells": [
  {
   "cell_type": "markdown",
   "id": "7fde5e0b",
   "metadata": {},
   "source": [
    "# Dictionary In Single & Mixed Keys : "
   ]
  },
  {
   "cell_type": "code",
   "execution_count": 11,
   "id": "4e3d334c",
   "metadata": {},
   "outputs": [
    {
     "name": "stdout",
     "output_type": "stream",
     "text": [
      "Dictionary with the use of integer keys : \n",
      "{1: 'Md.', 2: 'Firozzaman', 3: 'Sarkar'}\n",
      "\n",
      "Dictionary with the use of mixed keys : \n",
      "{'Name': 'Md.Firozzaman', 1: '180201130', 'Dept': 'CSE'}\n"
     ]
    }
   ],
   "source": [
    "print(\"Dictionary with the use of integer keys : \")\n",
    "Dic={1:\"Md.\",2:\"Firozzaman\",3:\"Sarkar\"}\n",
    "print(Dic)\n",
    "print()\n",
    "print(\"Dictionary with the use of mixed keys : \")\n",
    "Dic={'Name':\"Md.Firozzaman\",1:\"180201130\",'Dept':\"CSE\"}\n",
    "print(Dic)"
   ]
  },
  {
   "cell_type": "markdown",
   "id": "fd396541",
   "metadata": {},
   "source": [
    "# Empty Dictionary & dict() : "
   ]
  },
  {
   "cell_type": "code",
   "execution_count": 25,
   "id": "284d71d9",
   "metadata": {},
   "outputs": [
    {
     "name": "stdout",
     "output_type": "stream",
     "text": [
      "An empty dictionary :\n",
      "{}\n",
      "Dictionary created by using dict method : \n",
      "{'Name': 'Md.Firozzaman', 1: '180201130', 'Dept': 'CSE'}\n",
      "Dictionary each item as a pair : \n",
      "{'Name': 'Md.Firozzaman', 1: '180201130', 'Dept': 'CSE'}\n"
     ]
    }
   ],
   "source": [
    "print(\"An empty dictionary :\")\n",
    "Dic={}\n",
    "print(Dic)\n",
    "print(\"Dictionary created by using dict method : \")\n",
    "Dic=dict({'Name':\"Md.Firozzaman\",1:\"180201130\",'Dept':\"CSE\"})## I've declered here the same variable\n",
    "print(Dic)\n",
    "print(\"Dictionary each item as a pair : \")\n",
    "Dic=dict([('Name','Md.Firozzaman'),(1,'180201130'),('Dept','CSE')])\n",
    "print(Dic)"
   ]
  },
  {
   "cell_type": "code",
   "execution_count": null,
   "id": "7013bd95",
   "metadata": {},
   "outputs": [],
   "source": []
  }
 ],
 "metadata": {
  "kernelspec": {
   "display_name": "Python 3 (ipykernel)",
   "language": "python",
   "name": "python3"
  },
  "language_info": {
   "codemirror_mode": {
    "name": "ipython",
    "version": 3
   },
   "file_extension": ".py",
   "mimetype": "text/x-python",
   "name": "python",
   "nbconvert_exporter": "python",
   "pygments_lexer": "ipython3",
   "version": "3.9.7"
  }
 },
 "nbformat": 4,
 "nbformat_minor": 5
}
