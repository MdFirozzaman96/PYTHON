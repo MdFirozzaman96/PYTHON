{
 "cells": [
  {
   "cell_type": "markdown",
   "id": "1487bf04",
   "metadata": {},
   "source": [
    "# Logistic Regression "
   ]
  },
  {
   "cell_type": "code",
   "execution_count": 28,
   "id": "255bfd00",
   "metadata": {},
   "outputs": [
    {
     "name": "stdout",
     "output_type": "stream",
     "text": [
      "    age  bought_insurance\n",
      "0    22                 0\n",
      "1    25                 0\n",
      "2    47                 1\n",
      "3    52                 0\n",
      "4    46                 1\n",
      "5    50                 1\n",
      "6    55                 1\n",
      "7    18                 0\n",
      "8    10                 0\n",
      "9    27                 0\n",
      "10   45                 1\n",
      "11   35                 0\n",
      "12   40                 1\n"
     ]
    },
    {
     "data": {
      "text/plain": [
       "<matplotlib.collections.PathCollection at 0x13ef8f85130>"
      ]
     },
     "execution_count": 28,
     "metadata": {},
     "output_type": "execute_result"
    },
    {
     "data": {
      "image/png": "[encoded data removed]",
      "text/plain": [
       "<Figure size 432x288 with 1 Axes>"
      ]
     },
     "metadata": {
      "needs_background": "light"
     },
     "output_type": "display_data"
    }
   ],
   "source": [
    "import pandas as pd\n",
    "import matplotlib.pyplot as plt\n",
    "%matplotlib inline\n",
    "\n",
    "data={\n",
    "    \"age\":{\n",
    "        \"0\":22,\n",
    "        \"1\":25,\n",
    "        \"2\":47,\n",
    "        \"3\":52,\n",
    "        \"4\":46,\n",
    "        \"5\":50,\n",
    "        \"6\":55,\n",
    "        \"7\":18,\n",
    "        \"8\":10,\n",
    "        \"9\":27,\n",
    "        \"10\":45,\n",
    "        \"11\":35,\n",
    "        \"12\":40\n",
    "    },\n",
    "    \"bought_insurance\":{\n",
    "        \"0\":0,\n",
    "        \"1\":0,\n",
    "        \"2\":1,\n",
    "        \"3\":0,\n",
    "        \"4\":1,\n",
    "        \"5\":1,\n",
    "        \"6\":1,\n",
    "        \"7\":0,\n",
    "        \"8\":0,\n",
    "        \"9\":0,\n",
    "        \"10\":1,\n",
    "        \"11\":0,\n",
    "        \"12\":1\n",
    "    }\n",
    "}\n",
    "df=pd.DataFrame(data)\n",
    "print(df)\n",
    "\n",
    "##plt.scatter(df.age,df.bought_insurance,marker='+',color='red')\n",
    "plt.scatter(df.age,df.bought_insurance,marker='*',color='red')"
   ]
  },
  {
   "cell_type": "code",
   "execution_count": null,
   "id": "4cfc7ad7",
   "metadata": {},
   "outputs": [],
   "source": []
  }
 ],
 "metadata": {
  "kernelspec": {
   "display_name": "Python 3 (ipykernel)",
   "language": "python",
   "name": "python3"
  },
  "language_info": {
   "codemirror_mode": {
    "name": "ipython",
    "version": 3
   },
   "file_extension": ".py",
   "mimetype": "text/x-python",
   "name": "python",
   "nbconvert_exporter": "python",
   "pygments_lexer": "ipython3",
   "version": "3.9.7"
  }
 },
 "nbformat": 4,
 "nbformat_minor": 5
}
