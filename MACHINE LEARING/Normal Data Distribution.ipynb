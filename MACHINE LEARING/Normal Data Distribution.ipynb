{
 "cells": [
  {
   "cell_type": "markdown",
   "id": "7ba11c14",
   "metadata": {},
   "source": [
    "# Normal Data Distribution\n",
    "## the values are concentrated around a given value(Mean)."
   ]
  },
  {
   "cell_type": "code",
   "execution_count": 5,
   "id": "cbd7a4c9",
   "metadata": {},
   "outputs": [
    {
     "data": {
      "image/png": "[encoded data removed]",
      "text/plain": [
       "<Figure size 432x288 with 1 Axes>"
      ]
     },
     "metadata": {
      "needs_background": "light"
     },
     "output_type": "display_data"
    }
   ],
   "source": [
    "import numpy as np\n",
    "import matplotlib.pyplot as plt\n",
    "\n",
    "ndd=np.random.normal(10.0,2.0,100000)\n",
    "\n",
    "plt.hist(ndd,200)\n",
    "plt.show()"
   ]
  },
  {
   "cell_type": "markdown",
   "id": "ec6d9d45",
   "metadata": {},
   "source": [
    "### We specify that the mean value is 10.0, and the standard deviation is 2.0.\n",
    "### Meaning that the values should be concentrated around 10.0, and rarely further away than 2.0 from the mean.\n",
    "### And as you can see from the histogram, most values are between 8.0 and 12.0, with a top at approximately 10.0"
   ]
  },
  {
   "cell_type": "code",
   "execution_count": null,
   "id": "11053086",
   "metadata": {},
   "outputs": [],
   "source": []
  }
 ],
 "metadata": {
  "kernelspec": {
   "display_name": "Python 3 (ipykernel)",
   "language": "python",
   "name": "python3"
  },
  "language_info": {
   "codemirror_mode": {
    "name": "ipython",
    "version": 3
   },
   "file_extension": ".py",
   "mimetype": "text/x-python",
   "name": "python",
   "nbconvert_exporter": "python",
   "pygments_lexer": "ipython3",
   "version": "3.9.7"
  }
 },
 "nbformat": 4,
 "nbformat_minor": 5
}
