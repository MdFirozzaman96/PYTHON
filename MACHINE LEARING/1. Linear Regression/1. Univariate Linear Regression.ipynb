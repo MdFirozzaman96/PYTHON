{
 "cells": [
  {
   "cell_type": "code",
   "execution_count": 68,
   "id": "4e8dc401",
   "metadata": {},
   "outputs": [],
   "source": [
    "import pandas as pd\n",
    "import numpy as np\n",
    "import matplotlib.pyplot as plt\n",
    "from sklearn import linear_model"
   ]
  },
  {
   "cell_type": "code",
   "execution_count": 69,
   "id": "825fdbd6",
   "metadata": {},
   "outputs": [
    {
     "name": "stdout",
     "output_type": "stream",
     "text": [
      "   Unnamed: 0  area   price\n",
      "0           1  2600  550000\n",
      "1           2  3000  565000\n",
      "2           3  3200  610000\n",
      "3           4  3600  680000\n",
      "4           5  4000  725000\n"
     ]
    }
   ],
   "source": [
    "data={\n",
    "    \"area\":{\n",
    "        \"1\":2600,\n",
    "        \"2\":3000,\n",
    "        \"3\":3200,\n",
    "        \"4\":3600,\n",
    "        \"5\":4000,\n",
    "    },\n",
    "    \"price\":{\n",
    "        \"1\":550000,\n",
    "        \"2\":565000,\n",
    "        \"3\":610000,\n",
    "        \"4\":680000,\n",
    "        \"5\":725000,\n",
    "    },\n",
    "}\n",
    "df=pd.DataFrame(data)\n",
    "df.to_csv(\"land_price.csv\")\n",
    "df=pd.read_csv(\"land_price.csv\")\n",
    "print(df)"
   ]
  },
  {
   "cell_type": "code",
   "execution_count": 70,
   "id": "17f8c3cc",
   "metadata": {},
   "outputs": [
    {
     "data": {
      "text/plain": [
       "Text(0.5, 1.0, 'Price Per Unit Area')"
      ]
     },
     "execution_count": 70,
     "metadata": {},
     "output_type": "execute_result"
    },
    {
     "data": {
      "image/png": "[encoded data removed]",
      "text/plain": [
       "<Figure size 432x288 with 1 Axes>"
      ]
     },
     "metadata": {
      "needs_background": "light"
     },
     "output_type": "display_data"
    }
   ],
   "source": [
    "plt.scatter(df['area'],df['price'],color='red',marker='*')\n",
    "plt.ylabel(\"Price(Tk)\",size=20)\n",
    "plt.xlabel(\"Area(sqr ft)\",size=20)\n",
    "plt.title(\"Price Per Unit Area\",size=25,color='red')"
   ]
  },
  {
   "cell_type": "markdown",
   "id": "e38a1fdf",
   "metadata": {},
   "source": [
    "## Object Creation : "
   ]
  },
  {
   "cell_type": "code",
   "execution_count": 71,
   "id": "8d77470b",
   "metadata": {},
   "outputs": [
    {
     "data": {
      "text/plain": [
       "LinearRegression()"
      ]
     },
     "execution_count": 71,
     "metadata": {},
     "output_type": "execute_result"
    }
   ],
   "source": [
    "obj=linear_model.LinearRegression()\n",
    "obj.fit(df[['area']],df['price'])"
   ]
  },
  {
   "cell_type": "code",
   "execution_count": 72,
   "id": "4b134c94",
   "metadata": {},
   "outputs": [
    {
     "data": {
      "text/plain": [
       "array([628715.75342466])"
      ]
     },
     "execution_count": 72,
     "metadata": {},
     "output_type": "execute_result"
    }
   ],
   "source": [
    "obj.predict([[3300]])"
   ]
  },
  {
   "cell_type": "markdown",
   "id": "31058df5",
   "metadata": {},
   "source": [
    "## Value of Slope (m) : "
   ]
  },
  {
   "cell_type": "code",
   "execution_count": 73,
   "id": "c5b673e8",
   "metadata": {},
   "outputs": [
    {
     "name": "stdout",
     "output_type": "stream",
     "text": [
      "[135.78767123]\n"
     ]
    }
   ],
   "source": [
    "m=obj.coef_\n",
    "print(m)"
   ]
  },
  {
   "cell_type": "markdown",
   "id": "c942dc06",
   "metadata": {},
   "source": [
    "## Value of Intercept (b) : "
   ]
  },
  {
   "cell_type": "code",
   "execution_count": 74,
   "id": "35f84eff",
   "metadata": {},
   "outputs": [
    {
     "data": {
      "text/plain": [
       "180616.43835616432"
      ]
     },
     "execution_count": 74,
     "metadata": {},
     "output_type": "execute_result"
    }
   ],
   "source": [
    "obj.intercept_"
   ]
  },
  {
   "cell_type": "markdown",
   "id": "237cc654",
   "metadata": {},
   "source": [
    "## Value of Area (y) : "
   ]
  },
  {
   "cell_type": "code",
   "execution_count": 75,
   "id": "437179fe",
   "metadata": {},
   "outputs": [
    {
     "data": {
      "text/plain": [
       "628715.7534151643"
      ]
     },
     "execution_count": 75,
     "metadata": {},
     "output_type": "execute_result"
    }
   ],
   "source": [
    "# y=m*x+b\n",
    "Area=135.78767123*3300+180616.43835616432\n",
    "Area"
   ]
  },
  {
   "cell_type": "markdown",
   "id": "8e98d43d",
   "metadata": {},
   "source": [
    "## Predict Area : "
   ]
  },
  {
   "cell_type": "code",
   "execution_count": 76,
   "id": "56ca75d6",
   "metadata": {},
   "outputs": [],
   "source": [
    "A={\n",
    "    \"Area\":{\n",
    "        \"1\":3300,\n",
    "        \"2\":4500,\n",
    "        \"3\":5000,\n",
    "        \"4\":5700,\n",
    "        \"5\":6500,\n",
    "        \"6\":7600,\n",
    "        \"7\":8500,\n",
    "        \"8\":9400,\n",
    "        \"9\":10000,\n",
    "        \"10\":11000,\n",
    "        \"11\":12000\n",
    "    }\n",
    "}"
   ]
  },
  {
   "cell_type": "code",
   "execution_count": 77,
   "id": "f70588da",
   "metadata": {},
   "outputs": [
    {
     "data": {
      "text/html": [
       "<div>\n",
       "<style scoped>\n",
       "    .dataframe tbody tr th:only-of-type {\n",
       "        vertical-align: middle;\n",
       "    }\n",
       "\n",
       "    .dataframe tbody tr th {\n",
       "        vertical-align: top;\n",
       "    }\n",
       "\n",
       "    .dataframe thead th {\n",
       "        text-align: right;\n",
       "    }\n",
       "</style>\n",
       "<table border=\"1\" class=\"dataframe\">\n",
       "  <thead>\n",
       "    <tr style=\"text-align: right;\">\n",
       "      <th></th>\n",
       "      <th>Area</th>\n",
       "    </tr>\n",
       "  </thead>\n",
       "  <tbody>\n",
       "    <tr>\n",
       "      <th>1</th>\n",
       "      <td>3300</td>\n",
       "    </tr>\n",
       "    <tr>\n",
       "      <th>10</th>\n",
       "      <td>11000</td>\n",
       "    </tr>\n",
       "    <tr>\n",
       "      <th>11</th>\n",
       "      <td>12000</td>\n",
       "    </tr>\n",
       "    <tr>\n",
       "      <th>2</th>\n",
       "      <td>4500</td>\n",
       "    </tr>\n",
       "    <tr>\n",
       "      <th>3</th>\n",
       "      <td>5000</td>\n",
       "    </tr>\n",
       "    <tr>\n",
       "      <th>4</th>\n",
       "      <td>5700</td>\n",
       "    </tr>\n",
       "    <tr>\n",
       "      <th>5</th>\n",
       "      <td>6500</td>\n",
       "    </tr>\n",
       "    <tr>\n",
       "      <th>6</th>\n",
       "      <td>7600</td>\n",
       "    </tr>\n",
       "    <tr>\n",
       "      <th>7</th>\n",
       "      <td>8500</td>\n",
       "    </tr>\n",
       "    <tr>\n",
       "      <th>8</th>\n",
       "      <td>9400</td>\n",
       "    </tr>\n",
       "    <tr>\n",
       "      <th>9</th>\n",
       "      <td>10000</td>\n",
       "    </tr>\n",
       "  </tbody>\n",
       "</table>\n",
       "</div>"
      ],
      "text/plain": [
       "     Area\n",
       "1    3300\n",
       "10  11000\n",
       "11  12000\n",
       "2    4500\n",
       "3    5000\n",
       "4    5700\n",
       "5    6500\n",
       "6    7600\n",
       "7    8500\n",
       "8    9400\n",
       "9   10000"
      ]
     },
     "execution_count": 77,
     "metadata": {},
     "output_type": "execute_result"
    }
   ],
   "source": [
    "Area=pd.DataFrame(A)\n",
    "Area"
   ]
  },
  {
   "cell_type": "code",
   "execution_count": null,
   "id": "7336e80d",
   "metadata": {},
   "outputs": [],
   "source": []
  }
 ],
 "metadata": {
  "kernelspec": {
   "display_name": "Python 3 (ipykernel)",
   "language": "python",
   "name": "python3"
  },
  "language_info": {
   "codemirror_mode": {
    "name": "ipython",
    "version": 3
   },
   "file_extension": ".py",
   "mimetype": "text/x-python",
   "name": "python",
   "nbconvert_exporter": "python",
   "pygments_lexer": "ipython3",
   "version": "3.9.7"
  }
 },
 "nbformat": 4,
 "nbformat_minor": 5
}
