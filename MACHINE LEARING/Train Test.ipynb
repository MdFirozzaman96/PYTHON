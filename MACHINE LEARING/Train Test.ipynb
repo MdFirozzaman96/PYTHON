{
 "cells": [
  {
   "cell_type": "markdown",
   "id": "e0168d43",
   "metadata": {},
   "source": [
    "# Train/Test"
   ]
  },
  {
   "cell_type": "code",
   "execution_count": 395,
   "id": "e846a48a",
   "metadata": {},
   "outputs": [
    {
     "name": "stdout",
     "output_type": "stream",
     "text": [
      "   Unnamed: 0 Car Model  Mileage  Sell Price($)  Age(yrs)\n",
      "0           0    BMW X5    69000          18000         6\n",
      "1           1    BMW X5    35000          34000         3\n",
      "2           2    BMW X5    57000          26100         5\n",
      "3           3    BMW X5    22500          40000         2\n",
      "4           4    BMW X5    46000          31500         4\n"
     ]
    }
   ],
   "source": [
    "import pandas as pd\n",
    "df=pd.read_csv('carprices.csv')\n",
    "print(df.head())"
   ]
  },
  {
   "cell_type": "markdown",
   "id": "6be4e7f0",
   "metadata": {},
   "source": [
    "### Car Mileage Vs Sell Price ($) : "
   ]
  },
  {
   "cell_type": "code",
   "execution_count": 396,
   "id": "4cecaff4",
   "metadata": {},
   "outputs": [
    {
     "data": {
      "image/png": "[encoded data removed]",
      "text/plain": [
       "<Figure size 432x288 with 1 Axes>"
      ]
     },
     "metadata": {
      "needs_background": "light"
     },
     "output_type": "display_data"
    }
   ],
   "source": [
    "import matplotlib.pyplot as plt\n",
    "\n",
    "plt.scatter(df['Mileage'],df['Sell Price($)'])\n",
    "\n",
    "plt.xlabel(\"Mileage\",size=20)\n",
    "plt.ylabel(\"Sell Price ($)\",size=20)\n",
    "plt.show()"
   ]
  },
  {
   "cell_type": "markdown",
   "id": "a9b1d859",
   "metadata": {},
   "source": [
    "### Age(yrs) Vs Sell Price ($) : "
   ]
  },
  {
   "cell_type": "code",
   "execution_count": 397,
   "id": "05b1e40c",
   "metadata": {},
   "outputs": [
    {
     "data": {
      "image/png": "[encoded data removed]",
      "text/plain": [
       "<Figure size 432x288 with 1 Axes>"
      ]
     },
     "metadata": {
      "needs_background": "light"
     },
     "output_type": "display_data"
    }
   ],
   "source": [
    "plt.scatter(df['Age(yrs)'],df['Sell Price($)'])\n",
    "plt.xlabel(\"Age(yrs)\",size=20)\n",
    "plt.ylabel(\"Sell Price($)\",size=20)\n",
    "plt.show()"
   ]
  },
  {
   "cell_type": "markdown",
   "id": "87cfa1e7",
   "metadata": {},
   "source": [
    " Looking at above two scatter plots, using linear regression model makes sense as we can clearly see a linear \n",
    "  relationship between our dependant (i.e. Sell Price) and independant variables (i.e. car age and car mileage)"
   ]
  },
  {
   "cell_type": "markdown",
   "id": "2a2513f2",
   "metadata": {},
   "source": [
    "\n",
    "\n",
    "The approach we are going to use here is to split available data in two sets\n",
    "\n",
    "    1. Training: We will train our model on this dataset\n",
    "    2. Testing: We will use this subset to make actual predictions using trained model\n",
    "\n",
    "The reason we don't use same training set for testing is because our model has seen those samples before, using same samples for making predictions might give us wrong impression about accuracy of our model. It is like you ask same questions in exam paper as you tought the students in the class.\n"
   ]
  },
  {
   "cell_type": "code",
   "execution_count": 398,
   "id": "b6cc7254",
   "metadata": {},
   "outputs": [],
   "source": [
    "a=df[['Mileage','Age(yrs)']]\n",
    "b=df['Sell Price($)']"
   ]
  },
  {
   "cell_type": "code",
   "execution_count": 399,
   "id": "922f9bf0",
   "metadata": {},
   "outputs": [],
   "source": [
    " from sklearn.model_selection import train_test_split"
   ]
  },
  {
   "cell_type": "code",
   "execution_count": 400,
   "id": "e2c4b5db",
   "metadata": {},
   "outputs": [],
   "source": [
    "## a_train,a_test,b_train,b_test=train_test_split(a,b,test_size=0.3,random_state=10) random_state=10 make a unchange manner of\n",
    "## train test data.\n",
    "a_train,a_test,b_train,b_test=train_test_split(a,b,test_size=0.3)"
   ]
  },
  {
   "cell_type": "code",
   "execution_count": 401,
   "id": "30e9c292",
   "metadata": {},
   "outputs": [
    {
     "data": {
      "text/html": [
       "<div>\n",
       "<style scoped>\n",
       "    .dataframe tbody tr th:only-of-type {\n",
       "        vertical-align: middle;\n",
       "    }\n",
       "\n",
       "    .dataframe tbody tr th {\n",
       "        vertical-align: top;\n",
       "    }\n",
       "\n",
       "    .dataframe thead th {\n",
       "        text-align: right;\n",
       "    }\n",
       "</style>\n",
       "<table border=\"1\" class=\"dataframe\">\n",
       "  <thead>\n",
       "    <tr style=\"text-align: right;\">\n",
       "      <th></th>\n",
       "      <th>Mileage</th>\n",
       "      <th>Age(yrs)</th>\n",
       "    </tr>\n",
       "  </thead>\n",
       "  <tbody>\n",
       "    <tr>\n",
       "      <th>11</th>\n",
       "      <td>79000</td>\n",
       "      <td>7</td>\n",
       "    </tr>\n",
       "    <tr>\n",
       "      <th>5</th>\n",
       "      <td>59000</td>\n",
       "      <td>5</td>\n",
       "    </tr>\n",
       "    <tr>\n",
       "      <th>6</th>\n",
       "      <td>52000</td>\n",
       "      <td>5</td>\n",
       "    </tr>\n",
       "    <tr>\n",
       "      <th>3</th>\n",
       "      <td>22500</td>\n",
       "      <td>2</td>\n",
       "    </tr>\n",
       "    <tr>\n",
       "      <th>10</th>\n",
       "      <td>83000</td>\n",
       "      <td>7</td>\n",
       "    </tr>\n",
       "    <tr>\n",
       "      <th>0</th>\n",
       "      <td>69000</td>\n",
       "      <td>6</td>\n",
       "    </tr>\n",
       "    <tr>\n",
       "      <th>12</th>\n",
       "      <td>59000</td>\n",
       "      <td>5</td>\n",
       "    </tr>\n",
       "    <tr>\n",
       "      <th>2</th>\n",
       "      <td>57000</td>\n",
       "      <td>5</td>\n",
       "    </tr>\n",
       "    <tr>\n",
       "      <th>9</th>\n",
       "      <td>67000</td>\n",
       "      <td>6</td>\n",
       "    </tr>\n",
       "  </tbody>\n",
       "</table>\n",
       "</div>"
      ],
      "text/plain": [
       "    Mileage  Age(yrs)\n",
       "11    79000         7\n",
       "5     59000         5\n",
       "6     52000         5\n",
       "3     22500         2\n",
       "10    83000         7\n",
       "0     69000         6\n",
       "12    59000         5\n",
       "2     57000         5\n",
       "9     67000         6"
      ]
     },
     "execution_count": 401,
     "metadata": {},
     "output_type": "execute_result"
    }
   ],
   "source": [
    "a_train"
   ]
  },
  {
   "cell_type": "code",
   "execution_count": 402,
   "id": "68446f64",
   "metadata": {},
   "outputs": [
    {
     "data": {
      "text/plain": [
       "11    21000\n",
       "5     29400\n",
       "6     32000\n",
       "3     40000\n",
       "10    20000\n",
       "0     18000\n",
       "12    33000\n",
       "2     26100\n",
       "9     22000\n",
       "Name: Sell Price($), dtype: int64"
      ]
     },
     "execution_count": 402,
     "metadata": {},
     "output_type": "execute_result"
    }
   ],
   "source": [
    "b_train"
   ]
  },
  {
   "cell_type": "code",
   "execution_count": 403,
   "id": "0848ccfe",
   "metadata": {},
   "outputs": [
    {
     "data": {
      "text/html": [
       "<div>\n",
       "<style scoped>\n",
       "    .dataframe tbody tr th:only-of-type {\n",
       "        vertical-align: middle;\n",
       "    }\n",
       "\n",
       "    .dataframe tbody tr th {\n",
       "        vertical-align: top;\n",
       "    }\n",
       "\n",
       "    .dataframe thead th {\n",
       "        text-align: right;\n",
       "    }\n",
       "</style>\n",
       "<table border=\"1\" class=\"dataframe\">\n",
       "  <thead>\n",
       "    <tr style=\"text-align: right;\">\n",
       "      <th></th>\n",
       "      <th>Mileage</th>\n",
       "      <th>Age(yrs)</th>\n",
       "    </tr>\n",
       "  </thead>\n",
       "  <tbody>\n",
       "    <tr>\n",
       "      <th>1</th>\n",
       "      <td>35000</td>\n",
       "      <td>3</td>\n",
       "    </tr>\n",
       "    <tr>\n",
       "      <th>8</th>\n",
       "      <td>91000</td>\n",
       "      <td>8</td>\n",
       "    </tr>\n",
       "    <tr>\n",
       "      <th>7</th>\n",
       "      <td>72000</td>\n",
       "      <td>6</td>\n",
       "    </tr>\n",
       "    <tr>\n",
       "      <th>4</th>\n",
       "      <td>46000</td>\n",
       "      <td>4</td>\n",
       "    </tr>\n",
       "  </tbody>\n",
       "</table>\n",
       "</div>"
      ],
      "text/plain": [
       "   Mileage  Age(yrs)\n",
       "1    35000         3\n",
       "8    91000         8\n",
       "7    72000         6\n",
       "4    46000         4"
      ]
     },
     "execution_count": 403,
     "metadata": {},
     "output_type": "execute_result"
    }
   ],
   "source": [
    "a_test"
   ]
  },
  {
   "cell_type": "code",
   "execution_count": 404,
   "id": "7e53e873",
   "metadata": {},
   "outputs": [
    {
     "data": {
      "text/plain": [
       "1    34000\n",
       "8    12000\n",
       "7    19300\n",
       "4    31500\n",
       "Name: Sell Price($), dtype: int64"
      ]
     },
     "execution_count": 404,
     "metadata": {},
     "output_type": "execute_result"
    }
   ],
   "source": [
    "b_test"
   ]
  },
  {
   "cell_type": "code",
   "execution_count": 405,
   "id": "c9b8e9d8",
   "metadata": {},
   "outputs": [
    {
     "name": "stdout",
     "output_type": "stream",
     "text": [
      "Length of the total dataset :  13\n",
      "Length of a_train :  9\n",
      "Length of b_train :  9\n",
      "Length of a_test :  4\n",
      "Length of b_test :  4\n"
     ]
    }
   ],
   "source": [
    "print(\"Length of the total dataset : \",len(df))\n",
    "print(\"Length of a_train : \",len(a_train))\n",
    "print(\"Length of b_train : \",len(b_train))\n",
    "print(\"Length of a_test : \",len(a_test))\n",
    "print(\"Length of b_test : \",len(b_test))"
   ]
  },
  {
   "cell_type": "markdown",
   "id": "ff975f26",
   "metadata": {},
   "source": [
    "## Lets run linear regression model now !"
   ]
  },
  {
   "cell_type": "code",
   "execution_count": 406,
   "id": "b7f86b58",
   "metadata": {},
   "outputs": [],
   "source": [
    "from sklearn.linear_model import LinearRegression"
   ]
  },
  {
   "cell_type": "markdown",
   "id": "24add009",
   "metadata": {},
   "source": [
    "### Object Creation of LinearRegression class :"
   ]
  },
  {
   "cell_type": "code",
   "execution_count": 407,
   "id": "cac005fa",
   "metadata": {},
   "outputs": [],
   "source": [
    "obj=LinearRegression()"
   ]
  },
  {
   "cell_type": "markdown",
   "id": "7fe0ce07",
   "metadata": {},
   "source": [
    "### Fit The Training & Testing Data By fit() : "
   ]
  },
  {
   "cell_type": "code",
   "execution_count": 408,
   "id": "f4c68063",
   "metadata": {},
   "outputs": [
    {
     "data": {
      "text/plain": [
       "LinearRegression()"
      ]
     },
     "execution_count": 408,
     "metadata": {},
     "output_type": "execute_result"
    }
   ],
   "source": [
    "obj.fit(a_train,b_train)"
   ]
  },
  {
   "cell_type": "code",
   "execution_count": 409,
   "id": "f78690da",
   "metadata": {},
   "outputs": [
    {
     "data": {
      "text/html": [
       "<div>\n",
       "<style scoped>\n",
       "    .dataframe tbody tr th:only-of-type {\n",
       "        vertical-align: middle;\n",
       "    }\n",
       "\n",
       "    .dataframe tbody tr th {\n",
       "        vertical-align: top;\n",
       "    }\n",
       "\n",
       "    .dataframe thead th {\n",
       "        text-align: right;\n",
       "    }\n",
       "</style>\n",
       "<table border=\"1\" class=\"dataframe\">\n",
       "  <thead>\n",
       "    <tr style=\"text-align: right;\">\n",
       "      <th></th>\n",
       "      <th>Mileage</th>\n",
       "      <th>Age(yrs)</th>\n",
       "    </tr>\n",
       "  </thead>\n",
       "  <tbody>\n",
       "    <tr>\n",
       "      <th>1</th>\n",
       "      <td>35000</td>\n",
       "      <td>3</td>\n",
       "    </tr>\n",
       "    <tr>\n",
       "      <th>8</th>\n",
       "      <td>91000</td>\n",
       "      <td>8</td>\n",
       "    </tr>\n",
       "    <tr>\n",
       "      <th>7</th>\n",
       "      <td>72000</td>\n",
       "      <td>6</td>\n",
       "    </tr>\n",
       "    <tr>\n",
       "      <th>4</th>\n",
       "      <td>46000</td>\n",
       "      <td>4</td>\n",
       "    </tr>\n",
       "  </tbody>\n",
       "</table>\n",
       "</div>"
      ],
      "text/plain": [
       "   Mileage  Age(yrs)\n",
       "1    35000         3\n",
       "8    91000         8\n",
       "7    72000         6\n",
       "4    46000         4"
      ]
     },
     "execution_count": 409,
     "metadata": {},
     "output_type": "execute_result"
    }
   ],
   "source": [
    "a_test"
   ]
  },
  {
   "cell_type": "code",
   "execution_count": 410,
   "id": "026190c9",
   "metadata": {},
   "outputs": [
    {
     "data": {
      "text/plain": [
       "array([36789.6090535 , 15353.06584362, 23389.97942387, 32533.93004115])"
      ]
     },
     "execution_count": 410,
     "metadata": {},
     "output_type": "execute_result"
    }
   ],
   "source": [
    "obj.predict(a_test)"
   ]
  },
  {
   "cell_type": "code",
   "execution_count": 411,
   "id": "adb9aff4",
   "metadata": {},
   "outputs": [
    {
     "data": {
      "text/plain": [
       "1    34000\n",
       "8    12000\n",
       "7    19300\n",
       "4    31500\n",
       "Name: Sell Price($), dtype: int64"
      ]
     },
     "execution_count": 411,
     "metadata": {},
     "output_type": "execute_result"
    }
   ],
   "source": [
    "b_test"
   ]
  },
  {
   "cell_type": "code",
   "execution_count": 412,
   "id": "b428a5ba",
   "metadata": {},
   "outputs": [],
   "source": [
    "## obj.predict(b_test)### The predicted is compared with original output(b_test)"
   ]
  },
  {
   "cell_type": "markdown",
   "id": "5ceeffc0",
   "metadata": {},
   "source": [
    "### Accuracy : "
   ]
  },
  {
   "cell_type": "code",
   "execution_count": 413,
   "id": "4217caee",
   "metadata": {},
   "outputs": [
    {
     "data": {
      "text/plain": [
       "0.88571012402793"
      ]
     },
     "execution_count": 413,
     "metadata": {},
     "output_type": "execute_result"
    }
   ],
   "source": [
    "obj.score(a_test,b_test)"
   ]
  },
  {
   "cell_type": "code",
   "execution_count": null,
   "id": "110da5e4",
   "metadata": {},
   "outputs": [],
   "source": []
  }
 ],
 "metadata": {
  "kernelspec": {
   "display_name": "Python 3 (ipykernel)",
   "language": "python",
   "name": "python3"
  },
  "language_info": {
   "codemirror_mode": {
    "name": "ipython",
    "version": 3
   },
   "file_extension": ".py",
   "mimetype": "text/x-python",
   "name": "python",
   "nbconvert_exporter": "python",
   "pygments_lexer": "ipython3",
   "version": "3.9.7"
  }
 },
 "nbformat": 4,
 "nbformat_minor": 5
}
