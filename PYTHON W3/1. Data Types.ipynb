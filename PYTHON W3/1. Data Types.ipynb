{
 "cells": [
  {
   "cell_type": "code",
   "execution_count": 6,
   "id": "c3c5c498",
   "metadata": {},
   "outputs": [
    {
     "name": "stdout",
     "output_type": "stream",
     "text": [
      "<class 'int'>\n",
      "<class 'float'>\n",
      "<class 'str'>\n",
      "<class 'str'>\n",
      "<class 'str'>\n",
      "<class 'complex'>\n",
      "<class 'dict'>\n",
      "<class 'set'>\n",
      "<class 'tuple'>\n",
      "<class 'list'>\n",
      "<class 'bool'>\n"
     ]
    }
   ],
   "source": [
    "x=5\n",
    "y=5.4\n",
    "n=\"Md.Firozzaman\"\n",
    "ch='F'\n",
    "ch1=\"N\"\n",
    "a=7j\n",
    "dic={\"Name :\": \"Md.Firozzaman\",\"Id : \":180201130}\n",
    "Set={\"Firoz\",130,\"Zaman\"}\n",
    "Tuple=(\"Firoz\",130,\"Zaman\")\n",
    "List=[\"Firoz\",130,\"Zaman\"]\n",
    "bl=True\n",
    "\n",
    "print(type(x))\n",
    "print(type(y))\n",
    "\n",
    "print(type(ch))\n",
    "print(type(ch1))\n",
    "\n",
    "print(type(n))\n",
    "print(type(a))\n",
    "\n",
    "print(type(dic))\n",
    "print(type(Set))\n",
    "print(type(Tuple))\n",
    "print(type(List))\n",
    "print(type(bl))\n",
    "\n",
    "\n"
   ]
  },
  {
   "cell_type": "markdown",
   "id": "c1b4b2a4",
   "metadata": {},
   "source": [
    "# PYTHON NUMBERS :\n",
    "    \n",
    "    1. integer\n",
    "    2. float\n",
    "    3. complex"
   ]
  },
  {
   "cell_type": "code",
   "execution_count": 7,
   "id": "c4208872",
   "metadata": {},
   "outputs": [
    {
     "name": "stdout",
     "output_type": "stream",
     "text": [
      "<class 'int'>\n",
      "<class 'float'>\n",
      "<class 'str'>\n"
     ]
    }
   ],
   "source": [
    "Id=130\n",
    "cgpa=2.64\n",
    "name=\"Md.Firozzaman\"\n",
    "print(type(Id))\n",
    "print(type(cgpa))\n",
    "print(type(name))"
   ]
  },
  {
   "cell_type": "markdown",
   "id": "7daf54e0",
   "metadata": {},
   "source": [
    "## 1. Integer Number : "
   ]
  },
  {
   "cell_type": "code",
   "execution_count": 10,
   "id": "1af961e7",
   "metadata": {},
   "outputs": [
    {
     "name": "stdout",
     "output_type": "stream",
     "text": [
      "x :  1  Data Type :  <class 'int'>\n",
      "y :  1235434484583938448484488484  Data Type :  <class 'int'>\n",
      "z :  -328438945  Data Type :  <class 'int'>\n",
      "Zero :  0  Data Type :  <class 'int'>\n"
     ]
    }
   ],
   "source": [
    "x=1;\n",
    "y=1235434484583938448484488484\n",
    "z=-328438945\n",
    "Zero=0\n",
    "print(\"x : \",x, \" Data Type : \",type(x))\n",
    "print(\"y : \",y, \" Data Type : \",type(y))\n",
    "print(\"z : \",z, \" Data Type : \",type(z))\n",
    "print(\"Zero : \",Zero, \" Data Type : \",type(Zero))"
   ]
  },
  {
   "cell_type": "markdown",
   "id": "cd1c0633",
   "metadata": {},
   "source": [
    "## 2. Floating Point Number : "
   ]
  },
  {
   "cell_type": "markdown",
   "id": "9e8f2266",
   "metadata": {},
   "source": [
    "x=5.3\n",
    "y=-39848544.34985\n",
    "z=0.398484\n",
    "print(\"x : \",x, \" Data Type : \",type(x))\n",
    "print(\"y : \",y, \" Data Type : \",type(y))\n",
    "print(\"z : \",z, \" Data Type : \",type(z))"
   ]
  },
  {
   "cell_type": "markdown",
   "id": "a137e115",
   "metadata": {},
   "source": [
    "### (i)  POWER OF 10 :\n",
    "   Float can also be scientific numbers with an \"e\" to indicate the power of 10."
   ]
  },
  {
   "cell_type": "code",
   "execution_count": 33,
   "id": "870e4abf",
   "metadata": {},
   "outputs": [
    {
     "name": "stdout",
     "output_type": "stream",
     "text": [
      "x :  3500.0 , Data Type of x :  <class 'float'>\n",
      "m :  350000.0 , Data Type of m :  <class 'float'>\n",
      "y :  130000.0 ,  Data Type of y :  <class 'float'>\n",
      "z :  -inf , Data Type of z :  <class 'float'>\n",
      "zz :  -inf , Data Type of zz :  <class 'float'>\n",
      "f :  -8.77e+101 , Data Type of f :  <class 'float'>\n"
     ]
    }
   ],
   "source": [
    "x=3.5e3\n",
    "m=35e4\n",
    "y=13E4\n",
    "z=-24.5e307\n",
    "zz=-24.5e30748548\n",
    "f = -87.7e100\n",
    "print(\"x : \",x,\", Data Type of x : \",type(x))\n",
    "print(\"m : \",m,\", Data Type of m : \",type(m))\n",
    "print(\"y : \",y,\",  Data Type of y : \",type(y))\n",
    "print(\"z : \",z,\", Data Type of z : \",type(z))\n",
    "print(\"zz : \",zz,\", Data Type of zz : \",type(zz))\n",
    "print(\"f : \",f,\", Data Type of f : \",type(f))"
   ]
  },
  {
   "cell_type": "markdown",
   "id": "3dd0a9c1",
   "metadata": {},
   "source": [
    "## 3. Complex Number : \n",
    "Complex numbers are written with a \"j\" as the imaginary part:"
   ]
  },
  {
   "cell_type": "code",
   "execution_count": 34,
   "id": "3b27b704",
   "metadata": {},
   "outputs": [
    {
     "name": "stdout",
     "output_type": "stream",
     "text": [
      "x :  (3+3j) , Type of x :  <class 'complex'>\n",
      "y :  130j , Type of y :  <class 'complex'>\n",
      "z :  (-0-4j) , Type of z :  <class 'complex'>\n"
     ]
    }
   ],
   "source": [
    "x=3+3j\n",
    "y=130j\n",
    "z=-4j\n",
    "print(\"x : \",x,\", Type of x : \",type(x))\n",
    "print(\"y : \",y,\", Type of y : \",type(y))\n",
    "print(\"z : \",z,\", Type of z : \",type(z))"
   ]
  },
  {
   "cell_type": "markdown",
   "id": "fe386dd9",
   "metadata": {},
   "source": [
    "## Type Conversion : \n",
    "We can convert from one type to another with the int(), float(), and complex() methods:"
   ]
  },
  {
   "cell_type": "code",
   "execution_count": 11,
   "id": "556dc8af",
   "metadata": {},
   "outputs": [
    {
     "name": "stdout",
     "output_type": "stream",
     "text": [
      "Convert from inger to float : \n",
      "  Type of a :  <class 'int'> , a :  130 ,  <class 'float'>  x :  130.0\n",
      "Convert from float to integer : \n",
      "  Type of b :  <class 'float'> , b :  2.63 ,  <class 'int'>  y :  2\n",
      "Convert form int to complex : \n",
      "  Type of c :  <class 'complex'> , c :  5j ,  <class 'complex'>  z :  5j\n"
     ]
    }
   ],
   "source": [
    "a=130\n",
    "b=2.63\n",
    "c=5j\n",
    "print(\"Convert from inger to float : \")\n",
    "x=float(a)\n",
    "print(\"  Type of a : \",type(a),\", a : \",a,\", \",type(x),\" x : \",x)\n",
    "print(\"Convert from float to integer : \")\n",
    "y=int(b)\n",
    "print(\"  Type of b : \",type(b),\", b : \",b,\", \",type(y),\" y : \",y)\n",
    "print(\"Convert form int to complex : \")\n",
    "z=complex(c)\n",
    "print(\"  Type of c : \",type(c),\", c : \",c,\", \",type(z),\" z : \",z)"
   ]
  },
  {
   "cell_type": "markdown",
   "id": "3735e052",
   "metadata": {},
   "source": [
    "### We cannot convert complex numbers into another number type."
   ]
  },
  {
   "cell_type": "code",
   "execution_count": 12,
   "id": "c57f9f71",
   "metadata": {},
   "outputs": [
    {
     "ename": "TypeError",
     "evalue": "can't convert complex to int",
     "output_type": "error",
     "traceback": [
      "\u001b[1;31m---------------------------------------------------------------------------\u001b[0m",
      "\u001b[1;31mTypeError\u001b[0m                                 Traceback (most recent call last)",
      "\u001b[1;32m~\\AppData\\Local\\Temp/ipykernel_1428/3584014794.py\u001b[0m in \u001b[0;36m<module>\u001b[1;34m\u001b[0m\n\u001b[0;32m      1\u001b[0m \u001b[0ma\u001b[0m\u001b[1;33m=\u001b[0m\u001b[1;36m3j\u001b[0m\u001b[1;33m\u001b[0m\u001b[1;33m\u001b[0m\u001b[0m\n\u001b[1;32m----> 2\u001b[1;33m \u001b[0mx\u001b[0m\u001b[1;33m=\u001b[0m\u001b[0mint\u001b[0m\u001b[1;33m(\u001b[0m\u001b[0ma\u001b[0m\u001b[1;33m)\u001b[0m\u001b[1;33m\u001b[0m\u001b[1;33m\u001b[0m\u001b[0m\n\u001b[0m\u001b[0;32m      3\u001b[0m \u001b[0mprint\u001b[0m\u001b[1;33m(\u001b[0m\u001b[1;34m\"x : \"\u001b[0m\u001b[1;33m,\u001b[0m\u001b[0mx\u001b[0m\u001b[1;33m)\u001b[0m\u001b[1;33m\u001b[0m\u001b[1;33m\u001b[0m\u001b[0m\n",
      "\u001b[1;31mTypeError\u001b[0m: can't convert complex to int"
     ]
    }
   ],
   "source": [
    "a=3j\n",
    "x=int(a)\n",
    "print(\"x : \",x)"
   ]
  },
  {
   "cell_type": "markdown",
   "id": "5d8f8731",
   "metadata": {},
   "source": [
    "## Random Number : \n",
    "Python does not have a random() function to make a random number, but Python has a built-in module called random that can be used to make random numbers:"
   ]
  },
  {
   "cell_type": "code",
   "execution_count": 37,
   "id": "136c685f",
   "metadata": {},
   "outputs": [
    {
     "name": "stdout",
     "output_type": "stream",
     "text": [
      "3\n",
      "4\n",
      "None\n"
     ]
    }
   ],
   "source": [
    "import random\n",
    "print(random.randrange(1,5))\n",
    "print(random.randrange(1,10))\n",
    "if(random.randrange(130,147)==143):\n",
    "    print(\"Barshon Shaha\")\n",
    "else:\n",
    "    print(\"None\")"
   ]
  },
  {
   "cell_type": "markdown",
   "id": "2b778b26",
   "metadata": {},
   "source": [
    "  #                                           Python Casting \n",
    "\n",
    "## Specify a Variable Type : \n",
    "\n",
    "Python uses classes to define data types, including its primitive types."
   ]
  },
  {
   "cell_type": "markdown",
   "id": "3cb13ca7",
   "metadata": {},
   "source": [
    "## 1. Integers : \n",
    "int() - constructs an integer number from an integer literal, a float literal (by removing all decimals), or a string literal (providing the string represents a whole number)"
   ]
  },
  {
   "cell_type": "code",
   "execution_count": 9,
   "id": "00532f26",
   "metadata": {},
   "outputs": [
    {
     "name": "stdout",
     "output_type": "stream",
     "text": [
      "x :  130\n",
      "y :  130\n",
      "z :  130\n"
     ]
    }
   ],
   "source": [
    "x=130;\n",
    "y=130.15\n",
    "z=\"130\"\n",
    "## st=\"Firoz\" # invalid\n",
    "print(\"x : \",int(x))\n",
    "print(\"y : \",int(y))\n",
    "print(\"z : \",int(z))"
   ]
  },
  {
   "cell_type": "markdown",
   "id": "bea758b7",
   "metadata": {},
   "source": [
    "## 2. Floats :\n",
    "float() - constructs a float number from an integer literal, a float literal or a string literal (providing the string represents a float or an integer)"
   ]
  },
  {
   "cell_type": "code",
   "execution_count": 16,
   "id": "4a9fec57",
   "metadata": {},
   "outputs": [
    {
     "name": "stdout",
     "output_type": "stream",
     "text": [
      "x :  130.0\n",
      "y :  130.15\n",
      "z :  130.0\n"
     ]
    },
    {
     "ename": "ValueError",
     "evalue": "could not convert string to float: 'Firoz'",
     "output_type": "error",
     "traceback": [
      "\u001b[1;31m---------------------------------------------------------------------------\u001b[0m",
      "\u001b[1;31mValueError\u001b[0m                                Traceback (most recent call last)",
      "\u001b[1;32m~\\AppData\\Local\\Temp/ipykernel_13272/1991283828.py\u001b[0m in \u001b[0;36m<module>\u001b[1;34m\u001b[0m\n\u001b[0;32m      6\u001b[0m \u001b[0mprint\u001b[0m\u001b[1;33m(\u001b[0m\u001b[1;34m\"y : \"\u001b[0m\u001b[1;33m,\u001b[0m\u001b[0mfloat\u001b[0m\u001b[1;33m(\u001b[0m\u001b[0my\u001b[0m\u001b[1;33m)\u001b[0m\u001b[1;33m)\u001b[0m\u001b[1;33m\u001b[0m\u001b[1;33m\u001b[0m\u001b[0m\n\u001b[0;32m      7\u001b[0m \u001b[0mprint\u001b[0m\u001b[1;33m(\u001b[0m\u001b[1;34m\"z : \"\u001b[0m\u001b[1;33m,\u001b[0m\u001b[0mfloat\u001b[0m\u001b[1;33m(\u001b[0m\u001b[0mz\u001b[0m\u001b[1;33m)\u001b[0m\u001b[1;33m)\u001b[0m\u001b[1;33m\u001b[0m\u001b[1;33m\u001b[0m\u001b[0m\n\u001b[1;32m----> 8\u001b[1;33m \u001b[0mprint\u001b[0m\u001b[1;33m(\u001b[0m\u001b[1;34m\"st : \"\u001b[0m\u001b[1;33m,\u001b[0m\u001b[0mfloat\u001b[0m\u001b[1;33m(\u001b[0m\u001b[0mst\u001b[0m\u001b[1;33m)\u001b[0m\u001b[1;33m)\u001b[0m\u001b[1;33m;\u001b[0m\u001b[1;33m\u001b[0m\u001b[1;33m\u001b[0m\u001b[0m\n\u001b[0m",
      "\u001b[1;31mValueError\u001b[0m: could not convert string to float: 'Firoz'"
     ]
    }
   ],
   "source": [
    "x=130;\n",
    "y=130.15\n",
    "z=\"130\"\n",
    "##st=\"Firoz\" # invalid\n",
    "print(\"x : \",float(x))\n",
    "print(\"y : \",float(y))\n",
    "print(\"z : \",float(z))\n",
    "## print(\"st : \",float(st));# invalid"
   ]
  },
  {
   "cell_type": "markdown",
   "id": "65a026d7",
   "metadata": {},
   "source": [
    "## 3. Strings : \n",
    "\n",
    "str() - constructs a string from a wide variety of data types, including strings, integer literals and float literals"
   ]
  },
  {
   "cell_type": "code",
   "execution_count": 17,
   "id": "39110a64",
   "metadata": {},
   "outputs": [
    {
     "name": "stdout",
     "output_type": "stream",
     "text": [
      "x :  130\n",
      "y :  130.34\n",
      "z :  130\n",
      "st :  Firoz\n"
     ]
    }
   ],
   "source": [
    "x=130;\n",
    "y=130.34\n",
    "z=\"130\"\n",
    "st=\"Firoz\"\n",
    "print(\"x : \",str(x))\n",
    "print(\"y : \",str(y))\n",
    "print(\"z : \",str(z))\n",
    "print(\"st : \",str(st));"
   ]
  },
  {
   "cell_type": "code",
   "execution_count": null,
   "id": "dc98e9ef",
   "metadata": {},
   "outputs": [],
   "source": []
  }
 ],
 "metadata": {
  "kernelspec": {
   "display_name": "Python 3 (ipykernel)",
   "language": "python",
   "name": "python3"
  },
  "language_info": {
   "codemirror_mode": {
    "name": "ipython",
    "version": 3
   },
   "file_extension": ".py",
   "mimetype": "text/x-python",
   "name": "python",
   "nbconvert_exporter": "python",
   "pygments_lexer": "ipython3",
   "version": "3.9.7"
  }
 },
 "nbformat": 4,
 "nbformat_minor": 5
}
