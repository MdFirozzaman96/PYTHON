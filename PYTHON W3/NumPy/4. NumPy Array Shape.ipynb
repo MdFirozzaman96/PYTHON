{
 "cells": [
  {
   "cell_type": "markdown",
   "id": "a7953fa7",
   "metadata": {},
   "source": [
    "# NumPy Array Shape"
   ]
  },
  {
   "cell_type": "markdown",
   "id": "2a53dff4",
   "metadata": {},
   "source": [
    "## Shape of an Array :\n",
    "\n",
    "### The shape of an array is the number of elements in each dimension.\n",
    "### NumPy arrays have an attribute called 'shape' that returns a tuple with each index having the number of corresponding elements."
   ]
  },
  {
   "cell_type": "code",
   "execution_count": 3,
   "id": "55c9453e",
   "metadata": {},
   "outputs": [
    {
     "name": "stdout",
     "output_type": "stream",
     "text": [
      "(2, 3)\n"
     ]
    }
   ],
   "source": [
    "import numpy as np\n",
    "arr=np.array([[1,3,5],[2,4,6]])\n",
    "print(arr.shape)"
   ]
  },
  {
   "cell_type": "markdown",
   "id": "3dd0883b",
   "metadata": {},
   "source": [
    "### Q : Create an array with 5 dimensions using ndmin using a vector with values 1,2,3,4 and verify that last dimension has value 4:"
   ]
  },
  {
   "cell_type": "code",
   "execution_count": 11,
   "id": "d0b023fc",
   "metadata": {},
   "outputs": [
    {
     "name": "stdout",
     "output_type": "stream",
     "text": [
      "[[[[[1 2 3 4 5 6 7]]]]]\n",
      "Shape of array :  (1, 1, 1, 1, 7)\n"
     ]
    }
   ],
   "source": [
    "import numpy as np\n",
    "arr=np.array([1,2,3,4,5,6,7],ndmin=5)\n",
    "print(arr)\n",
    "print(\"Shape of array : \",arr.shape)"
   ]
  },
  {
   "cell_type": "code",
   "execution_count": null,
   "id": "6fc76c46",
   "metadata": {},
   "outputs": [],
   "source": []
  }
 ],
 "metadata": {
  "kernelspec": {
   "display_name": "Python 3 (ipykernel)",
   "language": "python",
   "name": "python3"
  },
  "language_info": {
   "codemirror_mode": {
    "name": "ipython",
    "version": 3
   },
   "file_extension": ".py",
   "mimetype": "text/x-python",
   "name": "python",
   "nbconvert_exporter": "python",
   "pygments_lexer": "ipython3",
   "version": "3.9.7"
  }
 },
 "nbformat": 4,
 "nbformat_minor": 5
}
