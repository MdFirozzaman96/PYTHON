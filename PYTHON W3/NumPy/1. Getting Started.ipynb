{
 "cells": [
  {
   "cell_type": "code",
   "execution_count": 3,
   "id": "e326041a",
   "metadata": {},
   "outputs": [
    {
     "name": "stdout",
     "output_type": "stream",
     "text": [
      "[1 3 4 5 6]\n"
     ]
    }
   ],
   "source": [
    "import numpy\n",
    "arr=numpy.array([1,3,4,5,6])\n",
    "print(arr)"
   ]
  },
  {
   "cell_type": "code",
   "execution_count": 11,
   "id": "449c992e",
   "metadata": {},
   "outputs": [
    {
     "name": "stdout",
     "output_type": "stream",
     "text": [
      "[1 2 4 6 7]\n",
      "Array Type :  <class 'numpy.ndarray'>\n"
     ]
    }
   ],
   "source": [
    "import numpy as np\n",
    "arr=np.array([1,2,4,6,7])\n",
    "print(arr)\n",
    "print(\"Array Type : \",type(arr))"
   ]
  },
  {
   "cell_type": "markdown",
   "id": "7cb1ccf9",
   "metadata": {},
   "source": [
    "## Numpy Version : "
   ]
  },
  {
   "cell_type": "code",
   "execution_count": 8,
   "id": "4059b496",
   "metadata": {},
   "outputs": [
    {
     "name": "stdout",
     "output_type": "stream",
     "text": [
      "1.20.3\n"
     ]
    }
   ],
   "source": [
    "import numpy\n",
    "print(numpy.__version__)"
   ]
  },
  {
   "cell_type": "markdown",
   "id": "ceb70a99",
   "metadata": {},
   "source": [
    "## 0-D Arrays : "
   ]
  },
  {
   "cell_type": "code",
   "execution_count": 2,
   "id": "1df4541d",
   "metadata": {},
   "outputs": [
    {
     "name": "stdout",
     "output_type": "stream",
     "text": [
      "130\n"
     ]
    }
   ],
   "source": [
    "import numpy as np\n",
    "arr=np.array(130)\n",
    "print(arr)"
   ]
  },
  {
   "cell_type": "markdown",
   "id": "c33249e3",
   "metadata": {},
   "source": [
    "## 1-D Arrays : "
   ]
  },
  {
   "cell_type": "code",
   "execution_count": 4,
   "id": "d5bbf562",
   "metadata": {},
   "outputs": [
    {
     "name": "stdout",
     "output_type": "stream",
     "text": [
      "[1 2 4 6 7]\n"
     ]
    }
   ],
   "source": [
    "import numpy as np\n",
    "arr=np.array([1,2,4,6,7])\n",
    "print(arr)"
   ]
  },
  {
   "cell_type": "markdown",
   "id": "eadb8621",
   "metadata": {},
   "source": [
    "## 2-D Arrays : "
   ]
  },
  {
   "cell_type": "code",
   "execution_count": 6,
   "id": "03936417",
   "metadata": {},
   "outputs": [
    {
     "name": "stdout",
     "output_type": "stream",
     "text": [
      "[[1 3 5]\n",
      " [2 4 6]]\n"
     ]
    }
   ],
   "source": [
    "import numpy as np\n",
    "arr=np.array([[1,3,5],[2,4,6]])\n",
    "print(arr)"
   ]
  },
  {
   "cell_type": "markdown",
   "id": "23aa983a",
   "metadata": {},
   "source": [
    "## 3-D Arrays :"
   ]
  },
  {
   "cell_type": "code",
   "execution_count": 11,
   "id": "81051481",
   "metadata": {},
   "outputs": [
    {
     "name": "stdout",
     "output_type": "stream",
     "text": [
      "[[[    1     3     5]\n",
      "  [    2     4     6]]\n",
      "\n",
      " [[  100  1000 10000]\n",
      "  [   10    20    30]]]\n"
     ]
    }
   ],
   "source": [
    "import numpy as np\n",
    "arr=np.array([[[1,3,5],[2,4,6]],[[100,1000,10000],[10,20,30]]])\n",
    "print(arr)"
   ]
  },
  {
   "cell_type": "markdown",
   "id": "1e7693fb",
   "metadata": {},
   "source": [
    "## Number of Dimensions (ndim) : "
   ]
  },
  {
   "cell_type": "code",
   "execution_count": 11,
   "id": "d1e6ce11",
   "metadata": {},
   "outputs": [
    {
     "name": "stdout",
     "output_type": "stream",
     "text": [
      "0  Dimensions\n",
      "1  Dimensions\n",
      "2  Dimensions\n",
      "3  Dimensions\n"
     ]
    }
   ],
   "source": [
    "import numpy as np\n",
    "a1=np.array(130)\n",
    "a2=np.array([1,2,3,5,6])\n",
    "a3=np.array([[1,3,5],[2,4,6]])\n",
    "a4=np.array([[[1,3,5],[2,4,6],[100,1000,10000]]])\n",
    "print(a1.ndim,\" Dimensions\")\n",
    "print(a2.ndim,\" Dimensions\")\n",
    "print(a3.ndim,\" Dimensions\")\n",
    "print(a4.ndim,\" Dimensions\")"
   ]
  },
  {
   "cell_type": "markdown",
   "id": "4e92b83a",
   "metadata": {},
   "source": [
    "## Higher Dimensional Arrays : "
   ]
  },
  {
   "cell_type": "code",
   "execution_count": 16,
   "id": "111eeecf",
   "metadata": {},
   "outputs": [
    {
     "name": "stdout",
     "output_type": "stream",
     "text": [
      "[[[[[1 4 6 7 8]]]]]\n",
      "Number of Dimensions :  5\n"
     ]
    }
   ],
   "source": [
    "import numpy as np\n",
    "arr=np.array([1,4,6,7,8],ndmin=5)\n",
    "print(arr)\n",
    "print(\"Number of Dimensions : \",arr.ndim)"
   ]
  },
  {
   "cell_type": "markdown",
   "id": "d28a4a4e",
   "metadata": {},
   "source": [
    "## arr = np.array([1, 2, 3, 4], ndmin=5)--->> Output : 5 Dimensions & [[[[[1 2 3 4]]]]]\n",
    "In this array the innermost dimension (5th dim) has 4 elements, the 4th dim has 1 element that is the vector, the 3rd dim has 1 element that is the matrix with the vector, the 2nd dim has 1 element that is 3D array and 1st dim has 1 element that is a 4D array."
   ]
  },
  {
   "cell_type": "markdown",
   "id": "4f40c938",
   "metadata": {},
   "source": [
    "#    NumPy Array Indexing "
   ]
  },
  {
   "cell_type": "code",
   "execution_count": 5,
   "id": "e8f60e87",
   "metadata": {},
   "outputs": [
    {
     "name": "stdout",
     "output_type": "stream",
     "text": [
      "The Element of 1st Position :  1 \n",
      "The Element of 4th Position :  6 \n",
      "The Element of 5th Position :  7\n"
     ]
    }
   ],
   "source": [
    "import numpy as np\n",
    "arr=np.array([1,3,4,6,7])\n",
    "print(\"The Element of 1st Position : \",arr[0],\"\\nThe Element of 4th Position : \",arr[3],\"\\nThe Element of 5th Position : \",arr[4])"
   ]
  },
  {
   "cell_type": "markdown",
   "id": "5c41a35d",
   "metadata": {},
   "source": [
    "## Access 2-D Arrays : "
   ]
  },
  {
   "cell_type": "code",
   "execution_count": 15,
   "id": "3bcf92e8",
   "metadata": {},
   "outputs": [
    {
     "name": "stdout",
     "output_type": "stream",
     "text": [
      "The element of second row and second column :  130\n"
     ]
    }
   ],
   "source": [
    "import numpy as np\n",
    "arr=np.array([[1,3,5],[2,130,6]])\n",
    "print(\"The element of second row and second column : \",arr[1,1])"
   ]
  },
  {
   "cell_type": "markdown",
   "id": "67a09c01",
   "metadata": {},
   "source": [
    "## Access 3-D Arrays : "
   ]
  },
  {
   "cell_type": "code",
   "execution_count": 30,
   "id": "02830831",
   "metadata": {},
   "outputs": [
    {
     "name": "stdout",
     "output_type": "stream",
     "text": [
      "130\n"
     ]
    }
   ],
   "source": [
    "import numpy as Firoz3D\n",
    "arr=Firoz3D.array([[[1,3,5],[2,4,6]],[[100,1000,10000],[100000,3,4]],[[11,22,33],[129,130,131]]])\n",
    "print(arr[2,1,1])"
   ]
  },
  {
   "cell_type": "markdown",
   "id": "639fc8e3",
   "metadata": {},
   "source": [
    "## Negative Indexing : "
   ]
  },
  {
   "cell_type": "code",
   "execution_count": 35,
   "id": "f3e9e028",
   "metadata": {},
   "outputs": [
    {
     "name": "stdout",
     "output_type": "stream",
     "text": [
      "6   4   2\n"
     ]
    }
   ],
   "source": [
    "import numpy as np\n",
    "Firoz=np.array([[1,3,5],[2,4,6]])\n",
    "print(Firoz[1,-1],\" \",Firoz[1,-2],\" \",Firoz[1,-3])"
   ]
  },
  {
   "cell_type": "markdown",
   "id": "def6b53b",
   "metadata": {},
   "source": [
    "# NumPy Array Slicing"
   ]
  },
  {
   "cell_type": "code",
   "execution_count": 55,
   "id": "b00adf18",
   "metadata": {},
   "outputs": [
    {
     "name": "stdout",
     "output_type": "stream",
     "text": [
      "[2 5 6]\n",
      "[10]\n",
      "[1 5 8]\n",
      "[ 1  5  8 13]\n",
      "[ 1  6 13]\n",
      "Slice elements from beginning to 4(First four element's):  [1 2 5 6]\n",
      "Slice elements from beginning to end :  [ 1  2  5  6  8 10 13]\n",
      "Print one element after one element :  [ 1  5  8 13]\n"
     ]
    }
   ],
   "source": [
    "import numpy as np\n",
    "arr=np.array([1,2,5,6,8,10,13])\n",
    "print(arr[1:4])\n",
    "print(arr[-2:-1])\n",
    "print(arr[0:6:2])\n",
    "print(arr[0::2])\n",
    "print(arr[0::3])\n",
    "print(\"Slice elements from beginning to 4(First four element's): \",arr[:4])\n",
    "print(\"Slice elements from beginning to end : \",arr[:])\n",
    "print(\"Print one element after one element : \",arr[: :2])"
   ]
  },
  {
   "cell_type": "markdown",
   "id": "a246be0c",
   "metadata": {},
   "source": [
    "## Slicing 2-D Arrays : "
   ]
  },
  {
   "cell_type": "code",
   "execution_count": 63,
   "id": "c39db267",
   "metadata": {},
   "outputs": [
    {
     "name": "stdout",
     "output_type": "stream",
     "text": [
      "[1 3 5]\n",
      "[5]\n",
      "[3 4]\n",
      "[[1 3]\n",
      " [2 4]]\n",
      "[[1 3 5]\n",
      " [2 4 6]]\n",
      "[[3 5]\n",
      " [4 6]]\n",
      "[[1 3 5]\n",
      " [2 4 6]]\n"
     ]
    }
   ],
   "source": [
    "import numpy as np\n",
    "arr=np.array([[1,3,5],[2,4,6]])\n",
    "print(arr[0,0:])\n",
    "print(arr[0:1,2])\n",
    "print(arr[0:2,1])\n",
    "print(arr[0:2,0:2])\n",
    "print(arr[0:2,:])\n",
    "print(arr[:2,1:])\n",
    "print(arr[:,:])"
   ]
  },
  {
   "cell_type": "code",
   "execution_count": null,
   "id": "5dd58626",
   "metadata": {},
   "outputs": [],
   "source": []
  }
 ],
 "metadata": {
  "kernelspec": {
   "display_name": "Python 3 (ipykernel)",
   "language": "python",
   "name": "python3"
  },
  "language_info": {
   "codemirror_mode": {
    "name": "ipython",
    "version": 3
   },
   "file_extension": ".py",
   "mimetype": "text/x-python",
   "name": "python",
   "nbconvert_exporter": "python",
   "pygments_lexer": "ipython3",
   "version": "3.9.7"
  }
 },
 "nbformat": 4,
 "nbformat_minor": 5
}
