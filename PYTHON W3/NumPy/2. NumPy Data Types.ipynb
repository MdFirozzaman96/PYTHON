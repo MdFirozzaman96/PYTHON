{
 "cells": [
  {
   "cell_type": "markdown",
   "id": "611575c5",
   "metadata": {},
   "source": [
    "# NumPy Data Types"
   ]
  },
  {
   "cell_type": "code",
   "execution_count": 4,
   "id": "57c9a223",
   "metadata": {},
   "outputs": [
    {
     "name": "stdout",
     "output_type": "stream",
     "text": [
      "int32\n"
     ]
    }
   ],
   "source": [
    "import numpy as np\n",
    "arr=np.array([1,2,3,4,6])\n",
    "print(arr.dtype)"
   ]
  },
  {
   "cell_type": "code",
   "execution_count": 6,
   "id": "a5779b71",
   "metadata": {},
   "outputs": [
    {
     "name": "stdout",
     "output_type": "stream",
     "text": [
      "<U7\n"
     ]
    }
   ],
   "source": [
    "import numpy as np\n",
    "Str=np.array(['apple','bannana','orrange'])\n",
    "print(Str.dtype)"
   ]
  },
  {
   "cell_type": "markdown",
   "id": "572598d2",
   "metadata": {},
   "source": [
    "## 1. Creating Arrays With a Defined Data Type :\n",
    "### We use the array() function to create arrays, this function can take an optional argument: dtype that allows us to define the expected data type of the array elements:"
   ]
  },
  {
   "cell_type": "markdown",
   "id": "951fca35",
   "metadata": {},
   "source": [
    "## (i) Create an array with data type string :"
   ]
  },
  {
   "cell_type": "code",
   "execution_count": 8,
   "id": "55e822bc",
   "metadata": {},
   "outputs": [
    {
     "name": "stdout",
     "output_type": "stream",
     "text": [
      "[b'1' b'2' b'3' b'4' b'5']\n",
      "Data Type of the array :  |S1\n"
     ]
    }
   ],
   "source": [
    "import numpy as np\n",
    "arr=np.array([1,2,3,4,5],dtype='S')\n",
    "print(arr)\n",
    "print(\"Data Type of the array : \",arr.dtype)"
   ]
  },
  {
   "cell_type": "markdown",
   "id": "3d787106",
   "metadata": {},
   "source": [
    "## (ii) Create an array with data type 4 bytes integer : "
   ]
  },
  {
   "cell_type": "code",
   "execution_count": 9,
   "id": "8a84a598",
   "metadata": {},
   "outputs": [
    {
     "name": "stdout",
     "output_type": "stream",
     "text": [
      "[1 2 4 5]\n",
      "int32\n"
     ]
    }
   ],
   "source": [
    "import numpy as np\n",
    "arr=np.array([1,2,4,5],dtype='i4')\n",
    "print(arr)\n",
    "print(arr.dtype)"
   ]
  },
  {
   "cell_type": "markdown",
   "id": "fd6f4964",
   "metadata": {},
   "source": [
    "## ValueError : \n",
    "### If a type is given in which elements can't be casted then NumPy will raise a ValueError.\n",
    "### In Python ValueError is raised when the type of passed argument to a function is unexpected/incorrect."
   ]
  },
  {
   "cell_type": "code",
   "execution_count": 12,
   "id": "5b1530a1",
   "metadata": {},
   "outputs": [
    {
     "ename": "ValueError",
     "evalue": "invalid literal for int() with base 10: 'a'",
     "output_type": "error",
     "traceback": [
      "\u001b[1;31m---------------------------------------------------------------------------\u001b[0m",
      "\u001b[1;31mValueError\u001b[0m                                Traceback (most recent call last)",
      "\u001b[1;32m~\\AppData\\Local\\Temp/ipykernel_26340/1247368924.py\u001b[0m in \u001b[0;36m<module>\u001b[1;34m\u001b[0m\n\u001b[0;32m      1\u001b[0m \u001b[1;32mimport\u001b[0m \u001b[0mnumpy\u001b[0m \u001b[1;32mas\u001b[0m \u001b[0mnp\u001b[0m\u001b[1;33m\u001b[0m\u001b[1;33m\u001b[0m\u001b[0m\n\u001b[1;32m----> 2\u001b[1;33m \u001b[0marr\u001b[0m\u001b[1;33m=\u001b[0m\u001b[0mnp\u001b[0m\u001b[1;33m.\u001b[0m\u001b[0marray\u001b[0m\u001b[1;33m(\u001b[0m\u001b[1;33m[\u001b[0m\u001b[1;34m'a'\u001b[0m\u001b[1;33m,\u001b[0m\u001b[1;34m'1'\u001b[0m\u001b[1;33m,\u001b[0m\u001b[1;34m'2'\u001b[0m\u001b[1;33m,\u001b[0m\u001b[1;34m'3'\u001b[0m\u001b[1;33m]\u001b[0m\u001b[1;33m,\u001b[0m\u001b[0mdtype\u001b[0m\u001b[1;33m=\u001b[0m\u001b[1;34m'i'\u001b[0m\u001b[1;33m)\u001b[0m\u001b[1;33m\u001b[0m\u001b[1;33m\u001b[0m\u001b[0m\n\u001b[0m\u001b[0;32m      3\u001b[0m \u001b[0mprint\u001b[0m\u001b[1;33m(\u001b[0m\u001b[0marr\u001b[0m\u001b[1;33m)\u001b[0m\u001b[1;33m\u001b[0m\u001b[1;33m\u001b[0m\u001b[0m\n\u001b[0;32m      4\u001b[0m \u001b[0mprint\u001b[0m\u001b[1;33m(\u001b[0m\u001b[0marr\u001b[0m\u001b[1;33m.\u001b[0m\u001b[0mdtype\u001b[0m\u001b[1;33m)\u001b[0m\u001b[1;33m\u001b[0m\u001b[1;33m\u001b[0m\u001b[0m\n",
      "\u001b[1;31mValueError\u001b[0m: invalid literal for int() with base 10: 'a'"
     ]
    }
   ],
   "source": [
    "import numpy as np\n",
    "arr=np.array(['a','1','2','3'],dtype='i')\n",
    "print(arr)\n",
    "print(arr.dtype)"
   ]
  },
  {
   "cell_type": "markdown",
   "id": "bffc6d4b",
   "metadata": {},
   "source": [
    "## 2. Converting Data Type on Existing Arrays :  astype() "
   ]
  },
  {
   "cell_type": "markdown",
   "id": "3c9470c3",
   "metadata": {},
   "source": [
    "### (i) Change data type from float to integer by using 'i' as parameter value:"
   ]
  },
  {
   "cell_type": "code",
   "execution_count": 14,
   "id": "786cc11d",
   "metadata": {},
   "outputs": [
    {
     "name": "stdout",
     "output_type": "stream",
     "text": [
      "Before Converting the type of the array :  [1.1 2.3 4.6]\n",
      "After converting the data type of the array :  [1 2 4]\n"
     ]
    }
   ],
   "source": [
    "import numpy as np\n",
    "arr=np.array([1.1,2.3,4.6])\n",
    "print(\"Before Converting the type of the array : \",arr)\n",
    "NewArr=arr.astype('i')\n",
    "## NewArr=arr.astype(int)\n",
    "print(\"After converting the data type of the array : \",NewArr)"
   ]
  },
  {
   "cell_type": "markdown",
   "id": "2f41915f",
   "metadata": {},
   "source": [
    "### (ii) Change data type from integer to boolean:"
   ]
  },
  {
   "cell_type": "code",
   "execution_count": 20,
   "id": "4c269c99",
   "metadata": {},
   "outputs": [
    {
     "name": "stdout",
     "output_type": "stream",
     "text": [
      "Before changing the data type of the arrry :  [ 1  0  3  0  0  0 10  0]\n",
      "After changing the data type from integer to bool :  [ True False  True False False False  True False]\n"
     ]
    }
   ],
   "source": [
    "import numpy as np\n",
    "arr=np.array([1,0,3,0,0,0,10,0])\n",
    "ToBool=arr.astype(bool)\n",
    "print(\"Before changing the data type of the arrry : \",arr)\n",
    "print(\"After changing the data type from integer to bool : \",ToBool)"
   ]
  },
  {
   "cell_type": "code",
   "execution_count": null,
   "id": "4912a1e8",
   "metadata": {},
   "outputs": [],
   "source": []
  }
 ],
 "metadata": {
  "kernelspec": {
   "display_name": "Python 3 (ipykernel)",
   "language": "python",
   "name": "python3"
  },
  "language_info": {
   "codemirror_mode": {
    "name": "ipython",
    "version": 3
   },
   "file_extension": ".py",
   "mimetype": "text/x-python",
   "name": "python",
   "nbconvert_exporter": "python",
   "pygments_lexer": "ipython3",
   "version": "3.9.7"
  }
 },
 "nbformat": 4,
 "nbformat_minor": 5
}
