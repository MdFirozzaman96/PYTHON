{
 "cells": [
  {
   "cell_type": "markdown",
   "id": "be3224ad",
   "metadata": {},
   "source": [
    "# NumPy Array Reshaping"
   ]
  },
  {
   "cell_type": "markdown",
   "id": "4a3c03a9",
   "metadata": {},
   "source": [
    "## (i) Reshape From 1-D to 2-D : "
   ]
  },
  {
   "cell_type": "code",
   "execution_count": 8,
   "id": "4830d5fc",
   "metadata": {},
   "outputs": [
    {
     "name": "stdout",
     "output_type": "stream",
     "text": [
      "1-D array :  [ 1  2  3  4  5  6  7  8  9 10 11 12]\n",
      "The shape of arr :  (12,)\n",
      "2-D :  [[ 1  2  3  4]\n",
      " [ 5  6  7  8]\n",
      " [ 9 10 11 12]]\n",
      "The shape of array arr1 :  (3, 4)\n"
     ]
    }
   ],
   "source": [
    "import numpy as np\n",
    "arr=np.array([1,2,3,4,5,6,7,8,9,10,11,12])\n",
    "print(\"1-D array : \",arr)\n",
    "print(\"The shape of arr : \",arr.shape)\n",
    "arr1=arr.reshape(3,4)\n",
    "print(\"2-D : \",arr1)\n",
    "print(\"The shape of array arr1 : \",arr1.shape)"
   ]
  },
  {
   "cell_type": "markdown",
   "id": "45b7cba5",
   "metadata": {},
   "source": [
    "## (ii) Reshape From 1-D to 3-D : "
   ]
  },
  {
   "cell_type": "code",
   "execution_count": 9,
   "id": "62b4d960",
   "metadata": {},
   "outputs": [
    {
     "name": "stdout",
     "output_type": "stream",
     "text": [
      "1-D :  [ 1  2  3  4  5  6  7  8  9 10 11 12]\n",
      "3-D :  [[[ 1  2]\n",
      "  [ 3  4]\n",
      "  [ 5  6]]\n",
      "\n",
      " [[ 7  8]\n",
      "  [ 9 10]\n",
      "  [11 12]]]\n",
      "Shape of array ThreeD :  (2, 3, 2)\n"
     ]
    }
   ],
   "source": [
    "import numpy as np\n",
    "arr=np.array([1,2,3,4,5,6,7,8,9,10,11,12])\n",
    "print(\"1-D : \",arr)\n",
    "ThreeD=arr.reshape(2,3,2)\n",
    "print(\"3-D : \",ThreeD)\n",
    "print(\"Shape of array ThreeD : \",ThreeD.shape)"
   ]
  },
  {
   "cell_type": "markdown",
   "id": "55dcf954",
   "metadata": {},
   "source": [
    "## Can We Reshape Into any Shape?\n",
    "### We can reshape an 8 elements 1D array into 4 elements in 2 rows 2D array but we cannot reshape it into a 3 elements 3 rows 2D array as that would require 3x3 = 9 elements."
   ]
  },
  {
   "cell_type": "code",
   "execution_count": 12,
   "id": "04a9d6a5",
   "metadata": {},
   "outputs": [
    {
     "name": "stdout",
     "output_type": "stream",
     "text": [
      "[[1 2 3 4]\n",
      " [5 6 7 8]]\n",
      "We can not reshape elements into dimensions unequally : \n"
     ]
    },
    {
     "ename": "ValueError",
     "evalue": "cannot reshape array of size 8 into shape (3,3)",
     "output_type": "error",
     "traceback": [
      "\u001b[1;31m---------------------------------------------------------------------------\u001b[0m",
      "\u001b[1;31mValueError\u001b[0m                                Traceback (most recent call last)",
      "\u001b[1;32m~\\AppData\\Local\\Temp/ipykernel_14548/922035881.py\u001b[0m in \u001b[0;36m<module>\u001b[1;34m\u001b[0m\n\u001b[0;32m      4\u001b[0m \u001b[0mprint\u001b[0m\u001b[1;33m(\u001b[0m\u001b[0mrsp\u001b[0m\u001b[1;33m)\u001b[0m\u001b[1;33m\u001b[0m\u001b[1;33m\u001b[0m\u001b[0m\n\u001b[0;32m      5\u001b[0m \u001b[0mprint\u001b[0m\u001b[1;33m(\u001b[0m\u001b[1;34m\"We can not reshape elements into dimensions unequally : \"\u001b[0m\u001b[1;33m)\u001b[0m\u001b[1;33m\u001b[0m\u001b[1;33m\u001b[0m\u001b[0m\n\u001b[1;32m----> 6\u001b[1;33m \u001b[0muneql\u001b[0m\u001b[1;33m=\u001b[0m\u001b[0marr\u001b[0m\u001b[1;33m.\u001b[0m\u001b[0mreshape\u001b[0m\u001b[1;33m(\u001b[0m\u001b[1;36m3\u001b[0m\u001b[1;33m,\u001b[0m\u001b[1;36m3\u001b[0m\u001b[1;33m)\u001b[0m\u001b[1;33m\u001b[0m\u001b[1;33m\u001b[0m\u001b[0m\n\u001b[0m\u001b[0;32m      7\u001b[0m \u001b[0mprint\u001b[0m\u001b[1;33m(\u001b[0m\u001b[0muneql\u001b[0m\u001b[1;33m)\u001b[0m\u001b[1;33m\u001b[0m\u001b[1;33m\u001b[0m\u001b[0m\n",
      "\u001b[1;31mValueError\u001b[0m: cannot reshape array of size 8 into shape (3,3)"
     ]
    }
   ],
   "source": [
    "import numpy as np\n",
    "arr=np.array([1,2,3,4,5,6,7,8])\n",
    "rsp=arr.reshape(2,4)\n",
    "print(rsp)\n",
    "print(\"We can not reshape elements into dimensions unequally : \")\n",
    "uneql=arr.reshape(3,3)\n",
    "print(uneql)"
   ]
  },
  {
   "cell_type": "markdown",
   "id": "82088984",
   "metadata": {},
   "source": [
    "## Returns Copy or View? --->> base atribute.\n",
    "### The main difference between a copy and a view of an array is that the copy is a new array, and the view is just a view of the original array. copy() return None otherwise view() returns the original array."
   ]
  },
  {
   "cell_type": "code",
   "execution_count": 17,
   "id": "46ba7ec9",
   "metadata": {},
   "outputs": [
    {
     "name": "stdout",
     "output_type": "stream",
     "text": [
      "arr :  None\n",
      "rsp :  [1 2 3 4 5 6]\n"
     ]
    }
   ],
   "source": [
    "import numpy as np\n",
    "arr=np.array([1,2,3,4,5,6])\n",
    "rsp=arr.reshape(2,3)\n",
    "print(\"arr : \",arr.base)\n",
    "print(\"rsp : \",rsp.base)"
   ]
  },
  {
   "cell_type": "code",
   "execution_count": 35,
   "id": "6cb58539",
   "metadata": {},
   "outputs": [
    {
     "name": "stdout",
     "output_type": "stream",
     "text": [
      "Monose Sarker :  [ 1  2  3  4  5  6  7  8  9 10 11 12]\n",
      "[[[ 1  2]\n",
      "  [ 3  4]]\n",
      "\n",
      " [[ 5  6]\n",
      "  [ 7  8]]\n",
      "\n",
      " [[ 9 10]\n",
      "  [11 12]]]\n",
      "[ 1  2  3  4  5  6  7  8  9 10 11 12]\n",
      "The example above returns the original array, so it is a view.\n"
     ]
    }
   ],
   "source": [
    "import numpy as np\n",
    "arr=np.array([1,2,3,4,5,6,7,8,9,10,11,12])\n",
    "print(\"Monose Sarker : \",arr)\n",
    "print(arr.reshape(3,2,2))\n",
    "print(arr.reshape(3,2,2).base)\n",
    "print(\"The example above returns the original array, so it is a view.\")"
   ]
  },
  {
   "cell_type": "markdown",
   "id": "6f9b0f0f",
   "metadata": {},
   "source": [
    "## Unknown Dimension : "
   ]
  },
  {
   "cell_type": "code",
   "execution_count": 31,
   "id": "a3377e29",
   "metadata": {},
   "outputs": [
    {
     "name": "stdout",
     "output_type": "stream",
     "text": [
      "A new dimensional array : \n",
      " [[[1 2]\n",
      "  [3 4]]\n",
      "\n",
      " [[5 6]\n",
      "  [7 8]]]\n",
      "A new dimensional array : \n",
      " [[[1 2 3 4]]\n",
      "\n",
      " [[5 6 7 8]]]\n",
      "A new dimensional array : \n",
      " [[[1 2 3 4]\n",
      "  [5 6 7 8]]]\n"
     ]
    }
   ],
   "source": [
    "import numpy as np\n",
    "arr=np.array([1,2,3,4,5,6,7,8])\n",
    "print(\"A new dimensional array : \\n\",arr.reshape(2,2,-1))\n",
    "print(\"A new dimensional array : \\n\",arr.reshape(2,-1,4))\n",
    "print(\"A new dimensional array : \\n\",arr.reshape(-1,2,4))"
   ]
  },
  {
   "cell_type": "markdown",
   "id": "b5046e6c",
   "metadata": {},
   "source": [
    "### We can not pass -1 to more than one dimension."
   ]
  },
  {
   "cell_type": "code",
   "execution_count": 32,
   "id": "1c827230",
   "metadata": {},
   "outputs": [
    {
     "ename": "ValueError",
     "evalue": "can only specify one unknown dimension",
     "output_type": "error",
     "traceback": [
      "\u001b[1;31m---------------------------------------------------------------------------\u001b[0m",
      "\u001b[1;31mValueError\u001b[0m                                Traceback (most recent call last)",
      "\u001b[1;32m~\\AppData\\Local\\Temp/ipykernel_14548/3094530980.py\u001b[0m in \u001b[0;36m<module>\u001b[1;34m\u001b[0m\n\u001b[0;32m      1\u001b[0m \u001b[1;32mimport\u001b[0m \u001b[0mnumpy\u001b[0m \u001b[1;32mas\u001b[0m \u001b[0mnp\u001b[0m\u001b[1;33m\u001b[0m\u001b[1;33m\u001b[0m\u001b[0m\n\u001b[0;32m      2\u001b[0m \u001b[0marr\u001b[0m\u001b[1;33m=\u001b[0m\u001b[0mnp\u001b[0m\u001b[1;33m.\u001b[0m\u001b[0marray\u001b[0m\u001b[1;33m(\u001b[0m\u001b[1;33m[\u001b[0m\u001b[1;36m1\u001b[0m\u001b[1;33m,\u001b[0m\u001b[1;36m2\u001b[0m\u001b[1;33m,\u001b[0m\u001b[1;36m3\u001b[0m\u001b[1;33m,\u001b[0m\u001b[1;36m4\u001b[0m\u001b[1;33m,\u001b[0m\u001b[1;36m5\u001b[0m\u001b[1;33m,\u001b[0m\u001b[1;36m6\u001b[0m\u001b[1;33m,\u001b[0m\u001b[1;36m7\u001b[0m\u001b[1;33m,\u001b[0m\u001b[1;36m8\u001b[0m\u001b[1;33m,\u001b[0m\u001b[1;36m9\u001b[0m\u001b[1;33m]\u001b[0m\u001b[1;33m)\u001b[0m\u001b[1;33m\u001b[0m\u001b[1;33m\u001b[0m\u001b[0m\n\u001b[1;32m----> 3\u001b[1;33m \u001b[0mprint\u001b[0m\u001b[1;33m(\u001b[0m\u001b[0marr\u001b[0m\u001b[1;33m.\u001b[0m\u001b[0mreshape\u001b[0m\u001b[1;33m(\u001b[0m\u001b[1;36m3\u001b[0m\u001b[1;33m,\u001b[0m\u001b[1;33m-\u001b[0m\u001b[1;36m1\u001b[0m\u001b[1;33m,\u001b[0m\u001b[1;33m-\u001b[0m\u001b[1;36m1\u001b[0m\u001b[1;33m)\u001b[0m\u001b[1;33m)\u001b[0m\u001b[1;33m\u001b[0m\u001b[1;33m\u001b[0m\u001b[0m\n\u001b[0m",
      "\u001b[1;31mValueError\u001b[0m: can only specify one unknown dimension"
     ]
    }
   ],
   "source": [
    "import numpy as np\n",
    "arr=np.array([1,2,3,4,5,6,7,8,9])\n",
    "print(arr.reshape(3,-1,-1))"
   ]
  },
  {
   "cell_type": "markdown",
   "id": "a3211a73",
   "metadata": {},
   "source": [
    "## Flattening the arrays :\n",
    "### Flattening array means converting a multidimensional array into a 1D array.\n",
    "### We can use reshape(-1) to do this."
   ]
  },
  {
   "cell_type": "code",
   "execution_count": 42,
   "id": "562510f2",
   "metadata": {},
   "outputs": [
    {
     "name": "stdout",
     "output_type": "stream",
     "text": [
      "Before flattening the array : \n",
      " [[[   1    4    6]\n",
      "  [  10   20   40]]\n",
      "\n",
      " [[ 100  400  600]\n",
      "  [1000 2000 4000]]]\n",
      "After flattening the array : \n",
      " [   1    4    6   10   20   40  100  400  600 1000 2000 4000]\n"
     ]
    }
   ],
   "source": [
    "import numpy as np\n",
    "arr=np.array([[[1,4,6],[10,20,40]],[[100,400,600],[1000,2000,4000]]])\n",
    "print(\"Before flattening the array : \\n\",arr)\n",
    "print(\"After flattening the array : \\n\",arr.reshape(-1))"
   ]
  },
  {
   "cell_type": "code",
   "execution_count": null,
   "id": "0f412fc8",
   "metadata": {},
   "outputs": [],
   "source": []
  }
 ],
 "metadata": {
  "kernelspec": {
   "display_name": "Python 3 (ipykernel)",
   "language": "python",
   "name": "python3"
  },
  "language_info": {
   "codemirror_mode": {
    "name": "ipython",
    "version": 3
   },
   "file_extension": ".py",
   "mimetype": "text/x-python",
   "name": "python",
   "nbconvert_exporter": "python",
   "pygments_lexer": "ipython3",
   "version": "3.9.7"
  }
 },
 "nbformat": 4,
 "nbformat_minor": 5
}
