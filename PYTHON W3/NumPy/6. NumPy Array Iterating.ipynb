{
 "cells": [
  {
   "cell_type": "markdown",
   "id": "222c7326",
   "metadata": {},
   "source": [
    "# NumPy Array Iterating"
   ]
  },
  {
   "cell_type": "markdown",
   "id": "6fa8b87c",
   "metadata": {},
   "source": [
    "## (i) 1-D Array : "
   ]
  },
  {
   "cell_type": "code",
   "execution_count": 5,
   "id": "f0ddd987",
   "metadata": {},
   "outputs": [
    {
     "name": "stdout",
     "output_type": "stream",
     "text": [
      "1\n",
      "2\n",
      "4\n",
      "5\n",
      "6\n"
     ]
    }
   ],
   "source": [
    "import numpy as np\n",
    "arr=np.array([1,2,4,5,6])\n",
    "for x in arr:\n",
    "    print(x)"
   ]
  },
  {
   "cell_type": "markdown",
   "id": "08043245",
   "metadata": {},
   "source": [
    "## (ii) 2-D Array : "
   ]
  },
  {
   "cell_type": "code",
   "execution_count": 6,
   "id": "8e0c3349",
   "metadata": {},
   "outputs": [
    {
     "name": "stdout",
     "output_type": "stream",
     "text": [
      "[1 3 4]\n",
      "[4 5 7]\n"
     ]
    }
   ],
   "source": [
    "import numpy as np\n",
    "arr=np.array([[1,3,4],[4,5,7]])\n",
    "for x in arr:\n",
    "    print(x)"
   ]
  },
  {
   "cell_type": "code",
   "execution_count": 16,
   "id": "37a30d4f",
   "metadata": {},
   "outputs": [
    {
     "name": "stdout",
     "output_type": "stream",
     "text": [
      "1\n",
      "2\n",
      "3\n",
      "4\n",
      "5\n",
      "7\n"
     ]
    }
   ],
   "source": [
    "import numpy as np\n",
    "arr=np.array([[1,2,3],[4,5,7]])\n",
    "for x in arr:\n",
    "    for y in x: \n",
    "        print(y)"
   ]
  },
  {
   "cell_type": "markdown",
   "id": "4e007506",
   "metadata": {},
   "source": [
    "## (iii) 3-D Array : "
   ]
  },
  {
   "cell_type": "code",
   "execution_count": 25,
   "id": "8e4efe12",
   "metadata": {},
   "outputs": [
    {
     "name": "stdout",
     "output_type": "stream",
     "text": [
      "[[1 2 3]\n",
      " [4 5 6]]\n",
      "[[ 7  8  9]\n",
      " [10 11 12]]\n"
     ]
    }
   ],
   "source": [
    "import numpy as np\n",
    "arr=np.array([1,2,3,4,5,6,7,8,9,10,11,12])\n",
    "ThreeD=arr.reshape(2,2,3)\n",
    "for x in ThreeD:\n",
    "    print(x)"
   ]
  },
  {
   "cell_type": "code",
   "execution_count": 26,
   "id": "8bc9701b",
   "metadata": {},
   "outputs": [
    {
     "name": "stdout",
     "output_type": "stream",
     "text": [
      "Return the actual values, the scalars : \n",
      "2\n",
      "4\n",
      "6\n",
      "1\n",
      "3\n",
      "5\n",
      "8\n",
      "10\n",
      "12\n",
      "7\n",
      "9\n",
      "11\n",
      "Print into the 2-D elements : \n",
      "[2 4 6]\n",
      "[1 3 5]\n",
      "[ 8 10 12]\n",
      "[ 7  9 11]\n",
      "Print into the 3-D elements : \n",
      "[[2 4 6]\n",
      " [1 3 5]]\n",
      "[[ 8 10 12]\n",
      " [ 7  9 11]]\n"
     ]
    }
   ],
   "source": [
    "import numpy as np\n",
    "arr=np.array([[[2,4,6],[1,3,5]],[[8,10,12],[7,9,11]]])\n",
    "print(\"Return the actual values, the scalars : \")\n",
    "for x in arr:\n",
    "    for y in x:\n",
    "        for z in y:\n",
    "            print(z)\n",
    "print(\"Print into the 2-D elements : \")\n",
    "for x in arr:\n",
    "    for y in x:\n",
    "        print(y)\n",
    "print(\"Print into the 3-D elements : \")\n",
    "for x in arr:\n",
    "    print(x)"
   ]
  },
  {
   "cell_type": "markdown",
   "id": "3da6f28f",
   "metadata": {},
   "source": [
    "## Iterating Each Scalar Element into the Array Using nditer() : Avoid Heigher Dimensions"
   ]
  },
  {
   "cell_type": "code",
   "execution_count": 29,
   "id": "bcc4920b",
   "metadata": {},
   "outputs": [
    {
     "name": "stdout",
     "output_type": "stream",
     "text": [
      "[[[ 1  2]\n",
      "  [ 3  4]]\n",
      "\n",
      " [[ 5  6]\n",
      "  [ 7  8]]\n",
      "\n",
      " [[ 9 10]\n",
      "  [11 12]]]\n",
      "Printing each scalar elements : \n",
      "1\n",
      "2\n",
      "3\n",
      "4\n",
      "5\n",
      "6\n",
      "7\n",
      "8\n",
      "9\n",
      "10\n",
      "11\n",
      "12\n"
     ]
    }
   ],
   "source": [
    "import numpy as np\n",
    "arr=np.array([[[1,2],[3,4]],[[5,6],[7,8]],[[9,10],[11,12]]])\n",
    "print(arr)\n",
    "print(\"Printing each scalar elements : \")\n",
    "for x in np.nditer(arr):\n",
    "    print(x)"
   ]
  },
  {
   "cell_type": "code",
   "execution_count": null,
   "id": "1b1c4b8e",
   "metadata": {},
   "outputs": [],
   "source": []
  }
 ],
 "metadata": {
  "kernelspec": {
   "display_name": "Python 3 (ipykernel)",
   "language": "python",
   "name": "python3"
  },
  "language_info": {
   "codemirror_mode": {
    "name": "ipython",
    "version": 3
   },
   "file_extension": ".py",
   "mimetype": "text/x-python",
   "name": "python",
   "nbconvert_exporter": "python",
   "pygments_lexer": "ipython3",
   "version": "3.9.7"
  }
 },
 "nbformat": 4,
 "nbformat_minor": 5
}
