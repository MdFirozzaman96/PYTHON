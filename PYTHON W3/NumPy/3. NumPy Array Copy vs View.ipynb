{
 "cells": [
  {
   "cell_type": "markdown",
   "id": "de4be077",
   "metadata": {},
   "source": [
    "# NumPy Array Copy vs View"
   ]
  },
  {
   "cell_type": "markdown",
   "id": "b2b1e973",
   "metadata": {},
   "source": [
    "## The Difference Between Copy and View :\n",
    "### The main difference between a copy and a view of an array is that the copy is a new array, and the view is just a view of the original array."
   ]
  },
  {
   "cell_type": "markdown",
   "id": "071624a0",
   "metadata": {},
   "source": [
    "## (i) copy() : \n",
    "### The copy owns the data and any changes made to the copy will not affect original array, and any changes made to the original array will not affect the copy."
   ]
  },
  {
   "cell_type": "code",
   "execution_count": 5,
   "id": "653b95d0",
   "metadata": {},
   "outputs": [
    {
     "name": "stdout",
     "output_type": "stream",
     "text": [
      "The original array :  [  1   2   3 130   5   6]\n",
      "The new array :  [1 2 3 4 5 6]\n"
     ]
    }
   ],
   "source": [
    "import numpy as np\n",
    "arr=np.array([1,2,3,4,5,6])\n",
    "x=arr.copy()\n",
    "arr[3]=130\n",
    "print(\"The original array : \",arr)\n",
    "print(\"The new array : \",x)"
   ]
  },
  {
   "cell_type": "markdown",
   "id": "4d6f335f",
   "metadata": {},
   "source": [
    "## (ii) view() : \n",
    "### The view does not own the data and any changes made to the view will affect the original array, and any changes made to the original array will affect the view."
   ]
  },
  {
   "cell_type": "code",
   "execution_count": 7,
   "id": "380f66ca",
   "metadata": {},
   "outputs": [
    {
     "name": "stdout",
     "output_type": "stream",
     "text": [
      "The original array :  [  1   2   3 130   5   6]\n",
      "The new array :  [  1   2   3 130   5   6]\n"
     ]
    }
   ],
   "source": [
    "import numpy as np\n",
    "arr=np.array([1,2,3,4,5,6])\n",
    "x=arr.view()\n",
    "arr[3]=130;\n",
    "print(\"The original array : \",arr)\n",
    "print(\"The new array : \",x)"
   ]
  },
  {
   "cell_type": "markdown",
   "id": "9d6b9e41",
   "metadata": {},
   "source": [
    "## Check if Array Owns its Data : \n",
    "### Every NumPy array has the attribute 'base' that returns None if the array owns the data. copies owns the data, and views does not own the data"
   ]
  },
  {
   "cell_type": "code",
   "execution_count": 8,
   "id": "428ac381",
   "metadata": {},
   "outputs": [
    {
     "name": "stdout",
     "output_type": "stream",
     "text": [
      "The copied array owns the data :  None\n",
      "The viewed array doesn't owns the data :  [1 2 4 5 6 7]\n"
     ]
    }
   ],
   "source": [
    "import numpy as np\n",
    "arr=np.array([1,2,4,5,6,7])\n",
    "x=arr.copy()\n",
    "y=arr.view()\n",
    "print(\"The copied array owns the data : \",x.base)\n",
    "print(\"The viewed array doesn't owns the data : \",y.base)"
   ]
  },
  {
   "cell_type": "code",
   "execution_count": null,
   "id": "fe338590",
   "metadata": {},
   "outputs": [],
   "source": []
  }
 ],
 "metadata": {
  "kernelspec": {
   "display_name": "Python 3 (ipykernel)",
   "language": "python",
   "name": "python3"
  },
  "language_info": {
   "codemirror_mode": {
    "name": "ipython",
    "version": 3
   },
   "file_extension": ".py",
   "mimetype": "text/x-python",
   "name": "python",
   "nbconvert_exporter": "python",
   "pygments_lexer": "ipython3",
   "version": "3.9.7"
  }
 },
 "nbformat": 4,
 "nbformat_minor": 5
}
