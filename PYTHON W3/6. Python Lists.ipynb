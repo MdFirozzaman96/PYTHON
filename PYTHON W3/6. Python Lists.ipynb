{
 "cells": [
  {
   "cell_type": "markdown",
   "id": "c95a1eee",
   "metadata": {},
   "source": [
    "# PYTHON LISTS\n",
    "\n",
    "\n",
    "Lists are used to store multiple items in a single variable.\n",
    " A list can contain different data types:"
   ]
  },
  {
   "cell_type": "code",
   "execution_count": 8,
   "id": "80085e45",
   "metadata": {},
   "outputs": [
    {
     "name": "stdout",
     "output_type": "stream",
     "text": [
      "['Md.Firozzaman', 180201130, 'CSE']\n"
     ]
    }
   ],
   "source": [
    "MyLists=[\"Md.Firozzaman\",180201130,\"CSE\"]\n",
    "print(MyLists)"
   ]
  },
  {
   "cell_type": "markdown",
   "id": "40d59265",
   "metadata": {},
   "source": [
    "##   List Itmes : \n",
    "\n",
    "List items are ordered, changeable, and allow duplicate values.\n",
    "\n",
    "List items are indexed, the first item has index [0], the second item has index [1] etc."
   ]
  },
  {
   "cell_type": "markdown",
   "id": "55d7b185",
   "metadata": {},
   "source": [
    "### 1. Ordered : \n",
    "\n",
    "When we say that lists are ordered, it means that the items have a defined order, and that order will not change.\n",
    "\n",
    "If you add new items to a list, the new items will be placed at the end of the list."
   ]
  },
  {
   "cell_type": "markdown",
   "id": "75e80b31",
   "metadata": {},
   "source": [
    "### Note : \n",
    "There are some list methods that will change the order, but in general: the order of the items will not change."
   ]
  },
  {
   "cell_type": "markdown",
   "id": "43afa3ba",
   "metadata": {},
   "source": [
    "### 2. Changeable : \n",
    "\n",
    "The list is changeable, meaning that we can change, add, and remove items in a list after it has been created."
   ]
  },
  {
   "cell_type": "markdown",
   "id": "576cab50",
   "metadata": {},
   "source": [
    "### 3. Allow Duplicates : \n",
    "\n",
    "Since lists are indexed, lists can have items with the same value:"
   ]
  },
  {
   "cell_type": "code",
   "execution_count": 6,
   "id": "32f1fc53",
   "metadata": {},
   "outputs": [
    {
     "name": "stdout",
     "output_type": "stream",
     "text": [
      "['MD.Firozzaman', 180201130, 'CSE', 2.63, 'Mohammad Redwan', 'CSE', 2.98]\n"
     ]
    }
   ],
   "source": [
    "DuplicateItems=[\"MD.Firozzaman\",180201130,\"CSE\",2.63,\"Mohammad Redwan\",\"CSE\",2.98]\n",
    "print(DuplicateItems)"
   ]
  },
  {
   "cell_type": "markdown",
   "id": "afa450ea",
   "metadata": {},
   "source": [
    "## List Length  :  len()\n"
   ]
  },
  {
   "cell_type": "code",
   "execution_count": 7,
   "id": "1cbee176",
   "metadata": {},
   "outputs": [
    {
     "name": "stdout",
     "output_type": "stream",
     "text": [
      "7\n"
     ]
    }
   ],
   "source": [
    "DuplicateItems=[\"MD.Firozzaman\",180201130,\"CSE\",2.63,\"Mohammad Redwan\",\"CSE\",2.98]\n",
    "print(len(DuplicateItems))"
   ]
  },
  {
   "cell_type": "markdown",
   "id": "69f07634",
   "metadata": {},
   "source": [
    "## List Items - Data Types\n",
    "\n",
    "List items can be of any data type : "
   ]
  },
  {
   "cell_type": "code",
   "execution_count": 5,
   "id": "a3f3d2d9",
   "metadata": {},
   "outputs": [
    {
     "name": "stdout",
     "output_type": "stream",
     "text": [
      "['apple', 'banana', 'cherry'] \n",
      " [1, 5, 7, 9, 3] \n",
      " [True, False, True]\n"
     ]
    }
   ],
   "source": [
    "List1=[\"apple\",\"banana\",\"cherry\"]\n",
    "List2=[1,5,7,9,3]\n",
    "List3=[True,False,True]\n",
    "print(List1,\"\\n\",List2,\"\\n\",List3)"
   ]
  },
  {
   "cell_type": "markdown",
   "id": "2ddd2225",
   "metadata": {},
   "source": [
    "### A list can contain different data types:"
   ]
  },
  {
   "cell_type": "code",
   "execution_count": 9,
   "id": "ee07218c",
   "metadata": {},
   "outputs": [
    {
     "name": "stdout",
     "output_type": "stream",
     "text": [
      "['Md.Firozzaman', 130, True, 2.63, False, 'CSE']\n"
     ]
    }
   ],
   "source": [
    "Diff=[\"Md.Firozzaman\",130,True,2.63,False,\"CSE\"]\n",
    "print(Diff)"
   ]
  },
  {
   "cell_type": "markdown",
   "id": "7a70afd8",
   "metadata": {},
   "source": [
    "## type() : \n",
    "\n",
    "From Python's perspective, lists are defined as objects with the data type 'list':"
   ]
  },
  {
   "cell_type": "code",
   "execution_count": 11,
   "id": "6d59421d",
   "metadata": {},
   "outputs": [
    {
     "name": "stdout",
     "output_type": "stream",
     "text": [
      "<class 'list'>\n",
      "<class 'list'>\n"
     ]
    }
   ],
   "source": [
    "mylist1=[\"apple\",\"banana\",\"cherry\"]\n",
    "mylist2=[\"Md.Firozzaman\",130,True,2.63,False,\"CSE\"]\n",
    "print(type(mylist1))\n",
    "print(type(mylist2))\n"
   ]
  },
  {
   "cell_type": "markdown",
   "id": "bb025a7f",
   "metadata": {},
   "source": [
    "## The list() Constructor :\n",
    "\n",
    "It is also possible to use the list() constructor when creating a new list."
   ]
  },
  {
   "cell_type": "code",
   "execution_count": 13,
   "id": "e5bb713e",
   "metadata": {},
   "outputs": [
    {
     "name": "stdout",
     "output_type": "stream",
     "text": [
      "['Md.Firozzaman', 180201130, 'CSE', False]\n"
     ]
    }
   ],
   "source": [
    "List=list((\"Md.Firozzaman\",180201130,\"CSE\",False))\n",
    "print(List)"
   ]
  },
  {
   "cell_type": "markdown",
   "id": "0b298d76",
   "metadata": {},
   "source": [
    "# Python Collections (Arrays) : \n",
    "\n",
    "There are four collection data types in the Python programming language:"
   ]
  },
  {
   "cell_type": "markdown",
   "id": "d3e88431",
   "metadata": {},
   "source": [
    "## 1. LIST : \n",
    "\n",
    "List is a collection data types in the Python programming language which is -\n",
    "#### (i)  Ordered.\n",
    "#### (ii)  Changeable.\n",
    "#### (iii)  Allows duplicate members."
   ]
  },
  {
   "cell_type": "markdown",
   "id": "3b5918e3",
   "metadata": {},
   "source": [
    "## 2. TUPLE :\n",
    "Tuple is a collection data types in the Python programming language which is -\n",
    "\n",
    "#### (i)  Ordered.\n",
    "#### (ii)  Unchangeable.\n",
    "#### (iii)  Allows duplicate members."
   ]
  },
  {
   "cell_type": "markdown",
   "id": "270ee247",
   "metadata": {},
   "source": [
    "## 3. SET :\n",
    "Set is a collection data types in the Python programming language which is -\n",
    "\n",
    "#### (i) Unordered.\n",
    "#### (ii) Unchangeable.\n",
    "#### (iii) Unindexed\n",
    "#### (iv) No duplicate members.\n",
    "\n",
    "### *Set items are unchangeable, but we can remove and/or add items whenever we like."
   ]
  },
  {
   "cell_type": "markdown",
   "id": "ee6e6fe5",
   "metadata": {},
   "source": [
    "## 4. DICTIONARY :\n",
    "Dictionary is a collection data types in the Python programming language which is -\n",
    "\n",
    "#### (i)  Ordered.\n",
    "#### (ii)  Changeable.\n",
    "#### (iii)  No duplicate members."
   ]
  },
  {
   "cell_type": "markdown",
   "id": "2903fe2b",
   "metadata": {},
   "source": [
    "# Python - Access List Items"
   ]
  },
  {
   "cell_type": "markdown",
   "id": "09822305",
   "metadata": {},
   "source": [
    "## Access Items : \n",
    "\n",
    "List items are indexed and we can access them by referring to the index number:"
   ]
  },
  {
   "cell_type": "code",
   "execution_count": 18,
   "id": "efd63a6d",
   "metadata": {},
   "outputs": [
    {
     "name": "stdout",
     "output_type": "stream",
     "text": [
      "Last number of the list :  apple \n",
      " Second number of the list :  Md.Firozzaman\n"
     ]
    }
   ],
   "source": [
    "List=[\"apple\",\"banana\",\"cherry\",\"Md.Firozzaman\"]\n",
    "print(\"Last number of the list : \",List[0],\"\\n\",\"Second number of the list : \",List[3])"
   ]
  },
  {
   "cell_type": "markdown",
   "id": "46748445",
   "metadata": {},
   "source": [
    "### Negative Indexing : \n",
    "\n",
    "Negative indexing means start from the end.\n",
    "-1 refers to the last item, -2 refers to the second last item etc."
   ]
  },
  {
   "cell_type": "code",
   "execution_count": 20,
   "id": "dfe9e312",
   "metadata": {},
   "outputs": [
    {
     "name": "stdout",
     "output_type": "stream",
     "text": [
      "Last number of the list :  Md.Firozzaman \n",
      " Second last number of the list :  cherry\n",
      "First number of the list :  apple\n"
     ]
    }
   ],
   "source": [
    "List=[\"apple\",\"banana\",\"cherry\",\"Md.Firozzaman\"]\n",
    "\n",
    "print(\"Last number of the list : \",List[-1],\"\\n\",\"Second last number of the list : \",List[-2])\n",
    "print(\"First number of the list : \",List[-4])"
   ]
  },
  {
   "cell_type": "markdown",
   "id": "b051c335",
   "metadata": {},
   "source": [
    "### Range of Indexes : \n",
    "\n",
    "We can specify a range of indexes by specifying where to start and where to end the range.\n",
    "When specifying a range, the return value will be a new list with the specified items.\n",
    "The first item has index 0."
   ]
  },
  {
   "cell_type": "code",
   "execution_count": 30,
   "id": "9734e260",
   "metadata": {},
   "outputs": [
    {
     "name": "stdout",
     "output_type": "stream",
     "text": [
      "FULL LIST :  ['apple', 'banana', 'cherry', 'Md.Firozzaman', 180201130, 'CSE'] \n",
      "\n",
      "List[0:1] :  ['apple']\n",
      "List[1:3] :  ['banana', 'cherry']\n",
      "List[1:2] :  ['banana']\n",
      "List[2:5] :  ['cherry', 'Md.Firozzaman', 180201130]\n",
      "List[4:6] :  [180201130, 'CSE']\n",
      "List[3:6] :  ['Md.Firozzaman', 180201130, 'CSE']\n"
     ]
    }
   ],
   "source": [
    "List=[\"apple\",\"banana\",\"cherry\",\"Md.Firozzaman\",180201130,\"CSE\"]\n",
    "print(\"FULL LIST : \",List,\"\\n\")\n",
    "print(\"List[0:1] : \",List[0:1])\n",
    "print(\"List[1:3] : \",List[1:3])\n",
    "print(\"List[1:2] : \",List[1:2])\n",
    "print(\"List[2:5] : \",List[2:5])\n",
    "print(\"List[4:6] : \",List[4:6])\n",
    "print(\"List[3:6] : \",List[3:6])"
   ]
  },
  {
   "cell_type": "markdown",
   "id": "0494690e",
   "metadata": {},
   "source": [
    "#### By leaving out the start value, the range will start at the first item : "
   ]
  },
  {
   "cell_type": "code",
   "execution_count": 33,
   "id": "20c5fffd",
   "metadata": {},
   "outputs": [
    {
     "name": "stdout",
     "output_type": "stream",
     "text": [
      "List[:3] :  ['apple', 'banana', 'cherry']\n",
      "List[:4] :  ['apple', 'banana', 'cherry', 'Md.Firozzaman']\n"
     ]
    }
   ],
   "source": [
    "List=[\"apple\",\"banana\",\"cherry\",\"Md.Firozzaman\",180201130,\"CSE\"]\n",
    "print(\"List[:3] : \",List[:3])\n",
    "print(\"List[:4] : \",List[:4])"
   ]
  },
  {
   "cell_type": "markdown",
   "id": "141f643e",
   "metadata": {},
   "source": [
    "#### By leaving out the end value, the range will go on to the end of the list : "
   ]
  },
  {
   "cell_type": "code",
   "execution_count": 37,
   "id": "90c3c8ba",
   "metadata": {},
   "outputs": [
    {
     "name": "stdout",
     "output_type": "stream",
     "text": [
      "List[2:] :  ['cherry', 'Md.Firozzaman', 180201130, 'CSE']\n",
      "List[0:] :  ['apple', 'banana', 'cherry', 'Md.Firozzaman', 180201130, 'CSE']\n"
     ]
    }
   ],
   "source": [
    "List=[\"apple\",\"banana\",\"cherry\",\"Md.Firozzaman\",180201130,\"CSE\"]\n",
    "print(\"List[2:] : \",List[2:])\n",
    "print(\"List[0:] : \",List[0:])"
   ]
  },
  {
   "cell_type": "markdown",
   "id": "8dc6201d",
   "metadata": {},
   "source": [
    "### Range of Negative Indexes : \n",
    "\n",
    "Specify negative indexes if you want to start the search from the end of the list:\n"
   ]
  },
  {
   "cell_type": "code",
   "execution_count": 1,
   "id": "f74d8c80",
   "metadata": {},
   "outputs": [
    {
     "name": "stdout",
     "output_type": "stream",
     "text": [
      "['orange', 'kiwi', 'melon']\n"
     ]
    }
   ],
   "source": [
    "List = [\"apple\", \"banana\", \"cherry\", \"orange\", \"kiwi\", \"melon\", \"mango\"]\n",
    "print(List[-4:-1])"
   ]
  },
  {
   "cell_type": "markdown",
   "id": "0dd22c75",
   "metadata": {},
   "source": [
    "## Check if Item Exists : \n",
    "\n",
    "To determine if a specified item is present in a list use the 'in' keyword:"
   ]
  },
  {
   "cell_type": "code",
   "execution_count": 2,
   "id": "7d37e9a3",
   "metadata": {},
   "outputs": [
    {
     "name": "stdout",
     "output_type": "stream",
     "text": [
      "Yes\n"
     ]
    }
   ],
   "source": [
    "List1 = [\"apple\", \"banana\", \"cherry\",\"Md.Firozzaman\", \"orange\", \"kiwi\", \"melon\", \"mango\"]\n",
    "if \"Md.Firozzaman\" in List1:\n",
    "    print(\"Yes\")\n",
    "else:\n",
    "    print(\"No\")"
   ]
  },
  {
   "cell_type": "markdown",
   "id": "d92315a0",
   "metadata": {},
   "source": [
    "# Python - Change List Items "
   ]
  },
  {
   "cell_type": "markdown",
   "id": "89f53179",
   "metadata": {},
   "source": [
    "## 1. Change Item Value :"
   ]
  },
  {
   "cell_type": "code",
   "execution_count": 1,
   "id": "8ef0bf89",
   "metadata": {},
   "outputs": [
    {
     "name": "stdout",
     "output_type": "stream",
     "text": [
      "['apple', 'Md.Firozzaman', 'cherry']\n"
     ]
    }
   ],
   "source": [
    "List=[\"apple\", \"banana\", \"cherry\"]\n",
    "List[1]=\"Md.Firozzaman\"\n",
    "print(List)"
   ]
  },
  {
   "cell_type": "markdown",
   "id": "4ec86d5f",
   "metadata": {},
   "source": [
    "## 2. Change a Range of Item Values : "
   ]
  },
  {
   "cell_type": "code",
   "execution_count": 3,
   "id": "e6b2df9c",
   "metadata": {},
   "outputs": [
    {
     "name": "stdout",
     "output_type": "stream",
     "text": [
      "['apple', 'banana', 'Md.Firozzaman', 180201130, 'orange', 'kiwi', 'melon', 'mango']\n",
      "['apple', 'banana', 'Md.Firozzaman', 180201130, 'a', 'aa', 'aaa', 'aaaa']\n"
     ]
    }
   ],
   "source": [
    "List1 = [\"apple\", \"banana\", \"cherry\",\"Md.Firozzaman\", \"orange\", \"kiwi\", \"melon\", \"mango\"]\n",
    "List1[2:4] = [\"Md.Firozzaman\",180201130]\n",
    "print(List1)\n",
    "List1[4:]=[\"a\",\"aa\",\"aaa\",\"aaaa\"]\n",
    "print(List1)\n"
   ]
  },
  {
   "cell_type": "markdown",
   "id": "341da7d9",
   "metadata": {},
   "source": [
    "## 3. Replece one or more element's at a particular index : "
   ]
  },
  {
   "cell_type": "code",
   "execution_count": 5,
   "id": "7b4cdd63",
   "metadata": {},
   "outputs": [
    {
     "name": "stdout",
     "output_type": "stream",
     "text": [
      "['apple', 'banana', 'chery']\n",
      "['apple', 'banana', 'Md.Firozzaman', 180201130]\n"
     ]
    }
   ],
   "source": [
    "List=[\"apple\",\"banana\",\"chery\"]\n",
    "print(List)\n",
    "List[2:3]=[\"Md.Firozzaman\",180201130]\n",
    "print(List)"
   ]
  },
  {
   "cell_type": "markdown",
   "id": "808db53d",
   "metadata": {},
   "source": [
    "### 4. Replece less items : "
   ]
  },
  {
   "cell_type": "code",
   "execution_count": 13,
   "id": "331f0742",
   "metadata": {},
   "outputs": [
    {
     "name": "stdout",
     "output_type": "stream",
     "text": [
      "['apple', 'banana', 'Sarkar']\n",
      "['apple', 'Md.Firozzaman']\n"
     ]
    }
   ],
   "source": [
    "List=[\"apple\",\"banana\",\"chery\",\"Pappu\"]\n",
    "List[2:4]=[\"Sarkar\"]\n",
    "print(List)\n",
    "List[1:3]=[\"Md.Firozzaman\"]\n",
    "print(List)"
   ]
  },
  {
   "cell_type": "markdown",
   "id": "1f3c507d",
   "metadata": {},
   "source": [
    "## Insert Items :"
   ]
  },
  {
   "cell_type": "code",
   "execution_count": 15,
   "id": "1e34b5f0",
   "metadata": {},
   "outputs": [
    {
     "name": "stdout",
     "output_type": "stream",
     "text": [
      "['Md.Firozzaaman', 'apple', 'cherry', 130]\n"
     ]
    }
   ],
   "source": [
    "List=[\"apple\",\"cherry\",130]\n",
    "List.insert(0,\"Md.Firozzaaman\")\n",
    "print(List)"
   ]
  },
  {
   "cell_type": "markdown",
   "id": "21e073d1",
   "metadata": {},
   "source": [
    "## Extend List : \n",
    "\n",
    "To append elements from another list to the current list, use the extend() method."
   ]
  },
  {
   "cell_type": "code",
   "execution_count": 19,
   "id": "2a6425d0",
   "metadata": {},
   "outputs": [
    {
     "name": "stdout",
     "output_type": "stream",
     "text": [
      "[401, '-->', 'Atik', 'Promito', 'Nafiz', 'Firoz', '-->', 401]\n"
     ]
    }
   ],
   "source": [
    "List=[401,\"-->\",\"Atik\",\"Promito\",\"Nafiz\"]\n",
    "List1=[\"Firoz\",\"-->\",401]\n",
    "List.extend(List1)\n",
    "print(List)"
   ]
  },
  {
   "cell_type": "markdown",
   "id": "229cad09",
   "metadata": {},
   "source": [
    "## Add Any Iterable : \n",
    "\n",
    "The extend() method does not have to append lists, We can add any iterable object (tuples, sets, dictionaries etc.)."
   ]
  },
  {
   "cell_type": "code",
   "execution_count": 20,
   "id": "fdcc8f1a",
   "metadata": {},
   "outputs": [
    {
     "name": "stdout",
     "output_type": "stream",
     "text": [
      "['apple', 'cherry', 130, 'Md.Firozzaman', 2.64]\n"
     ]
    }
   ],
   "source": [
    "List=[\"apple\",\"cherry\",130]\n",
    "Tuple=(\"Md.Firozzaman\",2.64)\n",
    "List.extend(Tuple)\n",
    "print(List)"
   ]
  },
  {
   "cell_type": "code",
   "execution_count": null,
   "id": "10acd170",
   "metadata": {},
   "outputs": [],
   "source": []
  }
 ],
 "metadata": {
  "kernelspec": {
   "display_name": "Python 3 (ipykernel)",
   "language": "python",
   "name": "python3"
  },
  "language_info": {
   "codemirror_mode": {
    "name": "ipython",
    "version": 3
   },
   "file_extension": ".py",
   "mimetype": "text/x-python",
   "name": "python",
   "nbconvert_exporter": "python",
   "pygments_lexer": "ipython3",
   "version": "3.9.7"
  }
 },
 "nbformat": 4,
 "nbformat_minor": 5
}
