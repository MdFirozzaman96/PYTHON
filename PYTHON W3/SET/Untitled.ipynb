{
 "cells": [
  {
   "cell_type": "markdown",
   "id": "7412f0af",
   "metadata": {},
   "source": [
    "# Python - Remove Set Items"
   ]
  },
  {
   "cell_type": "markdown",
   "id": "52cb5f30",
   "metadata": {},
   "source": [
    "## (i)    remove() : \n",
    "### If the item to remove does not exist, remove() will raise an error.\n",
    "## (ii)   discard() :\n",
    "### If the item to remove does not exist, discard() will NOT raise an error."
   ]
  },
  {
   "cell_type": "code",
   "execution_count": 8,
   "id": "5a13288c",
   "metadata": {},
   "outputs": [
    {
     "name": "stdout",
     "output_type": "stream",
     "text": [
      "Before removing an element :  {'apple', 'cherry', 'banana'}\n",
      "After removing an element :  {'cherry', 'banana'}\n"
     ]
    }
   ],
   "source": [
    "myset={\"apple\",\"banana\",\"cherry\"}\n",
    "print(\"Before removing an element : \",myset)\n",
    "myset.remove(\"apple\")\n",
    "print(\"After removing an element : \",myset)"
   ]
  },
  {
   "cell_type": "code",
   "execution_count": 10,
   "id": "5ee7c63a",
   "metadata": {},
   "outputs": [
    {
     "name": "stdout",
     "output_type": "stream",
     "text": [
      "{'Firozzaman', 130, 2.63, 'Md.'}\n"
     ]
    },
    {
     "ename": "KeyError",
     "evalue": "'Redwan'",
     "output_type": "error",
     "traceback": [
      "\u001b[1;31m---------------------------------------------------------------------------\u001b[0m",
      "\u001b[1;31mKeyError\u001b[0m                                  Traceback (most recent call last)",
      "\u001b[1;32m~\\AppData\\Local\\Temp/ipykernel_2064/2825394785.py\u001b[0m in \u001b[0;36m<module>\u001b[1;34m\u001b[0m\n\u001b[0;32m      1\u001b[0m \u001b[0mmyset\u001b[0m\u001b[1;33m=\u001b[0m\u001b[1;33m{\u001b[0m\u001b[1;34m\"Md.\"\u001b[0m\u001b[1;33m,\u001b[0m\u001b[1;34m\"Firozzaman\"\u001b[0m\u001b[1;33m,\u001b[0m\u001b[1;36m130\u001b[0m\u001b[1;33m,\u001b[0m\u001b[1;36m2.63\u001b[0m\u001b[1;33m}\u001b[0m\u001b[1;33m\u001b[0m\u001b[1;33m\u001b[0m\u001b[0m\n\u001b[0;32m      2\u001b[0m \u001b[0mprint\u001b[0m\u001b[1;33m(\u001b[0m\u001b[0mmyset\u001b[0m\u001b[1;33m)\u001b[0m\u001b[1;33m\u001b[0m\u001b[1;33m\u001b[0m\u001b[0m\n\u001b[1;32m----> 3\u001b[1;33m \u001b[0mmyset\u001b[0m\u001b[1;33m.\u001b[0m\u001b[0mremove\u001b[0m\u001b[1;33m(\u001b[0m\u001b[1;34m\"Redwan\"\u001b[0m\u001b[1;33m)\u001b[0m\u001b[1;33m\u001b[0m\u001b[1;33m\u001b[0m\u001b[0m\n\u001b[0m\u001b[0;32m      4\u001b[0m \u001b[0mprint\u001b[0m\u001b[1;33m(\u001b[0m\u001b[0mmyset\u001b[0m\u001b[1;33m)\u001b[0m\u001b[1;33m\u001b[0m\u001b[1;33m\u001b[0m\u001b[0m\n",
      "\u001b[1;31mKeyError\u001b[0m: 'Redwan'"
     ]
    }
   ],
   "source": [
    "myset={\"Md.\",\"Firozzaman\",130,2.63}\n",
    "print(myset)\n",
    "myset.remove(\"Redwan\")\n",
    "print(myset)"
   ]
  },
  {
   "cell_type": "code",
   "execution_count": 11,
   "id": "36e483a8",
   "metadata": {},
   "outputs": [
    {
     "name": "stdout",
     "output_type": "stream",
     "text": [
      "Before removing an element :  {'apple', 'cherry', 'banana'}\n",
      "After removing an element :  {'apple', 'cherry'}\n"
     ]
    }
   ],
   "source": [
    "myset={\"apple\",\"banana\",\"cherry\"}\n",
    "print(\"Before removing an element : \",myset)\n",
    "myset.discard(\"banana\")\n",
    "print(\"After removing an element : \",myset)"
   ]
  },
  {
   "cell_type": "code",
   "execution_count": 13,
   "id": "9dd0559d",
   "metadata": {},
   "outputs": [
    {
     "name": "stdout",
     "output_type": "stream",
     "text": [
      "{'Firozzaman', 130, 2.63, 'Md.'}\n",
      "{'Firozzaman', 130, 2.63, 'Md.'}\n"
     ]
    }
   ],
   "source": [
    "myset={\"Md.\",\"Firozzaman\",130,2.63}\n",
    "print(myset)\n",
    "myset.discard(\"Redwan\")\n",
    "print(myset)"
   ]
  },
  {
   "cell_type": "markdown",
   "id": "30c44ef7",
   "metadata": {},
   "source": [
    "## (iii)  pop() : \n",
    "### Removed any item from the set. Because set is unordered.\n",
    "### The return value of pop() is removed item."
   ]
  },
  {
   "cell_type": "code",
   "execution_count": 21,
   "id": "b80b85e8",
   "metadata": {},
   "outputs": [
    {
     "name": "stdout",
     "output_type": "stream",
     "text": [
      "myset :  {2.63, 'banana', 'apple', 180201130, 'cherry'}\n",
      "After pop an element from the set :  {'banana', 'apple', 180201130, 'cherry'}\n"
     ]
    }
   ],
   "source": [
    "myset={\"apple\",\"banana\",2.63,\"cherry\",180201130}\n",
    "print(\"myset : \",myset)\n",
    "myset.pop()\n",
    "print(\"After pop an element from the set : \",myset)"
   ]
  },
  {
   "cell_type": "markdown",
   "id": "191028fb",
   "metadata": {},
   "source": [
    "## (iv)  clear() : \n",
    "### The clear() method empties the set:"
   ]
  },
  {
   "cell_type": "code",
   "execution_count": 25,
   "id": "04171f4c",
   "metadata": {},
   "outputs": [
    {
     "name": "stdout",
     "output_type": "stream",
     "text": [
      "Before clear the set :  {'apple', 'orange', 'banana'}\n",
      "Empty set, After clearing the set :  set()\n"
     ]
    }
   ],
   "source": [
    "myset={\"apple\",\"banana\",\"orange\"}\n",
    "print(\"Before clear the set : \",myset)\n",
    "myset.clear()\n",
    "print(\"Empty set, After clearing the set : \",myset)"
   ]
  },
  {
   "cell_type": "markdown",
   "id": "d3cd9a3d",
   "metadata": {},
   "source": [
    "## (v)  del : \n",
    "### The del keyword will delete the set completely:"
   ]
  },
  {
   "cell_type": "code",
   "execution_count": 28,
   "id": "66389134",
   "metadata": {},
   "outputs": [
    {
     "name": "stdout",
     "output_type": "stream",
     "text": [
      "Before deleting the set :  {'apple', 'orange', 'banana'}\n"
     ]
    },
    {
     "ename": "NameError",
     "evalue": "name 'myset' is not defined",
     "output_type": "error",
     "traceback": [
      "\u001b[1;31m---------------------------------------------------------------------------\u001b[0m",
      "\u001b[1;31mNameError\u001b[0m                                 Traceback (most recent call last)",
      "\u001b[1;32m~\\AppData\\Local\\Temp/ipykernel_2064/2134967254.py\u001b[0m in \u001b[0;36m<module>\u001b[1;34m\u001b[0m\n\u001b[0;32m      2\u001b[0m \u001b[0mprint\u001b[0m\u001b[1;33m(\u001b[0m\u001b[1;34m\"Before deleting the set : \"\u001b[0m\u001b[1;33m,\u001b[0m\u001b[0mmyset\u001b[0m\u001b[1;33m)\u001b[0m\u001b[1;33m\u001b[0m\u001b[1;33m\u001b[0m\u001b[0m\n\u001b[0;32m      3\u001b[0m \u001b[1;32mdel\u001b[0m \u001b[0mmyset\u001b[0m\u001b[1;33m\u001b[0m\u001b[1;33m\u001b[0m\u001b[0m\n\u001b[1;32m----> 4\u001b[1;33m \u001b[0mprint\u001b[0m\u001b[1;33m(\u001b[0m\u001b[1;34m\"After deleting the set : \"\u001b[0m\u001b[1;33m,\u001b[0m\u001b[0mmyset\u001b[0m\u001b[1;33m)\u001b[0m \u001b[1;31m## this will raise an error because the set no longer exists.\u001b[0m\u001b[1;33m\u001b[0m\u001b[1;33m\u001b[0m\u001b[0m\n\u001b[0m",
      "\u001b[1;31mNameError\u001b[0m: name 'myset' is not defined"
     ]
    }
   ],
   "source": [
    "myset={\"apple\",\"banana\",\"orange\"}\n",
    "print(\"Before deleting the set : \",myset)\n",
    "del myset\n",
    "print(\"After deleting the set : \",myset) ## this will raise an error because the set no longer exists."
   ]
  },
  {
   "cell_type": "code",
   "execution_count": null,
   "id": "5e04b142",
   "metadata": {},
   "outputs": [],
   "source": []
  }
 ],
 "metadata": {
  "kernelspec": {
   "display_name": "Python 3 (ipykernel)",
   "language": "python",
   "name": "python3"
  },
  "language_info": {
   "codemirror_mode": {
    "name": "ipython",
    "version": 3
   },
   "file_extension": ".py",
   "mimetype": "text/x-python",
   "name": "python",
   "nbconvert_exporter": "python",
   "pygments_lexer": "ipython3",
   "version": "3.9.7"
  }
 },
 "nbformat": 4,
 "nbformat_minor": 5
}
