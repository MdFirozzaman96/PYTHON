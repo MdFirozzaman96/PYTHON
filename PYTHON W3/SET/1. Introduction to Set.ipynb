{
 "cells": [
  {
   "cell_type": "markdown",
   "id": "282fa2e9",
   "metadata": {},
   "source": [
    "#      INTRODUCTION TO SET"
   ]
  },
  {
   "cell_type": "markdown",
   "id": "4ac5c066",
   "metadata": {},
   "source": [
    "### A set is a collection which is unordered, unchangeable*, and unindexed."
   ]
  },
  {
   "cell_type": "code",
   "execution_count": 4,
   "id": "717611bf",
   "metadata": {},
   "outputs": [
    {
     "name": "stdout",
     "output_type": "stream",
     "text": [
      "{'Md', 'Sarker', 'Firozzaman'}\n"
     ]
    }
   ],
   "source": [
    "myset={\"Md\",\"Firozzaman\",\"Sarker\"}\n",
    "print(myset)"
   ]
  },
  {
   "cell_type": "code",
   "execution_count": 5,
   "id": "198a17d1",
   "metadata": {},
   "outputs": [
    {
     "name": "stdout",
     "output_type": "stream",
     "text": [
      "Length of set :  3\n"
     ]
    }
   ],
   "source": [
    "print(\"Length of set : \",len(myset))"
   ]
  },
  {
   "cell_type": "markdown",
   "id": "cac5060e",
   "metadata": {},
   "source": [
    "## Set items can be of any data type:"
   ]
  },
  {
   "cell_type": "code",
   "execution_count": 9,
   "id": "81b2cd6e",
   "metadata": {},
   "outputs": [
    {
     "name": "stdout",
     "output_type": "stream",
     "text": [
      "{'Md.Firozzaman', 'Apple', 130, 2.63}\n"
     ]
    }
   ],
   "source": [
    "myset={\"Apple\",130,2.63,\"Md.Firozzaman\"}\n",
    "print(myset)"
   ]
  },
  {
   "cell_type": "code",
   "execution_count": 12,
   "id": "b39f4bea",
   "metadata": {},
   "outputs": [
    {
     "name": "stdout",
     "output_type": "stream",
     "text": [
      "{'banana', 'cherry', 'apple'} \n",
      " {1, 2, 3, 4, 5, 6} \n",
      " {False, True}\n"
     ]
    }
   ],
   "source": [
    "set1={\"apple\",\"banana\",\"cherry\"}\n",
    "set2={1,2,3,4,5,6}\n",
    "set3={False,False,True}\n",
    "print(set1,\"\\n\",set2,\"\\n\",set3)"
   ]
  },
  {
   "cell_type": "markdown",
   "id": "32c98d5b",
   "metadata": {},
   "source": [
    "## Duplicates Not Allowed : "
   ]
  },
  {
   "cell_type": "code",
   "execution_count": 14,
   "id": "dda34c8e",
   "metadata": {},
   "outputs": [
    {
     "name": "stdout",
     "output_type": "stream",
     "text": [
      "{130, 'FIROZ', 'cherry', 'apple'}\n"
     ]
    }
   ],
   "source": [
    "myset={\"FIROZ\",\"cherry\",\"apple\",130,\"FIROZ\",130,\"FIROZ\"}\n",
    "print(myset)"
   ]
  },
  {
   "cell_type": "markdown",
   "id": "ee590adf",
   "metadata": {},
   "source": [
    "## type() \n",
    "From Python's perspective, sets are defined as objects with the data type 'set':"
   ]
  },
  {
   "cell_type": "code",
   "execution_count": 18,
   "id": "1252a8e7",
   "metadata": {},
   "outputs": [
    {
     "name": "stdout",
     "output_type": "stream",
     "text": [
      "<class 'set'>\n",
      "3\n",
      "<class 'set'>\n",
      "6\n"
     ]
    }
   ],
   "source": [
    "myset={\"Md.\",\"Firozzaman\",\"Sarker\"}\n",
    "print(type(myset))\n",
    "print(len(myset))\n",
    "myset={\"Md.\",\"Firozzaman\",\"Sarker\",180201130,\"8th\",2.63}\n",
    "print(type(myset))\n",
    "print(len(myset))"
   ]
  },
  {
   "cell_type": "markdown",
   "id": "94211d78",
   "metadata": {},
   "source": [
    "## The set() Constructor : "
   ]
  },
  {
   "cell_type": "code",
   "execution_count": 24,
   "id": "c36064e4",
   "metadata": {},
   "outputs": [
    {
     "name": "stdout",
     "output_type": "stream",
     "text": [
      "thisset :  {130, 2.63, 'cherry', 'Md.Firozzaman', 'apple'} \n",
      "Length of this set :  5 \n",
      "Data type of this set :  <class 'set'>\n"
     ]
    }
   ],
   "source": [
    "thisset=set((\"apple\",\"cherry\",130,2.63,\"Md.Firozzaman\"))\n",
    "print(\"thisset : \",thisset,\"\\nLength of this set : \",len(thisset),\"\\nData type of this set : \",type(thisset))"
   ]
  },
  {
   "cell_type": "markdown",
   "id": "c410dc29",
   "metadata": {},
   "source": [
    "## Python Collections (Arrays) \n",
    "### There are four collection data types in the Python programming language:"
   ]
  },
  {
   "cell_type": "markdown",
   "id": "4b774abb",
   "metadata": {},
   "source": [
    "### 1. List is a collection which is ordered and changeable. Allows duplicate members.\n",
    "### 2. Tuple is a collection which is ordered and unchangeable. Allows duplicate members.\n",
    "### 3. Set is a collection which is unordered, unchangeable*, and unindexed. No duplicate members.\n",
    "### 4. Dictionary is a collection which is ordered** and changeable. No duplicate members.\n"
   ]
  },
  {
   "cell_type": "code",
   "execution_count": null,
   "id": "20b2949b",
   "metadata": {},
   "outputs": [],
   "source": []
  }
 ],
 "metadata": {
  "kernelspec": {
   "display_name": "Python 3 (ipykernel)",
   "language": "python",
   "name": "python3"
  },
  "language_info": {
   "codemirror_mode": {
    "name": "ipython",
    "version": 3
   },
   "file_extension": ".py",
   "mimetype": "text/x-python",
   "name": "python",
   "nbconvert_exporter": "python",
   "pygments_lexer": "ipython3",
   "version": "3.9.7"
  }
 },
 "nbformat": 4,
 "nbformat_minor": 5
}
