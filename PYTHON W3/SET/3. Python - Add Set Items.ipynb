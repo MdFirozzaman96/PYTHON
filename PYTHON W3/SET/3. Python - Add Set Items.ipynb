{
 "cells": [
  {
   "cell_type": "markdown",
   "id": "33795b06",
   "metadata": {},
   "source": [
    "#  Python - Add Set Items"
   ]
  },
  {
   "cell_type": "markdown",
   "id": "e9f17886",
   "metadata": {},
   "source": [
    "## (i) Add Items : "
   ]
  },
  {
   "cell_type": "code",
   "execution_count": 3,
   "id": "ddcf08c4",
   "metadata": {},
   "outputs": [
    {
     "name": "stdout",
     "output_type": "stream",
     "text": [
      "myset :  {'apple', 'cherry', 'banana'}\n",
      "After add an item :  {'apple', 'orange', 'cherry', 'banana'}\n"
     ]
    }
   ],
   "source": [
    "myset={\"apple\",\"cherry\",\"banana\"}\n",
    "print(\"myset : \",myset)\n",
    "myset.add(\"orange\")\n",
    "print(\"After add an item : \",myset)"
   ]
  },
  {
   "cell_type": "markdown",
   "id": "ec1e6122",
   "metadata": {},
   "source": [
    "## (ii) Add Sets : \n",
    "### To add items from another set into the current set, use the update() method."
   ]
  },
  {
   "cell_type": "code",
   "execution_count": 9,
   "id": "3b6af83f",
   "metadata": {},
   "outputs": [
    {
     "name": "stdout",
     "output_type": "stream",
     "text": [
      "Before update the flower set : \n",
      "flower :  {'Lily', 'Rose', 'Orchids', 'Aster', 'Calendula', 'Tulips'}\n",
      "\n",
      "After update the flower set : \n",
      "flower :  {'Lily', 'Stawberry', 'Pineapple', 'Aster', 'apple', 'Guava', 'Orrange', 'Tulips', 'Rose', 'Orchids', 'cherry', 'banana', 'Calendula'}\n"
     ]
    }
   ],
   "source": [
    "flower={\"Rose\",\"Lily\",\"Orchids\",\"Calendula\",\"Aster\",\"Tulips\"}\n",
    "fruit={\"apple\",\"banana\",\"cherry\",\"Orrange\",\"Stawberry\",\"Pineapple\",\"Guava\"}\n",
    "print(\"Before update the flower set : \")\n",
    "print(\"flower : \",flower)\n",
    "flower.update(fruit)\n",
    "print(\"\\nAfter update the flower set : \")\n",
    "print(\"flower : \",flower)"
   ]
  },
  {
   "cell_type": "markdown",
   "id": "04a9d185",
   "metadata": {},
   "source": [
    "## (iii) Add Any Iterable : \n",
    "### The object in the update() method does not have to be a set, it can be any iterable object (tuples, lists, dictionaries etc.)."
   ]
  },
  {
   "cell_type": "markdown",
   "id": "f3e3f85f",
   "metadata": {},
   "source": [
    "### Add elements of a List to at Set : "
   ]
  },
  {
   "cell_type": "code",
   "execution_count": 14,
   "id": "fbbc1352",
   "metadata": {},
   "outputs": [
    {
     "name": "stdout",
     "output_type": "stream",
     "text": [
      "Before update the set : \n",
      " Set :  {'apple', 'cherry', 'banana'}\n",
      "After update the set using by list's elements : \n",
      " Set :  {'Lily', 'apple', 'Tulip', 'Rose', 'cherry', 'banana'}\n"
     ]
    }
   ],
   "source": [
    "myset={\"apple\",\"banana\",\"cherry\"}\n",
    "mylist=[\"Rose\",\"Tulip\",\"Lily\"]\n",
    "print(\"Before update the set : \\n\",\"Set : \",myset)\n",
    "myset.update(mylist)\n",
    "print(\"After update the set using by list's elements : \\n\",\"Set : \",myset)"
   ]
  },
  {
   "cell_type": "code",
   "execution_count": null,
   "id": "47710158",
   "metadata": {},
   "outputs": [],
   "source": []
  }
 ],
 "metadata": {
  "kernelspec": {
   "display_name": "Python 3 (ipykernel)",
   "language": "python",
   "name": "python3"
  },
  "language_info": {
   "codemirror_mode": {
    "name": "ipython",
    "version": 3
   },
   "file_extension": ".py",
   "mimetype": "text/x-python",
   "name": "python",
   "nbconvert_exporter": "python",
   "pygments_lexer": "ipython3",
   "version": "3.9.7"
  }
 },
 "nbformat": 4,
 "nbformat_minor": 5
}
