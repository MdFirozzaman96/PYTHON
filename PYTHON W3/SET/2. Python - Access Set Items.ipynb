{
 "cells": [
  {
   "cell_type": "markdown",
   "id": "79d95e81",
   "metadata": {},
   "source": [
    "# Python - Access Set Items"
   ]
  },
  {
   "cell_type": "markdown",
   "id": "66a52582",
   "metadata": {},
   "source": [
    "## Access Items : \n",
    "\n",
    "We cannot access items in a set by referring to an index or a key.\n",
    "\n",
    "But we can loop through the set items using a for loop, or ask if a specified value is present in a set, by using the in keyword."
   ]
  },
  {
   "cell_type": "code",
   "execution_count": 16,
   "id": "72ac66b2",
   "metadata": {},
   "outputs": [
    {
     "name": "stdout",
     "output_type": "stream",
     "text": [
      "2.63\n",
      "Sarker\n",
      "Md.\n",
      "180201130\n",
      "Firozzaman\n",
      "To check a specific value present or not in the set, We use 'in' keyword with respect to that value :  True\n",
      "True \n",
      " True \n",
      " True\n"
     ]
    }
   ],
   "source": [
    "myset={\"Md.\",\"Firozzaman\",\"Sarker\",180201130,2.63}\n",
    "for x in myset:\n",
    "    print(x)\n",
    "print(\"To check a specific value present or not in the set, We use 'in' keyword with respect to that value : \",\"Firozzaman\" in myset)\n",
    "print(2.63 in myset,\"\\n\",180201130 in myset,\"\\n\",\"Sarker\" in myset)"
   ]
  },
  {
   "cell_type": "markdown",
   "id": "c7851e55",
   "metadata": {},
   "source": [
    "## Change Items : \n",
    "### Once a set is created, We cannot change its items, but we can add new items."
   ]
  },
  {
   "cell_type": "code",
   "execution_count": null,
   "id": "ea19dc69",
   "metadata": {},
   "outputs": [],
   "source": []
  }
 ],
 "metadata": {
  "kernelspec": {
   "display_name": "Python 3 (ipykernel)",
   "language": "python",
   "name": "python3"
  },
  "language_info": {
   "codemirror_mode": {
    "name": "ipython",
    "version": 3
   },
   "file_extension": ".py",
   "mimetype": "text/x-python",
   "name": "python",
   "nbconvert_exporter": "python",
   "pygments_lexer": "ipython3",
   "version": "3.9.7"
  }
 },
 "nbformat": 4,
 "nbformat_minor": 5
}
