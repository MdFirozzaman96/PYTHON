{
 "cells": [
  {
   "cell_type": "markdown",
   "id": "c29f6492",
   "metadata": {},
   "source": [
    "# Python - Join Sets"
   ]
  },
  {
   "cell_type": "markdown",
   "id": "db1194ec",
   "metadata": {},
   "source": [
    "##  Join Two Sets : "
   ]
  },
  {
   "cell_type": "markdown",
   "id": "2b418f9e",
   "metadata": {},
   "source": [
    "## (i)  union() \n",
    "### The union() method returns a new set with all items from both sets:"
   ]
  },
  {
   "cell_type": "code",
   "execution_count": 8,
   "id": "09d173ed",
   "metadata": {
    "scrolled": true
   },
   "outputs": [
    {
     "name": "stdout",
     "output_type": "stream",
     "text": [
      "set1,Before union with set2 :  {'Id', 'Dept', 'Name'}\n",
      "set3, A new set :  {'Id', 'Name', 'CSE', 180201130, 'Dept', 'Md.Firozzaman'}\n"
     ]
    }
   ],
   "source": [
    "set1={\"Dept\",\"Name\",\"Id\"}\n",
    "set2={\"CSE\",\"Md.Firozzaman\",180201130}\n",
    "print(\"set1,Before union with set2 : \",set1)\n",
    "set3=set1.union(set2)# union function returns a new set.\n",
    "print(\"set3, A new set : \",set3)"
   ]
  },
  {
   "cell_type": "markdown",
   "id": "56e9db63",
   "metadata": {},
   "source": [
    "## (ii) update()\n",
    "### The update() method inserts items from one set to another.\n",
    "### Both union() and update() will exclude any duplicate items."
   ]
  },
  {
   "cell_type": "code",
   "execution_count": 11,
   "id": "4b1a07f4",
   "metadata": {},
   "outputs": [
    {
     "name": "stdout",
     "output_type": "stream",
     "text": [
      "Before update set1 :  {'Id', 'Dept', 'Name'}\n",
      "After update set1 by set2 :  {'Id', 'Name', 'CSE', 180201130, 'Dept', 'Md.Firozzaman'}\n"
     ]
    }
   ],
   "source": [
    "set1={\"Dept\",\"Name\",\"Id\"}\n",
    "set2={\"CSE\",\"Md.Firozzaman\",180201130}\n",
    "print(\"Before update set1 : \",set1)\n",
    "set1.update(set2)## Its return the updating set, Not a new set.\n",
    "print(\"After update set1 by set2 : \",set1)"
   ]
  },
  {
   "cell_type": "markdown",
   "id": "761047b1",
   "metadata": {},
   "source": [
    "## Keep ONLY the Duplicates :\n",
    "## (iii) intersection_update() \n",
    "### The intersection_update() method will keep only the items that are present in both sets."
   ]
  },
  {
   "cell_type": "code",
   "execution_count": 3,
   "id": "21544380",
   "metadata": {},
   "outputs": [
    {
     "name": "stdout",
     "output_type": "stream",
     "text": [
      "{'apple'}\n"
     ]
    }
   ],
   "source": [
    "x = {\"apple\", \"banana\", \"cherry\"}\n",
    "y = {\"google\", \"microsoft\", \"apple\"}\n",
    "x.intersection_update(y)\n",
    "print(x)"
   ]
  },
  {
   "cell_type": "markdown",
   "id": "c02b20be",
   "metadata": {},
   "source": [
    "## (iv) intersection()\n",
    "### The intersection() method will return a new set, that only contains the items that are present in both sets."
   ]
  },
  {
   "cell_type": "code",
   "execution_count": 9,
   "id": "b48bcb5b",
   "metadata": {},
   "outputs": [
    {
     "name": "stdout",
     "output_type": "stream",
     "text": [
      "A new set contains the items present in the both set :  {'apple'}\n"
     ]
    }
   ],
   "source": [
    "x = {\"apple\", \"banana\", \"cherry\"}\n",
    "y = {\"google\", \"microsoft\", \"apple\"}\n",
    "z=x.intersection(y) ## It returns a new set.\n",
    "print(\"A new set contains the items present in the both set : \",z)"
   ]
  },
  {
   "cell_type": "markdown",
   "id": "37bd4f36",
   "metadata": {},
   "source": [
    "## Keep All, But NOT the Duplicates :"
   ]
  },
  {
   "cell_type": "markdown",
   "id": "5b7b2a10",
   "metadata": {},
   "source": [
    "## (v) symmetric_difference_update()\n",
    "### The symmetric_difference_update() method will keep only the elements that are NOT present in both sets."
   ]
  },
  {
   "cell_type": "code",
   "execution_count": 10,
   "id": "700c5732",
   "metadata": {},
   "outputs": [
    {
     "name": "stdout",
     "output_type": "stream",
     "text": [
      "Contains the items that are not common :  {'google', 'banana', 'cherry', 'microsoft'}\n"
     ]
    }
   ],
   "source": [
    "x={\"apple\",\"banana\",\"cherry\"}\n",
    "y={\"google\",\"microsoft\",\"apple\"}\n",
    "x.symmetric_difference_update(y)## Will not return a new set.\n",
    "print(\"Contains the items that are not common : \",x)"
   ]
  },
  {
   "cell_type": "markdown",
   "id": "8693d802",
   "metadata": {},
   "source": [
    "## (vi) symmetric_difference() \n",
    "### The symmetric_difference() method will return a new set, that contains only the elements that are NOT present in both sets."
   ]
  },
  {
   "cell_type": "code",
   "execution_count": 16,
   "id": "6d090a13",
   "metadata": {},
   "outputs": [
    {
     "name": "stdout",
     "output_type": "stream",
     "text": [
      "A new set contains both set's items without common :  {'google', 'banana', 'cherry', 'microsoft'}\n"
     ]
    }
   ],
   "source": [
    "x={\"apple\",\"banana\",\"cherry\"}\n",
    "y={\"google\",\"microsoft\",\"apple\"}\n",
    "z=x.symmetric_difference(y)## This method returns a new set.\n",
    "print(\"A new set contains both set's items without common : \",z)"
   ]
  },
  {
   "cell_type": "code",
   "execution_count": null,
   "id": "2673d912",
   "metadata": {},
   "outputs": [],
   "source": []
  }
 ],
 "metadata": {
  "kernelspec": {
   "display_name": "Python 3 (ipykernel)",
   "language": "python",
   "name": "python3"
  },
  "language_info": {
   "codemirror_mode": {
    "name": "ipython",
    "version": 3
   },
   "file_extension": ".py",
   "mimetype": "text/x-python",
   "name": "python",
   "nbconvert_exporter": "python",
   "pygments_lexer": "ipython3",
   "version": "3.9.7"
  }
 },
 "nbformat": 4,
 "nbformat_minor": 5
}
