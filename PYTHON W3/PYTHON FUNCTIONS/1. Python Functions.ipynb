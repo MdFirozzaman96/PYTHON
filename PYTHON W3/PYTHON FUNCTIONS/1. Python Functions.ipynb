{
 "cells": [
  {
   "cell_type": "markdown",
   "id": "bec8083c",
   "metadata": {},
   "source": [
    "# Python Functions"
   ]
  },
  {
   "cell_type": "markdown",
   "id": "5f806601",
   "metadata": {},
   "source": [
    "## Creating a Function : \n",
    "### In Python a function is defined using the def keyword."
   ]
  },
  {
   "cell_type": "code",
   "execution_count": 11,
   "id": "40259bd7",
   "metadata": {},
   "outputs": [
    {
     "name": "stdout",
     "output_type": "stream",
     "text": [
      "Name :  Md.Firozzaman \n",
      "Id :  180201130 \n",
      "Dept :  CSE\n"
     ]
    }
   ],
   "source": [
    "def function_name():\n",
    "    print(\"Name : \",\"Md.Firozzaman\",\"\\nId : \",180201130,\"\\nDept : \",\"CSE\")"
   ]
  },
  {
   "cell_type": "markdown",
   "id": "515c47f3",
   "metadata": {},
   "source": [
    "## Calling a Function : \n",
    "### To call a function, use the function name followed by parenthesis."
   ]
  },
  {
   "cell_type": "code",
   "execution_count": 14,
   "id": "89511c18",
   "metadata": {},
   "outputs": [
    {
     "name": "stdout",
     "output_type": "stream",
     "text": [
      "Name :  Md.Firozzaman \n",
      "Id :  180201130 \n",
      "Dept :  CSE\n"
     ]
    }
   ],
   "source": [
    "function_name()"
   ]
  },
  {
   "cell_type": "markdown",
   "id": "ef16114d",
   "metadata": {},
   "source": [
    "## Arguments : \n",
    "\n",
    "### Information can be passed into functions as arguments."
   ]
  },
  {
   "cell_type": "code",
   "execution_count": 29,
   "id": "6c3f03fa",
   "metadata": {},
   "outputs": [
    {
     "name": "stdout",
     "output_type": "stream",
     "text": [
      "Md.Firozzaman\n",
      "180201130\n",
      "CSE\n"
     ]
    }
   ],
   "source": [
    "def args(info):\n",
    "    print(info)\n",
    "args(\"Md.Firozzaman\")\n",
    "args(180201130)\n",
    "args(\"CSE\")"
   ]
  },
  {
   "cell_type": "code",
   "execution_count": 1,
   "id": "116adbf8",
   "metadata": {},
   "outputs": [
    {
     "name": "stdout",
     "output_type": "stream",
     "text": [
      "Name :  Md.Firozzaman \n",
      "Id :  180201130 \n",
      "Dept :  CSE \n",
      "\n",
      "Name :  Redwan Ahmed \n",
      "Id :  180201116 \n",
      "Dept :  CSE \n",
      "\n",
      "Name :  Ratul Roy \n",
      "Id :  180201131 \n",
      "Dept :  CSE \n",
      "\n"
     ]
    }
   ],
   "source": [
    "def info(name,id,dept):\n",
    "    print(\"Name : \",name,\"\\nId : \",id,\"\\nDept : \",dept,\"\\n\")\n",
    "info(\"Md.Firozzaman\",180201130,\"CSE\")\n",
    "info(\"Redwan Ahmed\",180201116,\"CSE\")\n",
    "info(\"Ratul Roy\",180201131,\"CSE\")"
   ]
  },
  {
   "cell_type": "markdown",
   "id": "80ae5e95",
   "metadata": {},
   "source": [
    "## Arbitrary Arguments, *args : \n",
    "### If the number of arguments is unknown, add a * before the parameter name.\n",
    "### This way the function will receive a tuple of arguments, and can access the items accordingly."
   ]
  },
  {
   "cell_type": "code",
   "execution_count": 3,
   "id": "258c19b6",
   "metadata": {},
   "outputs": [
    {
     "name": "stdout",
     "output_type": "stream",
     "text": [
      "('Md.Firozzaman', 180201130, 'CSE')\n",
      "Md.Firozzaman\n"
     ]
    }
   ],
   "source": [
    "def Unknown(*var):\n",
    "    print(var)\n",
    "    print(var[0])\n",
    "Unknown(\"Md.Firozzaman\",180201130,\"CSE\")"
   ]
  },
  {
   "cell_type": "markdown",
   "id": "4aa01cf8",
   "metadata": {},
   "source": [
    "## Keyword Arguments : \n",
    "### We can also send arguments with the key = value syntax."
   ]
  },
  {
   "cell_type": "code",
   "execution_count": 5,
   "id": "6324a05e",
   "metadata": {},
   "outputs": [
    {
     "ename": "TypeError",
     "evalue": "Keyword_Argument() got an unexpected keyword argument 'ar1'",
     "output_type": "error",
     "traceback": [
      "\u001b[1;31m---------------------------------------------------------------------------\u001b[0m",
      "\u001b[1;31mTypeError\u001b[0m                                 Traceback (most recent call last)",
      "\u001b[1;32m~\\AppData\\Local\\Temp/ipykernel_8596/3243117416.py\u001b[0m in \u001b[0;36m<module>\u001b[1;34m\u001b[0m\n\u001b[0;32m      1\u001b[0m \u001b[1;32mdef\u001b[0m \u001b[0mKeyword_Argument\u001b[0m\u001b[1;33m(\u001b[0m\u001b[0marg1\u001b[0m\u001b[1;33m,\u001b[0m\u001b[0marg2\u001b[0m\u001b[1;33m,\u001b[0m\u001b[0marg3\u001b[0m\u001b[1;33m)\u001b[0m\u001b[1;33m:\u001b[0m\u001b[1;33m\u001b[0m\u001b[1;33m\u001b[0m\u001b[0m\n\u001b[0;32m      2\u001b[0m     \u001b[0mprint\u001b[0m\u001b[1;33m(\u001b[0m\u001b[1;34m\"Argument3  : \"\u001b[0m\u001b[1;33m,\u001b[0m\u001b[0marg3\u001b[0m\u001b[1;33m)\u001b[0m\u001b[1;33m\u001b[0m\u001b[1;33m\u001b[0m\u001b[0m\n\u001b[1;32m----> 3\u001b[1;33m \u001b[0mKeyword_Argument\u001b[0m\u001b[1;33m(\u001b[0m\u001b[0mar1\u001b[0m\u001b[1;33m=\u001b[0m\u001b[1;34m\"Md.Firozzaman\"\u001b[0m\u001b[1;33m,\u001b[0m\u001b[0mar2\u001b[0m\u001b[1;33m=\u001b[0m\u001b[1;36m180201130\u001b[0m\u001b[1;33m,\u001b[0m\u001b[0mar3\u001b[0m\u001b[1;33m=\u001b[0m\u001b[1;34m\"CSE\"\u001b[0m\u001b[1;33m)\u001b[0m\u001b[1;33m\u001b[0m\u001b[1;33m\u001b[0m\u001b[0m\n\u001b[0m",
      "\u001b[1;31mTypeError\u001b[0m: Keyword_Argument() got an unexpected keyword argument 'ar1'"
     ]
    }
   ],
   "source": [
    "def Keyword_Argument(arg1,arg2,arg3):\n",
    "    print(\"Argument3  : \",arg3)\n",
    "Keyword_Argument(ar1=\"Md.Firozzaman\",ar2=180201130,ar3=\"CSE\")"
   ]
  },
  {
   "cell_type": "code",
   "execution_count": 6,
   "id": "9a275adb",
   "metadata": {},
   "outputs": [
    {
     "name": "stdout",
     "output_type": "stream",
     "text": [
      "Argument3  :  CSE\n"
     ]
    }
   ],
   "source": [
    "def Keyword_Argument(arg1,arg2,arg3):\n",
    "    print(\"Argument3  : \",arg3)\n",
    "Keyword_Argument(arg1=\"Md.Firozzaman\",arg2=180201130,arg3=\"CSE\")"
   ]
  },
  {
   "cell_type": "code",
   "execution_count": null,
   "id": "d3cf406c",
   "metadata": {},
   "outputs": [],
   "source": []
  }
 ],
 "metadata": {
  "kernelspec": {
   "display_name": "Python 3 (ipykernel)",
   "language": "python",
   "name": "python3"
  },
  "language_info": {
   "codemirror_mode": {
    "name": "ipython",
    "version": 3
   },
   "file_extension": ".py",
   "mimetype": "text/x-python",
   "name": "python",
   "nbconvert_exporter": "python",
   "pygments_lexer": "ipython3",
   "version": "3.9.7"
  }
 },
 "nbformat": 4,
 "nbformat_minor": 5
}
