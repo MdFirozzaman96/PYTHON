{
 "cells": [
  {
   "cell_type": "markdown",
   "id": "953868d5",
   "metadata": {},
   "source": [
    "#              PYTHON STRING"
   ]
  },
  {
   "cell_type": "markdown",
   "id": "51e662a7",
   "metadata": {},
   "source": [
    "## String :\n",
    "\n",
    "Strings in python are surrounded by either single quotation marks, or double quotation marks.\n",
    "\n",
    "'hello' is the same as \"hello\".\n",
    "\n",
    "We can display a string literal with the print() function:"
   ]
  },
  {
   "cell_type": "code",
   "execution_count": 1,
   "id": "320efc37",
   "metadata": {},
   "outputs": [
    {
     "name": "stdout",
     "output_type": "stream",
     "text": [
      "Name : Md.Firozzaman\n",
      "Id : 180201130\n",
      "Department : Computer Science & Engineering\n"
     ]
    }
   ],
   "source": [
    "print(\"Name : Md.Firozzaman\\nId : 180201130\\nDepartment : Computer Science & Engineering\")"
   ]
  },
  {
   "cell_type": "markdown",
   "id": "8da49fdb",
   "metadata": {},
   "source": [
    "### Assign String to a Variable : \n",
    "\n",
    "Assigning a string to a variable is done with the variable name followed by an equal sign and the string:"
   ]
  },
  {
   "cell_type": "code",
   "execution_count": 2,
   "id": "04b23aee",
   "metadata": {},
   "outputs": [
    {
     "name": "stdout",
     "output_type": "stream",
     "text": [
      "Md.Firozzaman\n"
     ]
    }
   ],
   "source": [
    "n=\"Md.Firozzaman\"\n",
    "print(n)"
   ]
  },
  {
   "cell_type": "markdown",
   "id": "4ba7a569",
   "metadata": {},
   "source": [
    "### Multiline Strings : \n",
    "\n",
    "We can assign a multiline string to a variable by using three quotes:"
   ]
  },
  {
   "cell_type": "markdown",
   "id": "9b37ead1",
   "metadata": {},
   "source": [
    "#### Using Three Double Quotes : "
   ]
  },
  {
   "cell_type": "code",
   "execution_count": 10,
   "id": "71e4d2c4",
   "metadata": {},
   "outputs": [
    {
     "name": "stdout",
     "output_type": "stream",
     "text": [
      "BAUST a aisa jibon ta tena bena hoiaa gelo.\n",
      "Vober deser BAUST.Ajob ek BAUST\n"
     ]
    }
   ],
   "source": [
    "a=\"\"\"BAUST a aisa jibon ta tena bena hoiaa gelo.\n",
    "Vober deser BAUST.Ajob ek BAUST\"\"\"\n",
    "print(a)"
   ]
  },
  {
   "cell_type": "markdown",
   "id": "4d4ac86e",
   "metadata": {},
   "source": [
    "#### Using Three Single Quotes : "
   ]
  },
  {
   "cell_type": "code",
   "execution_count": 8,
   "id": "d15e6e29",
   "metadata": {},
   "outputs": [
    {
     "name": "stdout",
     "output_type": "stream",
     "text": [
      "a=\"\"\"BAUST a aisa jibon ta tana bena hoiaa gelo.\n",
      "Vober deser BAUST.Ajob ek jogot BAUST\"\"\"\n",
      "print(a)\n"
     ]
    }
   ],
   "source": [
    "a='''a=\"\"\"BAUST a aisa jibon ta tana bena hoiaa gelo.\n",
    "Vober deser BAUST.Ajob ek jogot BAUST\"\"\"\n",
    "print(a)'''\n",
    "print(a)"
   ]
  },
  {
   "cell_type": "markdown",
   "id": "3f38c2d5",
   "metadata": {},
   "source": [
    "## Strings are Arrays : \n",
    "\n",
    "Python does not have a character data type, a single character is simply a string with a length of 1.\n"
   ]
  },
  {
   "cell_type": "code",
   "execution_count": 13,
   "id": "7e3a71c1",
   "metadata": {},
   "outputs": [
    {
     "name": "stdout",
     "output_type": "stream",
     "text": [
      "M   F   S\n"
     ]
    }
   ],
   "source": [
    "a=\"Md.Firozzaman Sarkar\"\n",
    "print(a[0],\" \",a[3],\" \",a[14])"
   ]
  },
  {
   "cell_type": "markdown",
   "id": "ef88a488",
   "metadata": {},
   "source": [
    "## Looping Through a String : \n",
    "\n",
    "Since strings are arrays, we can loop through the characters in a string, with a for loop."
   ]
  },
  {
   "cell_type": "code",
   "execution_count": 17,
   "id": "cb747d53",
   "metadata": {},
   "outputs": [
    {
     "name": "stdout",
     "output_type": "stream",
     "text": [
      "M\n",
      "d\n",
      ".\n",
      "F\n",
      "i\n",
      "r\n",
      "o\n",
      "z\n",
      "z\n",
      "a\n",
      "m\n",
      "a\n",
      "n\n",
      " \n",
      "S\n",
      "a\n",
      "r\n",
      "k\n",
      "a\n",
      "r\n",
      "\n",
      "\n",
      "M\n",
      "d\n",
      ".\n",
      "F\n",
      "i\n",
      "r\n",
      "o\n",
      "z\n",
      "z\n",
      "a\n",
      "m\n",
      "a\n",
      "n\n",
      " \n",
      "S\n",
      "a\n",
      "r\n",
      "k\n",
      "a\n",
      "r\n"
     ]
    }
   ],
   "source": [
    "a=\"Md.Firozzaman Sarkar\"\n",
    "for x in \"Md.Firozzaman Sarkar\":\n",
    "    print(x)\n",
    "print(\"\\n\")   \n",
    "for x in a:\n",
    "    print(x)"
   ]
  },
  {
   "cell_type": "markdown",
   "id": "f176b2b2",
   "metadata": {},
   "source": [
    "## String Length : \n",
    "\n",
    "To get the length of a string, We have to use len() function : "
   ]
  },
  {
   "cell_type": "code",
   "execution_count": 19,
   "id": "10284d0c",
   "metadata": {},
   "outputs": [
    {
     "name": "stdout",
     "output_type": "stream",
     "text": [
      "The lenght of the string a :  20\n",
      "The lenght of the string b :  1\n"
     ]
    }
   ],
   "source": [
    "a=\"Md.Firozzaman Sarkar\"\n",
    "b=\"F\"\n",
    "print(\"The lenght of the string a : \",len(a))\n",
    "print(\"The lenght of the string b : \",len(b))"
   ]
  },
  {
   "cell_type": "code",
   "execution_count": null,
   "id": "a73eccb9",
   "metadata": {},
   "outputs": [],
   "source": []
  }
 ],
 "metadata": {
  "kernelspec": {
   "display_name": "Python 3 (ipykernel)",
   "language": "python",
   "name": "python3"
  },
  "language_info": {
   "codemirror_mode": {
    "name": "ipython",
    "version": 3
   },
   "file_extension": ".py",
   "mimetype": "text/x-python",
   "name": "python",
   "nbconvert_exporter": "python",
   "pygments_lexer": "ipython3",
   "version": "3.9.7"
  }
 },
 "nbformat": 4,
 "nbformat_minor": 5
}
