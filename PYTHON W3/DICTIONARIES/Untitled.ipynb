{
 "cells": [
  {
   "cell_type": "markdown",
   "id": "a8d786ae",
   "metadata": {},
   "source": [
    "# Python Dictionaries\n",
    "\n",
    "### Dictionary : \n",
    "\n",
    "Dictionaries are used to store data values in key:value pairs.\n",
    "\n",
    "A dictionary is a collection which is ordered*, changeable and do not allow duplicates.\n"
   ]
  },
  {
   "cell_type": "code",
   "execution_count": 14,
   "id": "b2fce879",
   "metadata": {},
   "outputs": [
    {
     "name": "stdout",
     "output_type": "stream",
     "text": [
      "{'Name': 'Md.Firozzaman', 'Id': 180201130, 'Dept': 'CSE', 'Info': ['Md.Firozzaman', 180201130, 'CSE', 'BAUST']}\n",
      "Md.Firozzaman\n",
      "Length of this dictionary :  4\n"
     ]
    }
   ],
   "source": [
    "info={\n",
    "    'Name':\"Md.Firozzaman\",\n",
    "    'Id':180201130,\n",
    "    'Dept':\"CSE\",\n",
    "    'Info':[\"Md.Firozzaman\",180201130,\"CSE\",\"BAUST\"]\n",
    "}\n",
    "print(info)\n",
    "print(info['Name'])\n",
    "print(\"Length of this dictionary : \",len(info))"
   ]
  },
  {
   "cell_type": "markdown",
   "id": "db5e6f14",
   "metadata": {},
   "source": [
    "## Ordered or Unordered?\n",
    "\n",
    "### When we say that dictionaries are ordered, it means that the items have a defined order, and that order will not change.\n",
    "\n",
    "### Unordered means that the items does not have a defined order, you cannot refer to an item by using an index.\n",
    "\n",
    "## Changeable : \n",
    "### Dictionaries are changeable, meaning that we can change, add or remove items after the dictionary has been created."
   ]
  },
  {
   "cell_type": "markdown",
   "id": "beacd174",
   "metadata": {},
   "source": [
    "## Duplicates Not Allowed : \n",
    "\n",
    "### Dictionaries cannot have two items with the same key:"
   ]
  },
  {
   "cell_type": "code",
   "execution_count": 11,
   "id": "c7d208b1",
   "metadata": {},
   "outputs": [
    {
     "name": "stdout",
     "output_type": "stream",
     "text": [
      "{'Brand': 'Ford', 'Model': 'Mustang', 'Year': 2022}\n",
      "3\n"
     ]
    }
   ],
   "source": [
    "Car={\n",
    "    'Brand': \"Ford\",\n",
    "    'Model':\"Mustang\",\n",
    "    'Year' : 1964,\n",
    "    'Year' : 2022\n",
    "}\n",
    "print(Car)\n",
    "print(len(Car))"
   ]
  },
  {
   "cell_type": "markdown",
   "id": "60435378",
   "metadata": {},
   "source": [
    "## Dictionary Items - Data Types\n",
    "\n",
    "### The values in dictionary items can be of any data type:"
   ]
  },
  {
   "cell_type": "code",
   "execution_count": 17,
   "id": "16ada70f",
   "metadata": {},
   "outputs": [
    {
     "name": "stdout",
     "output_type": "stream",
     "text": [
      "{'Name': 'Md.Firozzaman', 'Id': 180201130, 'Dept': 'CSE', 'List': ['Md.Firozzaman', 180201130, 'CSE', 'BAUST'], 'Tuple': ('Md.Firozzaman', 180201130, 'CSE', 'BAUST'), 'Set': {'BAUST', 'CSE', 180201130, 'Md.Firozzaman'}}\n"
     ]
    }
   ],
   "source": [
    "info={\n",
    "    'Name':\"Md.Firozzaman\",\n",
    "    'Id':180201130,\n",
    "    'Dept':\"CSE\",\n",
    "    'List':[\"Md.Firozzaman\",180201130,\"CSE\",\"BAUST\"],\n",
    "    'Tuple':(\"Md.Firozzaman\",180201130,\"CSE\",\"BAUST\"),\n",
    "    'Set':{\"Md.Firozzaman\",180201130,\"CSE\",\"BAUST\",\"Md.Firozzaman\",\"Md.Firozzaman\"}\n",
    "    \n",
    "}\n",
    "print(info)"
   ]
  },
  {
   "cell_type": "code",
   "execution_count": null,
   "id": "c107e0b5",
   "metadata": {},
   "outputs": [],
   "source": []
  }
 ],
 "metadata": {
  "kernelspec": {
   "display_name": "Python 3 (ipykernel)",
   "language": "python",
   "name": "python3"
  },
  "language_info": {
   "codemirror_mode": {
    "name": "ipython",
    "version": 3
   },
   "file_extension": ".py",
   "mimetype": "text/x-python",
   "name": "python",
   "nbconvert_exporter": "python",
   "pygments_lexer": "ipython3",
   "version": "3.9.7"
  }
 },
 "nbformat": 4,
 "nbformat_minor": 5
}
