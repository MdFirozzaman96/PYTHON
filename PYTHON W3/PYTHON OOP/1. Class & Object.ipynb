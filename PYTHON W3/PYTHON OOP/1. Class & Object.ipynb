{
 "cells": [
  {
   "cell_type": "code",
   "execution_count": 1,
   "id": "72f656de",
   "metadata": {},
   "outputs": [
    {
     "name": "stdout",
     "output_type": "stream",
     "text": [
      "5\n"
     ]
    }
   ],
   "source": [
    "class A:\n",
    "    x=5\n",
    "# class A,property x\n",
    "p1=A()\n",
    "print(p1.x)"
   ]
  },
  {
   "cell_type": "code",
   "execution_count": 11,
   "id": "9c137a9a",
   "metadata": {},
   "outputs": [
    {
     "ename": "TypeError",
     "evalue": "myfunc() missing 2 required positional arguments: 'name' and 'age'",
     "output_type": "error",
     "traceback": [
      "\u001b[1;31m---------------------------------------------------------------------------\u001b[0m",
      "\u001b[1;31mTypeError\u001b[0m                                 Traceback (most recent call last)",
      "\u001b[1;32m~\\AppData\\Local\\Temp/ipykernel_14144/2667087050.py\u001b[0m in \u001b[0;36m<module>\u001b[1;34m\u001b[0m\n\u001b[0;32m     10\u001b[0m         \u001b[0mprint\u001b[0m\u001b[1;33m(\u001b[0m\u001b[1;34m\"Age : \"\u001b[0m\u001b[1;33m+\u001b[0m\u001b[0mself\u001b[0m\u001b[1;33m.\u001b[0m\u001b[0mage\u001b[0m\u001b[1;33m)\u001b[0m\u001b[1;33m\u001b[0m\u001b[1;33m\u001b[0m\u001b[0m\n\u001b[0;32m     11\u001b[0m \u001b[0mobj\u001b[0m\u001b[1;33m=\u001b[0m\u001b[0mPerson\u001b[0m\u001b[1;33m(\u001b[0m\u001b[1;34m\"Md.Firozzaman\"\u001b[0m\u001b[1;33m,\u001b[0m\u001b[1;36m26\u001b[0m\u001b[1;33m)\u001b[0m\u001b[1;33m\u001b[0m\u001b[1;33m\u001b[0m\u001b[0m\n\u001b[1;32m---> 12\u001b[1;33m \u001b[0mobj\u001b[0m\u001b[1;33m.\u001b[0m\u001b[0mmyfunc\u001b[0m\u001b[1;33m(\u001b[0m\u001b[1;33m)\u001b[0m\u001b[1;33m\u001b[0m\u001b[1;33m\u001b[0m\u001b[0m\n\u001b[0m",
      "\u001b[1;31mTypeError\u001b[0m: myfunc() missing 2 required positional arguments: 'name' and 'age'"
     ]
    }
   ],
   "source": [
    "class Person:\n",
    "    x=10\n",
    "    _y=20 # private\n",
    "    __z=30 # strongly private\n",
    "    def __init__(self,name,age):\n",
    "        self.name=name\n",
    "        self.age=age\n",
    "    def myfunc(self,name,age):\n",
    "        print(\"Hello my name is  : \"+self.name)\n",
    "        print(\"Age : \"+self.age)\n",
    "obj=Person(\"Md.Firozzaman\",26)\n",
    "obj.myfunc()"
   ]
  },
  {
   "cell_type": "markdown",
   "id": "899c8748",
   "metadata": {},
   "source": [
    "# map(),zip(),enumerate,List comprehension,lambda,iterator,Generator"
   ]
  },
  {
   "cell_type": "markdown",
   "id": "9d540808",
   "metadata": {},
   "source": [
    "## lamda()"
   ]
  },
  {
   "cell_type": "code",
   "execution_count": 15,
   "id": "9ed11dea",
   "metadata": {},
   "outputs": [
    {
     "name": "stdout",
     "output_type": "stream",
     "text": [
      "130\n"
     ]
    }
   ],
   "source": [
    "y = lambda a: a\n",
    "print(y(130))"
   ]
  },
  {
   "cell_type": "code",
   "execution_count": 16,
   "id": "a8c5aaa2",
   "metadata": {},
   "outputs": [
    {
     "name": "stdout",
     "output_type": "stream",
     "text": [
      "30\n"
     ]
    }
   ],
   "source": [
    "m = lambda a,b:a*b\n",
    "print(m(5,6))"
   ]
  },
  {
   "cell_type": "code",
   "execution_count": 17,
   "id": "17fe958a",
   "metadata": {},
   "outputs": [
    {
     "name": "stdout",
     "output_type": "stream",
     "text": [
      "10\n"
     ]
    }
   ],
   "source": [
    "m = lambda a,b,c,d:a+b+c+d\n",
    "print(m(1,2,3,4))"
   ]
  },
  {
   "cell_type": "code",
   "execution_count": 18,
   "id": "4cb83267",
   "metadata": {},
   "outputs": [
    {
     "name": "stdout",
     "output_type": "stream",
     "text": [
      "24\n"
     ]
    }
   ],
   "source": [
    "m = lambda a,b,c,d:a*b*c*d\n",
    "print(m(1,2,3,4))"
   ]
  },
  {
   "cell_type": "markdown",
   "id": "e83410c9",
   "metadata": {},
   "source": [
    "# Numpy,SciPy,Pandas,Matplotlib,Seaborn"
   ]
  },
  {
   "cell_type": "markdown",
   "id": "37188e7e",
   "metadata": {},
   "source": [
    "# Numpy,Pandas \n",
    "### is more important "
   ]
  },
  {
   "cell_type": "code",
   "execution_count": null,
   "id": "6669897b",
   "metadata": {},
   "outputs": [],
   "source": []
  }
 ],
 "metadata": {
  "kernelspec": {
   "display_name": "Python 3 (ipykernel)",
   "language": "python",
   "name": "python3"
  },
  "language_info": {
   "codemirror_mode": {
    "name": "ipython",
    "version": 3
   },
   "file_extension": ".py",
   "mimetype": "text/x-python",
   "name": "python",
   "nbconvert_exporter": "python",
   "pygments_lexer": "ipython3",
   "version": "3.9.7"
  }
 },
 "nbformat": 4,
 "nbformat_minor": 5
}
